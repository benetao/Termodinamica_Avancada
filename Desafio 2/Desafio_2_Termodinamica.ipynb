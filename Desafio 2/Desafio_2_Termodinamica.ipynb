{
 "cells": [
  {
   "cell_type": "markdown",
   "id": "8099c03d-0f38-4f2e-9880-3cdfb4f84d2b",
   "metadata": {},
   "source": [
    "<img src=\"Figuras - Desafio 2/logo1.png\" style=\"width:450px;height:150px\"/>\n",
    "\n",
    "# Ilum Escola de Ciência\n",
    "### Curso: Termodinâmica Avançada\n",
    "### Prof: Amauri Jardim de Paula\n",
    "### Alunos: Gabriel Pereira e Isabela Beneti\n",
    "### Desafio 2"
   ]
  },
  {
   "cell_type": "markdown",
   "id": "a86bd3bd-4b69-4226-bdfb-3d497abb4d51",
   "metadata": {},
   "source": [
    "#\n",
    "## Descrição do desafio\n",
    "O primeiro desafio para solução do problema principal da disciplina envolve:\n",
    "\n",
    "#### **O cálculo de todas as variáveis envolvidas nos processos termodinâmicos que fornecerão energia ao ciclo Rankine.**\n",
    "\n",
    "Padronização: uma tonelada em massa da mistura! --> calcular o volume"
   ]
  },
  {
   "cell_type": "markdown",
   "id": "73d00327-0d04-48e7-b68c-2319531d02be",
   "metadata": {},
   "source": [
    "## Problemas\n",
    "\n",
    "#### As tabelas de variáveis termodinâmicas são dadas para condições padrão de temperatura e pressão. No caso da temperatura, se uma determinada reação química for usada em uma temperatura diferente da padrão, correções devem ser feitas.\n",
    "\n",
    "##### A. Volume da mistura de líquidos.\n",
    "##### B. Determinação da separação da mistura.\n",
    "##### C. Determinação da evaporação da mistura enriquecida em etanol.\n",
    "##### D. Formação de Hidrogênio a partir da água. (Extra)"
   ]
  },
  {
   "cell_type": "markdown",
   "id": "9c31bef0-b2f8-4f36-a5b6-32573953f0dd",
   "metadata": {},
   "source": [
    "#\n",
    "## Resoluções"
   ]
  },
  {
   "cell_type": "markdown",
   "id": "cb2bb085-a42c-4750-80d1-16c6c354a27a",
   "metadata": {},
   "source": [
    "### Importações"
   ]
  },
  {
   "cell_type": "code",
   "execution_count": 1,
   "id": "29c5b3d0-bb10-4fa9-884e-c3e4d4146a61",
   "metadata": {},
   "outputs": [],
   "source": [
    "# Rode essa célula antes de rodar as seguintes, pois elas se utilizam das seguintes bibliotecas:\n",
    "import pandas as pd\n",
    "import numpy as np\n",
    "import matplotlib.pyplot as plt\n",
    "from funcoes_desafio_2 import *\n",
    "import imageio"
   ]
  },
  {
   "cell_type": "markdown",
   "id": "ce408149-1f7f-44f2-b31a-e7a468aad8e2",
   "metadata": {},
   "source": [
    "### Esquema do Curso e Desafios"
   ]
  },
  {
   "cell_type": "markdown",
   "id": "daf5bbd5-34db-432f-8bc0-7e840cd300fc",
   "metadata": {
    "tags": []
   },
   "source": [
    "<center>\n",
    "  <img src='./Figuras - Desafio 2/Esquema do Curso.png' style=\"width:900px;height:500px\"/>\n",
    "    \n",
    "    Figura 1: esquema do curso e desafios\n",
    "</center>"
   ]
  },
  {
   "cell_type": "markdown",
   "id": "55114702-62f1-42b8-a64c-2b606fba6251",
   "metadata": {},
   "source": [
    "### Problema A"
   ]
  },
  {
   "cell_type": "markdown",
   "id": "5ed4cb85-0351-4d4a-b622-7229519fbb74",
   "metadata": {},
   "source": [
    "#### Objetivo: \n",
    "Calcular o volume da mistura de dois líquidos\n",
    "\n",
    "#### O que temos: \n",
    "- Razão volumétrica da mistura\n",
    "- Densidade de cada substância\n",
    "- Tabela com densidade da substância por razão em massa e temperatura\n",
    "\n",
    "#### O que iremos fazer:\n",
    "- Uma função que calcula a razão em massa da mistura a partir da razão volumétrica e da densidade de cada substância\n",
    "- Encontrar a densidade da mistura levando em conta a razão em massa da mistura e da temperatura (ambiente).\n",
    "- Uma função que calcula, a partir da densidade da mistura e da massa total, o volume total da mistura."
   ]
  },
  {
   "cell_type": "markdown",
   "id": "19dcee6d-e6e3-4b48-9498-dffe5b55d2a7",
   "metadata": {},
   "source": [
    "Em sala de aula, o professor Amauri estabeleceu uma massa total padrão da mistura: uma tonelada. A partir disso, podemos chegar ao volume da nossa mistura se tivermos o valor da densidade da nossa mistura na razão de etanol que escolhemos. \n",
    "\n",
    "Esse valor pode ser encontrado na literatura, como mostrado na tabela 1, mas ele é dado em função da razão **em massa** de etanol na mistura. Entretanto, nós só temos as razões **em volume** (40%) e **molar** (0.17). Logo, se faz necessário calcular a razão **em massa** de etanol na mistura, a partir da porcentagem em volume.\n",
    "\n",
    "Para tanto, desenvolvemos a função \"porcentagem_em_massa\" que, a partir dos valores da razão (porcentagem) **em volume do etanol**, determinada no Desafio 1 como 40%, e das densidades do etanol e da água, retorna a razão em porcentagem de etanol na solução:"
   ]
  },
  {
   "cell_type": "code",
   "execution_count": 2,
   "id": "1a68e103-70fa-4ed5-9061-202faa09d6e6",
   "metadata": {},
   "outputs": [],
   "source": [
    "PORCENTAGEM_MASSA_ETANOL = porcentagem_em_massa(40, 0.789, 0.9982)"
   ]
  },
  {
   "cell_type": "markdown",
   "id": "a1bdbb79-7800-4bcc-95d1-0311b4d72c9a",
   "metadata": {},
   "source": [
    "Portanto, a porcentagem de masssa de etanol na nossa mistura é de cerca de 34.5%.\n",
    "\n",
    "Agora, vamos para a literatura encontrar a densidade da mistura de etanol e água exatamente nessa proporção:"
   ]
  },
  {
   "cell_type": "markdown",
   "id": "7993afeb-523c-42b2-9cee-410f8e7bba76",
   "metadata": {},
   "source": [
    "<center>\n",
    "  <img src='./Figuras - Desafio 2/Tabela_densidade.png' style=\"width:1200px;height:200px\"/>\n",
    "    \n",
    "    Tabela 1: densidade da mistura de etanol com água nas concentrações de 34.0% até 34.9% v/v de etanol\n",
    "</center>\n",
    "\n",
    "Fonte: [HandyMath](https://www.handymath.com/cgi-bin/ethanolwater3.cgi?submit=Entry)"
   ]
  },
  {
   "cell_type": "markdown",
   "id": "13cd8e0d-b299-4a8e-88b3-95117d220dd1",
   "metadata": {},
   "source": [
    "Conforme a tabela, a densidade da mistura de água e etanol com etanol a 34.5% m/m é 0.94587\n",
    "\n",
    "Por fim, basta dividir o valor da massa da mistura (definida, pelo professor, como 1000 kg) por essa densidade- conta que é feita pela função \"volume_total_mistura\"."
   ]
  },
  {
   "cell_type": "code",
   "execution_count": 3,
   "id": "dbc3cfdc-3e8e-429c-bafb-a08ef26d3f4b",
   "metadata": {},
   "outputs": [],
   "source": [
    "DENSIDADE_ETANOL_AGUA = 0.94587"
   ]
  },
  {
   "cell_type": "code",
   "execution_count": 4,
   "id": "4733eb2a-c84b-4dfc-b5fe-72a553ac7a75",
   "metadata": {},
   "outputs": [],
   "source": [
    "VOLUME_TOTAL_MISTURA = volume_total_mistura(DENSIDADE_ETANOL_AGUA, 1000)"
   ]
  },
  {
   "cell_type": "markdown",
   "id": "ec5cac31-8a7e-4dc9-8ec8-cea4017f24f6",
   "metadata": {},
   "source": [
    "Chegamos, enfim, o volume da mistura: aproximadamente 1057,23 Litros (ou dm³)!"
   ]
  },
  {
   "cell_type": "markdown",
   "id": "8b6df3da-2422-42ef-a68c-0f35cb0b9481",
   "metadata": {},
   "source": [
    "##\n",
    "### Problema B"
   ]
  },
  {
   "cell_type": "markdown",
   "id": "ddcbc8ac-4a4e-4c04-9c6d-c00340fdbe23",
   "metadata": {},
   "source": [
    "#### Objetivo\n",
    "Determinar a separação da mistura e as condições de temperatura e pressão de vapor durante o processo\n",
    "\n",
    "#### O que temos:\n",
    "- Um dataframe com fotos os dados de um diagrama de fases, medido experimentalmente\n",
    "- A fração molar de etanol na mistura (0.17)\n",
    "\n",
    "#### O que iremos fazer\n",
    "- Criar uma função que, a partir da fração molar presente, encontra a temperatura de ebulição da substância mais volátil no diagrama de fases da mistura e, a partir dessa temperatura, encontra a nova composição do vapor de acordo com o diagrama de fases da mistura.\n",
    "\n",
    "- Repetir o processo por vezes o suficiente para separar as duas misturas.\n",
    "\n",
    "- Plotar o resultado em um gráfico dinâmico."
   ]
  },
  {
   "cell_type": "markdown",
   "id": "eac8d849-0252-4fe7-9e26-47d6f297e8fe",
   "metadata": {},
   "source": [
    "O método escolhido para separar a água e o etanol da mistura foi a **destilação fracionada**. A destilação fracionada é um método de separação de misturas líquidas baseado nas diferenças de pontos de ebulição dos componentes da mistura comumente utilizado quando a diferença da temperetura de ebulição dos componentes é menor que 80°C, como é o caso do nosso problema.\n",
    "\n",
    "A partir de um diagrama de fases,  é possível prever o comportamento da mistura durante a destilação fracionada e estabelecer as condições de temperatura e pressão de vapor do processo, como é mostrado no gif 1:"
   ]
  },
  {
   "cell_type": "markdown",
   "id": "60f1b88d-359f-49ed-8ac6-712da56de52d",
   "metadata": {},
   "source": [
    "<center>\n",
    "  <img src='./Figuras - Desafio 2/explicacao_destilacao.gif' style=\"width:450px;height:400px\"/>\n",
    "    \n",
    "    Gif 1: processo de destilação fracionada representado num diagrama de fases\n",
    "</center>"
   ]
  },
  {
   "cell_type": "markdown",
   "id": "44f87d96-fb03-4e81-9c70-fc9c3ed16e83",
   "metadata": {},
   "source": [
    "Em primeiro lugar, vamos importar e ler o dataframe que contem os dados do diagrama de fases:"
   ]
  },
  {
   "cell_type": "code",
   "execution_count": 5,
   "id": "5692550c-c186-4457-b452-cae06c71d4b2",
   "metadata": {},
   "outputs": [
    {
     "data": {
      "text/html": [
       "<div>\n",
       "<style scoped>\n",
       "    .dataframe tbody tr th:only-of-type {\n",
       "        vertical-align: middle;\n",
       "    }\n",
       "\n",
       "    .dataframe tbody tr th {\n",
       "        vertical-align: top;\n",
       "    }\n",
       "\n",
       "    .dataframe thead th {\n",
       "        text-align: right;\n",
       "    }\n",
       "</style>\n",
       "<table border=\"1\" class=\"dataframe\">\n",
       "  <thead>\n",
       "    <tr style=\"text-align: right;\">\n",
       "      <th></th>\n",
       "      <th>Mole Fraction</th>\n",
       "      <th>C</th>\n",
       "      <th>Mole Fraction.1</th>\n",
       "    </tr>\n",
       "  </thead>\n",
       "  <tbody>\n",
       "    <tr>\n",
       "      <th>0</th>\n",
       "      <td>0.000</td>\n",
       "      <td>100.00</td>\n",
       "      <td>0.000</td>\n",
       "    </tr>\n",
       "    <tr>\n",
       "      <th>1</th>\n",
       "      <td>0.002</td>\n",
       "      <td>99.65</td>\n",
       "      <td>0.021</td>\n",
       "    </tr>\n",
       "    <tr>\n",
       "      <th>2</th>\n",
       "      <td>0.004</td>\n",
       "      <td>98.95</td>\n",
       "      <td>0.043</td>\n",
       "    </tr>\n",
       "    <tr>\n",
       "      <th>3</th>\n",
       "      <td>0.006</td>\n",
       "      <td>98.55</td>\n",
       "      <td>0.062</td>\n",
       "    </tr>\n",
       "    <tr>\n",
       "      <th>4</th>\n",
       "      <td>0.008</td>\n",
       "      <td>98.05</td>\n",
       "      <td>0.085</td>\n",
       "    </tr>\n",
       "  </tbody>\n",
       "</table>\n",
       "</div>"
      ],
      "text/plain": [
       "   Mole Fraction       C  Mole Fraction.1\n",
       "0          0.000  100.00            0.000\n",
       "1          0.002   99.65            0.021\n",
       "2          0.004   98.95            0.043\n",
       "3          0.006   98.55            0.062\n",
       "4          0.008   98.05            0.085"
      ]
     },
     "execution_count": 5,
     "metadata": {},
     "output_type": "execute_result"
    }
   ],
   "source": [
    "ARQUIVO_EXCEL = \"Dados - Desafio 2/Diagrama de Fases - Etanol e Água.xlsx\" # Chamando o arquivo excel com dados experimentais obtido no site Home Distiller\n",
    "NOME_DA_PLANILHA_O = \"Sheet1\" # Definindo a planila do arquivo xlsx que será utilizada\n",
    "LINHA_CABECALHO = 1  # Definindo quantas linhas de cabeçalho existem, considerando que a primeira linha é a número 0\n",
    "COLUNAS_CONTENDO_OS_DADOS = [1, 4, 7] # Definindo quais colunas utilizaremos para montar o data frame, considerando que a primeira coluna é a número 0\n",
    "\n",
    "df_et_h2o = pd.read_excel( # Criando o Data Frame do diagrama de fases da mistura escolhida (etanol + água)\n",
    "    ARQUIVO_EXCEL,\n",
    "    sheet_name=NOME_DA_PLANILHA_O,\n",
    "    header=LINHA_CABECALHO,\n",
    "    usecols=COLUNAS_CONTENDO_OS_DADOS,\n",
    ")\n",
    "\n",
    "df_et_h2o.head()"
   ]
  },
  {
   "cell_type": "markdown",
   "id": "00940368-46a9-4fb6-8500-51eec5638432",
   "metadata": {},
   "source": [
    "Agora, é necessário desenvolver uma função que realiza o processo mostrado no gif 1, retornando as devidas temperaturas de ebulição e o equilíbrio líquido-vapor de cada temperatura.\n",
    "A função \"destilacao_fracionada\" foi desenvolvida para esse fim e retorna as coordenadas dos pontos críticos a partir do dataframe do diagrama de fases, do número de etapas de destilação fracionada e da concentração molar inicial de etanol na mistura."
   ]
  },
  {
   "cell_type": "code",
   "execution_count": 6,
   "id": "59b6fbc8-f32f-4e2b-adbd-8e30d42fd674",
   "metadata": {},
   "outputs": [],
   "source": [
    "lista_pontos= destilacao_fracionada(df_et_h2o, 4, 0.17)"
   ]
  },
  {
   "cell_type": "code",
   "execution_count": 7,
   "id": "709f1594-54c8-4893-ac3c-61c6a8fdc4b5",
   "metadata": {},
   "outputs": [
    {
     "data": {
      "text/plain": [
       "[[0.171, 83.96],\n",
       " [0.513, 83.96],\n",
       " [0.513, 79.6832],\n",
       " [0.661, 79.6832],\n",
       " [0.661, 78.767],\n",
       " [0.733, 78.767],\n",
       " [0.733, 78.475],\n",
       " [0.773, 78.475]]"
      ]
     },
     "execution_count": 7,
     "metadata": {},
     "output_type": "execute_result"
    }
   ],
   "source": [
    "lista_pontos"
   ]
  },
  {
   "cell_type": "markdown",
   "id": "bc48b37b-f7ee-46cd-a19b-256238db42a0",
   "metadata": {},
   "source": [
    "Portanto, foi escolhida uma destilação fracionada de 4 etapas, em que, a partir da mistura inicial, foi possível obter uma mistura enriquecida em etanol, com fração molar de etanol de 0.773, e, admitindo a ausência de perdas significativas da quantidade de água, foi obtida, por consequência, uma amostra de água pura. A mistura enriquecida em etanol será evaporada, ao passo que a água pura será utilizada para a produção de hidrogênio."
   ]
  },
  {
   "cell_type": "markdown",
   "id": "ba5d0609-997f-4a54-9a98-2931e0044073",
   "metadata": {},
   "source": [
    "Para tornar o processo de destilação mais didático, desenovlvemos o código abaixo para criar um gif que mostra as etapas da separação:"
   ]
  },
  {
   "cell_type": "code",
   "execution_count": 8,
   "id": "0c52a897-f39f-4982-a10f-66341704ffcb",
   "metadata": {},
   "outputs": [],
   "source": [
    "# Utilizando a função \"caminho\", criamos \"pontos intermediários\" entre os pontos críticos obtidos acima, para que o gif ficasse mais \"fuído\"\n",
    "PASSO_X = 0.005\n",
    "PASSO_Y = PASSO_X*20 # O passo em x difere do passo em y devido à escala dos eixos\n",
    "\n",
    "lista_final = caminho(lista_pontos, PASSO_X, PASSO_Y) "
   ]
  },
  {
   "cell_type": "code",
   "execution_count": 9,
   "id": "f6ca5e9f-1341-4ce6-b1ac-b81a1f41a626",
   "metadata": {},
   "outputs": [
    {
     "data": {
      "image/png": "[encoded data removed]",
      "text/plain": [
       "<Figure size 432x288 with 1 Axes>"
      ]
     },
     "metadata": {
      "needs_background": "light"
     },
     "output_type": "display_data"
    }
   ],
   "source": [
    "# Plotamos o diagrama de fases com os pontos críticos e intermediários\n",
    "fig = plt.figure()\n",
    "ax1 = fig.add_subplot(111)\n",
    "df_et_h2o.plot('Mole Fraction','C',legend=True, label = \"Temperatura de Ebulição\", ax=ax1, kind = 'line', color = 'black') # Plotando Temperatura de ebulição\n",
    "df_et_h2o.plot('Mole Fraction.1','C',legend=True, label = \"Composição do Vapor\", ax=ax1, kind = 'line', color = 'gray') # Plotando composição do vapor\n",
    "x = [ponto[0] for ponto in lista_final]\n",
    "y = [ponto[1] for ponto in lista_final]\n",
    "plt.scatter(x, y)\n",
    "plt.title('Diagrama de Fases - Etanol e Água') # Definindo título do gráfico\n",
    "plt.xlabel('Fração Molar de Etanol') # Definindo legendas dos eixos\n",
    "plt.ylabel('Temperatura (°C)')\n",
    "#plt.ylim(75, 90)\n",
    "plt.show() # Plotando o diagrama de fases da mistura escolhida (etanol + água)"
   ]
  },
  {
   "cell_type": "code",
   "execution_count": 10,
   "id": "926ece1c-a4c5-4b57-b0df-92c6cbaadb38",
   "metadata": {},
   "outputs": [],
   "source": [
    "# Transformamos as tuplas retornadas pela função \"destilacao_fracionada\", que contêm as coordenadas dos pontos críticos, em duas listas\n",
    "#x = [ponto[0] for ponto in lista_final]\n",
    "#y = [ponto[1] for ponto in lista_final]"
   ]
  },
  {
   "cell_type": "code",
   "execution_count": 11,
   "id": "54865eb2-0591-4ced-9847-aed3e7b1ca5d",
   "metadata": {
    "tags": []
   },
   "outputs": [],
   "source": [
    "# Iteramos a função \"create_frame\", que cria um frame, para criar todos os frames\n",
    "#for t in range(len(lista_final)):\n",
    "#    create_frame(t, x, y, df_et_h2o)"
   ]
  },
  {
   "cell_type": "code",
   "execution_count": 12,
   "id": "24bdf98d-08b3-462e-b758-c892058e4495",
   "metadata": {},
   "outputs": [],
   "source": [
    "# Salvamos frames e colocando em lista, para criar o gif\n",
    "#frames = []\n",
    "#for t in range(len(lista_final)):\n",
    "#    image = imageio.imread(f'./Figuras - Desafio 2/img_{t}.png')\n",
    "#    frames.append(image)"
   ]
  },
  {
   "cell_type": "code",
   "execution_count": 13,
   "id": "534dae50-7abd-4a48-9905-6c8ced51c031",
   "metadata": {},
   "outputs": [],
   "source": [
    "# Criamos e salvando o gif!!!\n",
    "#imageio.mimsave('./Figuras - Desafio 2/example.gif', # output gif\n",
    "#                frames,          # array of input frames\n",
    "#                fps = 50)         # optional: frames per second"
   ]
  },
  {
   "cell_type": "markdown",
   "id": "045175d5-aade-4c58-b75d-8c6e516517d3",
   "metadata": {},
   "source": [
    "<center>\n",
    "  <img src='./Figuras - Desafio 2/example.gif' style=\"width:500px;height:400px\"/>\n",
    "    \n",
    "    Gif 2: processo de destilação fracionada da nossa mistura\n",
    "</center>  "
   ]
  },
  {
   "cell_type": "markdown",
   "id": "538105e7-0741-49d6-979f-c11e737b0d69",
   "metadata": {},
   "source": [
    "Agora você pode ver, de maneira dinâmica, como a destilação fracionada da nossa mistura de água com etanol 40% m/m ocorre!\n",
    "\n",
    "Percebe-se que, a partir de 4 etapas, as coordenadas dos pontos param de variar. No entanto, não conseguimos alcançar a pureza do etanol (que seria a fração molar \"1\"). Afinal, a mistura de álcool etílico + água é azeotrópica e, por isso, possui esse comportamento em altas concentrações de etanol."
   ]
  },
  {
   "cell_type": "markdown",
   "id": "c856ac89-d7fd-4d60-be7d-a1e09693a848",
   "metadata": {},
   "source": [
    "A não-idealidade da mistura se dá a partir de seu azeotrópo, ou seja, existe um limite em relação à fração molar de etanol obtido a partir de uma destilação fracionada, dessa forma, invariavelmente, teremos que trabalhar com uma mistura de etanol e água, mas com uma fração molar de 0.8 de etanol."
   ]
  },
  {
   "cell_type": "code",
   "execution_count": 14,
   "id": "5b2f2a22-a88e-4f52-b8fb-1b2b2d426e0d",
   "metadata": {
    "jupyter": {
     "source_hidden": true
    },
    "tags": []
   },
   "outputs": [
    {
     "name": "stderr",
     "output_type": "stream",
     "text": [
      "C:\\JupyterLab\\GitHub\\Termodinamica_Avancada\\Desafio 2\\funcoes_desafio_2.py:174: RuntimeWarning: divide by zero encountered in log\n",
      "  return -(R*(x*np.log(x)+a*np.log(a)))\n",
      "C:\\JupyterLab\\GitHub\\Termodinamica_Avancada\\Desafio 2\\funcoes_desafio_2.py:174: RuntimeWarning: invalid value encountered in double_scalars\n",
      "  return -(R*(x*np.log(x)+a*np.log(a)))\n"
     ]
    },
    {
     "data": {
      "image/png": "[encoded data removed]",
      "text/plain": [
       "<Figure size 432x288 with 1 Axes>"
      ]
     },
     "metadata": {
      "needs_background": "light"
     },
     "output_type": "display_data"
    }
   ],
   "source": [
    "y=[]\n",
    "x = [i / 100 for i in range(1, 101)]\n",
    "for i in x:\n",
    "    y.append(delta_S_mistura(i))\n",
    "fig = plt.figure()\n",
    "plt.plot(x, y)\n",
    "plt.title('Gráfico de fração molar por variação de entropia') # Definindo título do gráfico\n",
    "plt.xlabel('Fração Molar de Etanol') # Definindo legendas dos eixos\n",
    "plt.ylabel('Variação de Entropia')\n",
    "plt.show() # Plotando o gráfico de fração molar por variação de entropia"
   ]
  },
  {
   "cell_type": "markdown",
   "id": "dbb0978c-18ee-4041-8998-a2f276dc3420",
   "metadata": {},
   "source": [
    "\n"
   ]
  },
  {
   "cell_type": "markdown",
   "id": "ce54b4cb-4fd9-48f4-85a8-5d77a25e4bd0",
   "metadata": {},
   "source": [
    "### Problema C"
   ]
  },
  {
   "cell_type": "markdown",
   "id": "aead8e38-91ea-4d1f-9eb3-10809bfe7783",
   "metadata": {},
   "source": [
    "#### Objetivo\n",
    "\n",
    "Determinar a temperatura e a energia utilizadas para a evaporação da mistura enriquecida em álcool."
   ]
  },
  {
   "cell_type": "markdown",
   "id": "a5102fd7-2d41-4b92-bf58-35dafe652f6b",
   "metadata": {},
   "source": [
    "#### O que temos:\n",
    "- Volume da mistura enriquecida em Etanol\n",
    "- Pressão de vapor por temperatura da Água e do Etanol separadamente\n",
    "- Fração Molar do Etanol na mistura\n",
    "- Volume total\n",
    "- Massa Molar\n",
    "\n",
    "#### O que iremos fazer\n",
    "- Encontrar as pressões de vapor por temperatura da água e do etanol separados\n",
    "\n",
    "- Encontrar a pressão de vapor por temperatura da mistura pela lei de raoult\n",
    "\n",
    "- Utilizar a fórmula com calor latente para calcular o gasto energético da evaporação."
   ]
  },
  {
   "cell_type": "markdown",
   "id": "24c80dd0-366e-4c26-8fe5-50567b0ebd57",
   "metadata": {},
   "source": [
    "Devido à não-idealidade da mistura enriquecida em etanol, a definição da evaporação dessa mistura, se dá a partir de uma pressão de vapor específica para a mistura. Como esses dados experimentais não foram encontrados e a mistura possui uma fração molar de etanol muito próxima ao etanol puro, foi utilizada a lei de Raoult para aproximar a pressão de vapor da mistura em função da temperatura, a partir da pressão de vapor das duas substâncias puras e de suas frações molares.\n",
    "\n",
    "O processo de evaporação se dará em pressão constante à 1 atm. É possível pensar, experimentalmente, em um balão contendo a mistura líquida, ao aumentar a temperatura, a substância irá evaporar, sendo que, devido à alta compressibilidade do balão, o seu volume irá se alterar e a pressão se manterá aproximadamente aproximadamente à 1 atm. Portanto, será utilizada uma temperatura em específico que possibilita a evaporação total da substância, essa, será a temperatura correspondente à pressão de vapor igual a 1 atm. A partir dos valores de pressão de valor e de temperatura da mudança de fase, é possível calcular o gasto energético desse processo termodinâmico pela equação de Clapeyron. Para tal, será necessário, também, a variação de volume molar."
   ]
  },
  {
   "cell_type": "code",
   "execution_count": 15,
   "id": "8e3d6b44-669a-4c1a-857e-f72f7c74d8c5",
   "metadata": {},
   "outputs": [
    {
     "data": {
      "text/html": [
       "<div>\n",
       "<style scoped>\n",
       "    .dataframe tbody tr th:only-of-type {\n",
       "        vertical-align: middle;\n",
       "    }\n",
       "\n",
       "    .dataframe tbody tr th {\n",
       "        vertical-align: top;\n",
       "    }\n",
       "\n",
       "    .dataframe thead th {\n",
       "        text-align: right;\n",
       "    }\n",
       "</style>\n",
       "<table border=\"1\" class=\"dataframe\">\n",
       "  <thead>\n",
       "    <tr style=\"text-align: right;\">\n",
       "      <th></th>\n",
       "      <th>T [K]</th>\n",
       "      <th>P [Pa] - H2O</th>\n",
       "      <th>P [Pa] - EtOH</th>\n",
       "    </tr>\n",
       "  </thead>\n",
       "  <tbody>\n",
       "    <tr>\n",
       "      <th>0</th>\n",
       "      <td>293.15</td>\n",
       "      <td>2400.0</td>\n",
       "      <td>5786.0</td>\n",
       "    </tr>\n",
       "    <tr>\n",
       "      <th>1</th>\n",
       "      <td>303.15</td>\n",
       "      <td>4266.0</td>\n",
       "      <td>10454.0</td>\n",
       "    </tr>\n",
       "    <tr>\n",
       "      <th>2</th>\n",
       "      <td>313.15</td>\n",
       "      <td>7333.0</td>\n",
       "      <td>17877.0</td>\n",
       "    </tr>\n",
       "    <tr>\n",
       "      <th>3</th>\n",
       "      <td>323.15</td>\n",
       "      <td>12332.0</td>\n",
       "      <td>29456.0</td>\n",
       "    </tr>\n",
       "    <tr>\n",
       "      <th>4</th>\n",
       "      <td>333.15</td>\n",
       "      <td>19932.0</td>\n",
       "      <td>46839.0</td>\n",
       "    </tr>\n",
       "    <tr>\n",
       "      <th>5</th>\n",
       "      <td>343.15</td>\n",
       "      <td>31224.0</td>\n",
       "      <td>72273.0</td>\n",
       "    </tr>\n",
       "  </tbody>\n",
       "</table>\n",
       "</div>"
      ],
      "text/plain": [
       "    T [K]  P [Pa] - H2O  P [Pa] - EtOH\n",
       "0  293.15        2400.0         5786.0\n",
       "1  303.15        4266.0        10454.0\n",
       "2  313.15        7333.0        17877.0\n",
       "3  323.15       12332.0        29456.0\n",
       "4  333.15       19932.0        46839.0\n",
       "5  343.15       31224.0        72273.0"
      ]
     },
     "execution_count": 15,
     "metadata": {},
     "output_type": "execute_result"
    }
   ],
   "source": [
    "ARQUIVO_EXCEL = \"Dados - Desafio 2/Pressão de Vapor - Etanol e Água.xlsx\" # Chamando o arquivo excel com dados experimentais obtido no site Home Distiller\n",
    "NOME_DA_PLANILHA_O = \"Planilha1\" # Definindo a planila do arquivo xlsx que será utilizada\n",
    "LINHA_CABECALHO = 0  # Definindo quantas linhas de cabeçalho existem, considerando que a primeira linha é a número 0\n",
    "COLUNAS_CONTENDO_OS_DADOS = [0, 1, 2] # Definindo quais colunas utilizaremos para montar o data frame, considerando que a primeira coluna é a número 0\n",
    "\n",
    "df_pv = pd.read_excel( # Criando o Data Frame do diagrama de fases da mistura escolhida (etanol + água)\n",
    "    ARQUIVO_EXCEL,\n",
    "    sheet_name=NOME_DA_PLANILHA_O,\n",
    "    header=LINHA_CABECALHO,\n",
    "    usecols=COLUNAS_CONTENDO_OS_DADOS,\n",
    ")\n",
    "\n",
    "df_pv[:][0:6]"
   ]
  },
  {
   "cell_type": "code",
   "execution_count": 16,
   "id": "2ebb68be-2b2c-4eec-bdb3-3b1c4d10625f",
   "metadata": {},
   "outputs": [
    {
     "name": "stderr",
     "output_type": "stream",
     "text": [
      "c:\\venv\\ilumpy\\lib\\site-packages\\IPython\\core\\interactiveshell.py:3441: RankWarning: Polyfit may be poorly conditioned\n",
      "  exec(code_obj, self.user_global_ns, self.user_ns)\n",
      "c:\\venv\\ilumpy\\lib\\site-packages\\IPython\\core\\interactiveshell.py:3441: RankWarning: Polyfit may be poorly conditioned\n",
      "  exec(code_obj, self.user_global_ns, self.user_ns)\n"
     ]
    }
   ],
   "source": [
    "# Dados de entrada (x e y)\n",
    "x = np.array(df_pv['T [K]'][0:6])\n",
    "y1 = np.array(df_pv['P [Pa] - H2O'][0:6])\n",
    "y2 = np.array(df_pv['P [Pa] - EtOH'][0:6])\n",
    "\n",
    "# Coeficientes do polinômio de grau 6\n",
    "coefs1 = np.polyfit(x, y1, 6)\n",
    "coefs2 = np.polyfit(x, y2, 6)\n",
    "\n",
    "# Polinômio gerado\n",
    "p1 = np.poly1d(coefs1)\n",
    "p2 = np.poly1d(coefs2)\n",
    "\n",
    "# Valores interpolados\n",
    "xp = np.linspace(270, 370, 100)\n",
    "yp1 = p1(xp)\n",
    "yp2 = p2(xp)"
   ]
  },
  {
   "cell_type": "code",
   "execution_count": 17,
   "id": "00c838fd-b723-4d96-9c6d-734962fa3f1d",
   "metadata": {},
   "outputs": [
    {
     "data": {
      "image/png": "[encoded data removed]",
      "text/plain": [
       "<Figure size 432x288 with 1 Axes>"
      ]
     },
     "metadata": {
      "needs_background": "light"
     },
     "output_type": "display_data"
    }
   ],
   "source": [
    "x1 = lista_pontos[-1][0]\n",
    "\n",
    "# lei de raoult\n",
    "pt = p2*x1 + p1*(1-x1)\n",
    "\n",
    "ypt = pt(xp)\n",
    "\n",
    "TEMPERATURA_EVAPORACAO = metodo_bisseccao(pt, 101325, [300, 360]) # K\n",
    "\n",
    "plt.plot(x, y1, 'o', label='Pontos - Água')\n",
    "plt.plot(x, y2, 'o', label='Pontos - Etanol')\n",
    "plt.plot(TEMPERATURA_EVAPORACAO, 101325, 'o', label='Ponto de Evaporação')\n",
    "plt.plot(xp, yp1, label='Interpolação Polinomial - Água')\n",
    "plt.plot(xp, yp2, label='Interpolação Polinomial - Etanol')\n",
    "plt.plot(xp, ypt, label='Interpolação Polinomial - Mistura')\n",
    "plt.legend()\n",
    "plt.show()"
   ]
  },
  {
   "cell_type": "code",
   "execution_count": 18,
   "id": "48ca8174-9b96-436b-a519-3b705a8e6928",
   "metadata": {},
   "outputs": [
    {
     "name": "stdout",
     "output_type": "stream",
     "text": [
      "A temperatura escolhida para a evaporação foi 81.54 °C e o gasto energético foi de 1045.62 kJ/mol.\n"
     ]
    }
   ],
   "source": [
    "PRESSAO_DE_VAPOR = 1 # atm/K\n",
    "MASSA_MOLAR_ETANOL = 46.07 #g/mol\n",
    "MASSA_MOLAR_AGUA = 18 #g/mol\n",
    "\n",
    "PORCENTAGEM_MASSA_ETANOL_ENRIQUECIDO = conversor_frac_molar_para_porc_massa(x1, MASSA_MOLAR_ETANOL, MASSA_MOLAR_AGUA)\n",
    "MASSA_ETANOL = PORCENTAGEM_MASSA_ETANOL_ENRIQUECIDO*10000 #g\n",
    "MASSA_AGUA = (100 - PORCENTAGEM_MASSA_ETANOL_ENRIQUECIDO)*10000 #g\n",
    "\n",
    "VOLUME_MOLAR_MISTURA_LIQUIDA = V_m_l((VOLUME_TOTAL_MISTURA/2), MASSA_ETANOL, MASSA_AGUA, MASSA_MOLAR_ETANOL, MASSA_MOLAR_AGUA) # L/mol\n",
    "VOLUME_MOLAR_GAS = V_m_g_ideal(TEMPERATURA_EVAPORACAO, PRESSAO_DE_VAPOR) # L/mol\n",
    "DELTA_VOLUME_MOLAR = VOLUME_MOLAR_GAS - VOLUME_MOLAR_MISTURA_LIQUIDA # L/mol\n",
    "\n",
    "CALOR_LATENTE = calor_latente_eq_clapeyron(PRESSAO_DE_VAPOR, TEMPERATURA_EVAPORACAO, DELTA_VOLUME_MOLAR) # J/mol\n",
    "\n",
    "print(f'A temperatura escolhida para a evaporação foi {round(TEMPERATURA_EVAPORACAO - 273.15, 2)} °C e o gasto energético foi de {round(CALOR_LATENTE/1000, 2)} kJ/mol.')"
   ]
  },
  {
   "cell_type": "markdown",
   "id": "e4c569fb-9ea3-4c28-8c2b-cd9c8ceae4e2",
   "metadata": {},
   "source": [
    "### Problema D"
   ]
  },
  {
   "cell_type": "markdown",
   "id": "1c8f5783-3b56-4a8d-be45-9391ee1e1a1d",
   "metadata": {},
   "source": [
    "#### Objetivo:\n",
    "Produzir gás hidrogênio a partir da parcela de água separada na destilação e estimar o gasto energético da produção."
   ]
  },
  {
   "cell_type": "markdown",
   "id": "ba021e4e-f171-4dbc-b462-4ae66adf9e5f",
   "metadata": {},
   "source": [
    "#### O que temos:\n",
    "- Volume de água obtido após a destilação fracionada\n",
    "\n",
    "#### O que iremos fazer:\n",
    "- Pesquisar, na literatura, o rendimento da produção de hidrogênio verde e o seu gasto energético."
   ]
  },
  {
   "cell_type": "markdown",
   "id": "7450be01-1ab3-426f-870b-517aa2829d21",
   "metadata": {},
   "source": [
    "Water Splitting é uma técnica de obtenção de hidrogênio verde a partir da água, o qual consiste em uma separação da molécula de $H_2O$ em $H_2$ e $O_2$. A forma mais comum de realizar essa separação se dá por meio da eletrólise da água, em que são um catodo, idealmente de Platina, e um anodo, idealmente Óxido de Platina, são utilizados para, a partir da aplicação de uma diferença de potencial, formarem, respectivamente, o Hidrogênio e o Oxigênio. Em um processo real, o rendimento da eletrólise está em torno de 75%, portanto, é possível calcular a massa de Hidrogênio, em kg, obtida através da eletrólise de x kg de água como:"
   ]
  },
  {
   "cell_type": "code",
   "execution_count": 19,
   "id": "cb6df961-0040-40e2-9769-47ef936ef78d",
   "metadata": {},
   "outputs": [
    {
     "data": {
      "text/plain": [
       "41.66666666666667"
      ]
     },
     "execution_count": 19,
     "metadata": {},
     "output_type": "execute_result"
    }
   ],
   "source": [
    "MASSA_AGUA = 500 # kg\n",
    "RENDIMENTO = \n",
    "\n",
    "massa_hidrogenio(500, 0.75)"
   ]
  },
  {
   "cell_type": "markdown",
   "id": "db9c8d86-4b38-4acb-b444-15cf171fb764",
   "metadata": {},
   "source": [
    "Portanto, a partir da quantidade de água obtida através da destilação fracionada, foi possível produzir 41.66 kg de Hidrogênio, o qual será utilizado, juntamente à mistura enriquecida em etanol, para transferir energia ao ciclo de Rankine."
   ]
  },
  {
   "cell_type": "markdown",
   "id": "16adb269-9e42-413e-84b4-607de8e8c0f5",
   "metadata": {},
   "source": []
  },
  {
   "cell_type": "markdown",
   "id": "1e08c257-5b47-4673-907b-83d0ad2ff09a",
   "metadata": {
    "tags": []
   },
   "source": [
    "# Acesse o repositório do projeto!"
   ]
  },
  {
   "cell_type": "markdown",
   "id": "31fab411-3ae3-4ade-8bb6-e7c553bfb76b",
   "metadata": {},
   "source": [
    "Para melhor compreensão de cade etapa e de cada escolha do nosso projeto, acesse, clicando aqui ou no link abaixo, nosso [Repositório do Github](https://github.com/benetao/Termodinamica_Avancada), onde estão armazenados todos os notebooks e informações referentes aos desafios:\n",
    "\n",
    "https://github.com/benetao/Termodinamica_Avancada"
   ]
  },
  {
   "cell_type": "markdown",
   "id": "3e8ab7f3-0ddd-403a-8af1-5e082e970760",
   "metadata": {},
   "source": [
    "#\n",
    "## Referências\n",
    "- Livro An Introduction to Thermal Physics, Daniel V. Schroeder, Editora Addison-Wesley.\n",
    "- Livro Physical Chemistry: A Molecular Approach, Donald A. McQuarrie, Editora Univesity Science Books.\n",
    "- Livro Richard Feynman, Lições de Física Vol 1, Editora Bookman.\n",
    "        Capítulo de Teoria Cinética dos Gases"
   ]
  }
 ],
 "metadata": {
  "kernelspec": {
   "display_name": "ilumpy",
   "language": "python",
   "name": "ilumpy"
  },
  "language_info": {
   "codemirror_mode": {
    "name": "ipython",
    "version": 3
   },
   "file_extension": ".py",
   "mimetype": "text/x-python",
   "name": "python",
   "nbconvert_exporter": "python",
   "pygments_lexer": "ipython3",
   "version": "3.9.7"
  }
 },
 "nbformat": 4,
 "nbformat_minor": 5
}
