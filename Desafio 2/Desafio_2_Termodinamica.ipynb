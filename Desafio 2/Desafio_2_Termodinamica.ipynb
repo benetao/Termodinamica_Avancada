{
 "cells": [
  {
   "cell_type": "markdown",
   "id": "8099c03d-0f38-4f2e-9880-3cdfb4f84d2b",
   "metadata": {},
   "source": [
    "<img src=\"Figuras - Desafio 2/logo1.png\" style=\"width:450px;height:150px\"/>\n",
    "\n",
    "# Ilum Escola de Ciência\n",
    "### Curso: Termodinâmica Avançada\n",
    "### Prof: Amauri Jardim de Paula\n",
    "### Alunos: Gabriel Pereira e Isabela Beneti\n",
    "### Desafio 2"
   ]
  },
  {
   "cell_type": "markdown",
   "id": "a86bd3bd-4b69-4226-bdfb-3d497abb4d51",
   "metadata": {},
   "source": [
    "#\n",
    "## Descrição do desafio\n",
    "O primeiro desafio para solução do problema principal da disciplina envolve:\n",
    "\n",
    "#### **O cálculo de todas as variáveis envolvidas nos processos termodinâmicos que fornecerão energia ao ciclo Rankine.**\n",
    "\n",
    "Padronização: uma tonelada em massa da mistura! --> calcular o volume"
   ]
  },
  {
   "cell_type": "markdown",
   "id": "73d00327-0d04-48e7-b68c-2319531d02be",
   "metadata": {},
   "source": [
    "## Problemas\n",
    "\n",
    "#### As tabelas de variáveis termodinâmicas são dadas para condições padrão de temperatura e pressão. No caso da temperatura, se uma determinada reação química for usada em uma temperatura diferente da padrão, correções devem ser feitas.\n",
    "\n",
    "##### A. Volume da mistura de líquidos.\n",
    "##### B. Determinação da separação da mistura.\n",
    "##### C. Determinação da não-idealidade das misturas.\n",
    "##### D. Determinação da temperatura mínima de ebulição da mistura.\n",
    "##### E. Determinação de potenciais termodinâmicos da reação de cobustão.\n"
   ]
  },
  {
   "cell_type": "markdown",
   "id": "9c31bef0-b2f8-4f36-a5b6-32573953f0dd",
   "metadata": {},
   "source": [
    "#\n",
    "## Resoluções"
   ]
  },
  {
   "cell_type": "markdown",
   "id": "cb2bb085-a42c-4750-80d1-16c6c354a27a",
   "metadata": {},
   "source": [
    "### Importações"
   ]
  },
  {
   "cell_type": "code",
   "execution_count": 1,
   "id": "29c5b3d0-bb10-4fa9-884e-c3e4d4146a61",
   "metadata": {},
   "outputs": [],
   "source": [
    "# Rode essa célula antes de rodar as seguintes, pois elas se utilizam das seguintes bibliotecas:\n",
    "import pandas as pd\n",
    "import numpy as np\n",
    "import matplotlib.pyplot as plt\n",
    "from funcoes_desafio_2 import porcentagem_em_massa\n",
    "from funcoes_desafio_2 import volume_total_mistura\n",
    "from funcoes_desafio_2 import destilacao_fracionada\n",
    "from funcoes_desafio_2 import caminho\n",
    "from funcoes_desafio_2 import create_frame\n",
    "from funcoes_desafio_2 import delta_S_mistura\n",
    "import imageio"
   ]
  },
  {
   "cell_type": "markdown",
   "id": "55114702-62f1-42b8-a64c-2b606fba6251",
   "metadata": {},
   "source": [
    "### Problema A"
   ]
  },
  {
   "cell_type": "markdown",
   "id": "daf5bbd5-34db-432f-8bc0-7e840cd300fc",
   "metadata": {
    "tags": []
   },
   "source": [
    "<center>\n",
    "  <img src='./Figuras - Desafio 2/Esquema do Curso.png' style=\"width:900px;height:500px\"/>\n",
    "    \n",
    "    Figura 1: esquema do curso e desafios\n",
    "</center>"
   ]
  },
  {
   "cell_type": "markdown",
   "id": "5ed4cb85-0351-4d4a-b622-7229519fbb74",
   "metadata": {},
   "source": [
    "#### Objetivo: \n",
    "Calcular o volume da mistura de dois líquidos\n",
    "\n",
    "#### O que temos: \n",
    "- Razão volumétrica da mistura\n",
    "- Densidade de cada substância\n",
    "- Tabela com densidade da substância por razão em massa e temperatura\n",
    "\n",
    "#### O que iremos fazer:\n",
    "- Uma função que calcula a razão em massa da mistura a partir da razão volumétrica e da densidade de cada substância\n",
    "- Encontrar a densidade da mistura levando em conta a razão em massa da mistura e da temperatura (ambiente).\n",
    "- Uma função que calcula, a partir da densidade da mistura e da massa total, o volume total da mistura."
   ]
  },
  {
   "cell_type": "markdown",
   "id": "19dcee6d-e6e3-4b48-9498-dffe5b55d2a7",
   "metadata": {},
   "source": [
    "Em sala de aula, o professor Amauri estabeleceu uma massa total padrão da mistura: uma tonelada. A partir disso, podemos chegar ao volume da nossa mistura se tivermos o valor da densidade da nossa mistura na razão de etanol que escolhemos. \n",
    "\n",
    "Esse valor pode ser encontrado na literatura, como mostrado na tabela 1, mas ele é dado em função da razão **em massa** de etanol na mistura. Entretanto, nós só temos as razões **em volume** (40%) e **molar** (0.17). Logo, se faz necessário calcular a razão **em massa** de etanol na mistura, a partir da porcentagem em volume.\n",
    "\n",
    "Para tanto, desenvolvemos a função \"porcentagem_em_massa\" que, a partir dos valores da razão (porcentagem) **em volume do etanol**, determinada no Desafio 1 como 40%, e das densidades do etanol e da água, retorna a razão em porcentagem de etanol na solução:"
   ]
  },
  {
   "cell_type": "code",
   "execution_count": 2,
   "id": "1a68e103-70fa-4ed5-9061-202faa09d6e6",
   "metadata": {},
   "outputs": [
    {
     "data": {
      "text/plain": [
       "34.50990683637318"
      ]
     },
     "execution_count": 2,
     "metadata": {},
     "output_type": "execute_result"
    }
   ],
   "source": [
    "porcentagem_em_massa(40, 0.789, 0.9982)"
   ]
  },
  {
   "cell_type": "markdown",
   "id": "a1bdbb79-7800-4bcc-95d1-0311b4d72c9a",
   "metadata": {},
   "source": [
    "Portanto, a porcentagem de masssa de etanol na nossa mistura é de cerca de 34.5%.\n",
    "\n",
    "Agora, vamos para a literatura encontrar a densidade da mistura de etanol e água exatamente nessa proporção:"
   ]
  },
  {
   "cell_type": "markdown",
   "id": "7993afeb-523c-42b2-9cee-410f8e7bba76",
   "metadata": {},
   "source": [
    "<center>\n",
    "  <img src='./Figuras - Desafio 2/Tabela_densidade.png' style=\"width:1200px;height:200px\"/>\n",
    "    \n",
    "    Tabela 1: densidade da mistura de etanol com água nas concentrações de 34.0% até 34.9% v/v de etanol\n",
    "</center>\n",
    "\n",
    "Fonte: [HandyMath](https://www.handymath.com/cgi-bin/ethanolwater3.cgi?submit=Entry)"
   ]
  },
  {
   "cell_type": "markdown",
   "id": "13cd8e0d-b299-4a8e-88b3-95117d220dd1",
   "metadata": {},
   "source": [
    "Conforme a tabela, a densidade da mistura de água e etanol com etanol a 34.5% m/m é 0.94587\n",
    "\n",
    "Por fim, basta dividir o valor da massa da mistura (definida, pelo professor, como 1000 kg) por essa densidade- conta que é feita pela função \"volume_total_mistura\"."
   ]
  },
  {
   "cell_type": "code",
   "execution_count": 3,
   "id": "dbc3cfdc-3e8e-429c-bafb-a08ef26d3f4b",
   "metadata": {},
   "outputs": [],
   "source": [
    "DENSIDADE_ETANOL_AGUA = 0.94587"
   ]
  },
  {
   "cell_type": "code",
   "execution_count": 4,
   "id": "4733eb2a-c84b-4dfc-b5fe-72a553ac7a75",
   "metadata": {},
   "outputs": [
    {
     "data": {
      "text/plain": [
       "1057.2277374269192"
      ]
     },
     "execution_count": 4,
     "metadata": {},
     "output_type": "execute_result"
    }
   ],
   "source": [
    "volume_total_mistura(DENSIDADE_ETANOL_AGUA, 1000)"
   ]
  },
  {
   "cell_type": "markdown",
   "id": "ec5cac31-8a7e-4dc9-8ec8-cea4017f24f6",
   "metadata": {},
   "source": [
    "Chegamos, enfim, o volume da mistura: aproximadamente 1057,23 Litros (ou dm³)!"
   ]
  },
  {
   "cell_type": "markdown",
   "id": "8b6df3da-2422-42ef-a68c-0f35cb0b9481",
   "metadata": {},
   "source": [
    "##\n",
    "### Problema B"
   ]
  },
  {
   "cell_type": "markdown",
   "id": "ddcbc8ac-4a4e-4c04-9c6d-c00340fdbe23",
   "metadata": {},
   "source": [
    "#### Objetivo\n",
    "Determinar a separação da mistura e as condições de temperatura e pressão de vapor durante o processo\n",
    "\n",
    "#### O que temos:\n",
    "- Um dataframe com fotos os dados de um diagrama de fases, medido experimentalmente\n",
    "- A fração molar de etanol na mistura (0.17)\n",
    "\n",
    "#### O que iremos fazer\n",
    "- Criar uma função que, a partir da fração molar presente, encontra a temperatura de ebulição da substância mais volátil no diagrama de fases da mistura e, a partir dessa temperatura, encontra a nova composição do vapor de acordo com o diagrama de fases da mistura.\n",
    "\n",
    "- Repetir o processo por vezes o suficiente para separar as duas misturas.\n",
    "\n",
    "- Plotar o resultado em um gráfico dinâmico."
   ]
  },
  {
   "cell_type": "markdown",
   "id": "eac8d849-0252-4fe7-9e26-47d6f297e8fe",
   "metadata": {},
   "source": [
    "O método escolhido para separar a água e o etanol da mistura foi a **destilação fracionada**. A destilação fracionada é um método de separação de misturas líquidas que é baseado nas diferenças de pontos de ebulição dos componentes da mistura e que é comumente utilizado quando a diferença da temperetura de ebulição dos componentes é menor que 80°C, como é o caso do nosso problema.\n",
    "\n",
    "A partir de um diagrama de fases,  é possível prever o comportamento da mistura durante a destilação fracionada e estabelecer as condições de temperatura e pressão de vapor do processo, como é mostrado no gif 1:"
   ]
  },
  {
   "cell_type": "markdown",
   "id": "60f1b88d-359f-49ed-8ac6-712da56de52d",
   "metadata": {},
   "source": [
    "<center>\n",
    "  <img src='./Figuras - Desafio 2/explicacao_destilacao.gif' style=\"width:450px;height:400px\"/>\n",
    "    \n",
    "    Gif 1: processo de destilação fracionada representado num diagrama de fases\n",
    "</center>"
   ]
  },
  {
   "cell_type": "markdown",
   "id": "44f87d96-fb03-4e81-9c70-fc9c3ed16e83",
   "metadata": {},
   "source": [
    "Em primeiro lugar, vamos importar e ler o dataframe que contem os dados do diagrama de fases:"
   ]
  },
  {
   "cell_type": "code",
   "execution_count": 5,
   "id": "5692550c-c186-4457-b452-cae06c71d4b2",
   "metadata": {},
   "outputs": [
    {
     "data": {
      "text/html": [
       "<div>\n",
       "<style scoped>\n",
       "    .dataframe tbody tr th:only-of-type {\n",
       "        vertical-align: middle;\n",
       "    }\n",
       "\n",
       "    .dataframe tbody tr th {\n",
       "        vertical-align: top;\n",
       "    }\n",
       "\n",
       "    .dataframe thead th {\n",
       "        text-align: right;\n",
       "    }\n",
       "</style>\n",
       "<table border=\"1\" class=\"dataframe\">\n",
       "  <thead>\n",
       "    <tr style=\"text-align: right;\">\n",
       "      <th></th>\n",
       "      <th>Mole Fraction</th>\n",
       "      <th>C</th>\n",
       "      <th>Mole Fraction.1</th>\n",
       "    </tr>\n",
       "  </thead>\n",
       "  <tbody>\n",
       "    <tr>\n",
       "      <th>0</th>\n",
       "      <td>0.000</td>\n",
       "      <td>100.00</td>\n",
       "      <td>0.000</td>\n",
       "    </tr>\n",
       "    <tr>\n",
       "      <th>1</th>\n",
       "      <td>0.002</td>\n",
       "      <td>99.65</td>\n",
       "      <td>0.021</td>\n",
       "    </tr>\n",
       "    <tr>\n",
       "      <th>2</th>\n",
       "      <td>0.004</td>\n",
       "      <td>98.95</td>\n",
       "      <td>0.043</td>\n",
       "    </tr>\n",
       "    <tr>\n",
       "      <th>3</th>\n",
       "      <td>0.006</td>\n",
       "      <td>98.55</td>\n",
       "      <td>0.062</td>\n",
       "    </tr>\n",
       "    <tr>\n",
       "      <th>4</th>\n",
       "      <td>0.008</td>\n",
       "      <td>98.05</td>\n",
       "      <td>0.085</td>\n",
       "    </tr>\n",
       "  </tbody>\n",
       "</table>\n",
       "</div>"
      ],
      "text/plain": [
       "   Mole Fraction       C  Mole Fraction.1\n",
       "0          0.000  100.00            0.000\n",
       "1          0.002   99.65            0.021\n",
       "2          0.004   98.95            0.043\n",
       "3          0.006   98.55            0.062\n",
       "4          0.008   98.05            0.085"
      ]
     },
     "execution_count": 5,
     "metadata": {},
     "output_type": "execute_result"
    }
   ],
   "source": [
    "ARQUIVO_EXCEL = \"Dados - Desafio 2/Diagrama de Fases - Etanol e Água.xlsx\" # Chamando o arquivo excel com dados experimentais obtido no site Home Distiller\n",
    "NOME_DA_PLANILHA_O = \"Sheet1\" # Definindo a planila do arquivo xlsx que será utilizada\n",
    "LINHA_CABECALHO = 1  # Definindo quantas linhas de cabeçalho existem, considerando que a primeira linha é a número 0\n",
    "COLUNAS_CONTENDO_OS_DADOS = [1, 4, 7] # Definindo quais colunas utilizaremos para montar o data frame, considerando que a primeira coluna é a número 0\n",
    "\n",
    "df_et_h2o = pd.read_excel( # Criando o Data Frame do diagrama de fases da mistura escolhida (etanol + água)\n",
    "    ARQUIVO_EXCEL,\n",
    "    sheet_name=NOME_DA_PLANILHA_O,\n",
    "    header=LINHA_CABECALHO,\n",
    "    usecols=COLUNAS_CONTENDO_OS_DADOS,\n",
    ")\n",
    "\n",
    "df_et_h2o.head()"
   ]
  },
  {
   "cell_type": "markdown",
   "id": "00940368-46a9-4fb6-8500-51eec5638432",
   "metadata": {},
   "source": [
    "Agora, é necessário desenvolver uma função que realiza o processo mostrado no gif 1, retornando as devidas temperaturas de ebulição e o equilíbrio líquido-vapor de cada temperatura.\n",
    "A função \"destilacao_fracionada\" foi desenvolvida para esse fim e retorna as coordenadas dos pontos críticos a partir do dataframe do diagrama de fases, do número de etapas de destilação fracionada e da concentração molar inicial de etanol na mistura."
   ]
  },
  {
   "cell_type": "code",
   "execution_count": 6,
   "id": "59b6fbc8-f32f-4e2b-adbd-8e30d42fd674",
   "metadata": {},
   "outputs": [],
   "source": [
    "lista_pontos= destilacao_fracionada(df_et_h2o, 4, 0.17)"
   ]
  },
  {
   "cell_type": "code",
   "execution_count": 7,
   "id": "709f1594-54c8-4893-ac3c-61c6a8fdc4b5",
   "metadata": {},
   "outputs": [
    {
     "data": {
      "text/plain": [
       "[[0.171, 83.96],\n",
       " [0.513, 83.96],\n",
       " [0.513, 79.6832],\n",
       " [0.661, 79.6832],\n",
       " [0.661, 78.767],\n",
       " [0.733, 78.767],\n",
       " [0.733, 78.475],\n",
       " [0.773, 78.475]]"
      ]
     },
     "execution_count": 7,
     "metadata": {},
     "output_type": "execute_result"
    }
   ],
   "source": [
    "lista_pontos"
   ]
  },
  {
   "cell_type": "markdown",
   "id": "ba5d0609-997f-4a54-9a98-2931e0044073",
   "metadata": {},
   "source": [
    "Para tornar o processo de destilação mais didático, desenovlvemos o código abaixo para criar um gif que mostra as etapas da separação:"
   ]
  },
  {
   "cell_type": "code",
   "execution_count": 8,
   "id": "0c52a897-f39f-4982-a10f-66341704ffcb",
   "metadata": {},
   "outputs": [],
   "source": [
    "# Utilizando a função \"caminho\", criamos \"pontos intermediários\" entre os pontos críticos obtidos acima, para que o gif ficasse mais \"fuído\"\n",
    "PASSO_X = 0.005\n",
    "PASSO_Y = PASSO_X*20 # O passo em x difere do passo em y devido à escala dos eixos\n",
    "\n",
    "lista_final = caminho(lista_pontos, PASSO_X, PASSO_Y) "
   ]
  },
  {
   "cell_type": "code",
   "execution_count": 9,
   "id": "f6ca5e9f-1341-4ce6-b1ac-b81a1f41a626",
   "metadata": {},
   "outputs": [
    {
     "data": {
      "image/png": "[encoded data removed]",
      "text/plain": [
       "<Figure size 432x288 with 1 Axes>"
      ]
     },
     "metadata": {
      "needs_background": "light"
     },
     "output_type": "display_data"
    }
   ],
   "source": [
    "# Plotamos o diagrama de fases com os pontos críticos e intermediários\n",
    "fig = plt.figure()\n",
    "ax1 = fig.add_subplot(111)\n",
    "df_et_h2o.plot('Mole Fraction','C',legend=True, label = \"Temperatura de Ebulição\", ax=ax1, kind = 'line', color = 'black') # Plotando Temperatura de ebulição\n",
    "df_et_h2o.plot('Mole Fraction.1','C',legend=True, label = \"Composição do Vapor\", ax=ax1, kind = 'line', color = 'gray') # Plotando composição do vapor\n",
    "x = [ponto[0] for ponto in lista_final]\n",
    "y = [ponto[1] for ponto in lista_final]\n",
    "plt.scatter(x, y)\n",
    "plt.title('Diagrama de Fases - Etanol e Água') # Definindo título do gráfico\n",
    "plt.xlabel('Fração Molar de Etanol') # Definindo legendas dos eixos\n",
    "plt.ylabel('Temperatura (°C)')\n",
    "#plt.ylim(75, 90)\n",
    "plt.show() # Plotando o diagrama de fases da mistura escolhida (etanol + água)"
   ]
  },
  {
   "cell_type": "code",
   "execution_count": 10,
   "id": "926ece1c-a4c5-4b57-b0df-92c6cbaadb38",
   "metadata": {},
   "outputs": [],
   "source": [
    "# Transformamos as tuplas retornadas pela função \"destilacao_fracionada\", que contêm as coordenadas dos pontos críticos, em duas listas\n",
    "x = [ponto[0] for ponto in lista_final]\n",
    "y = [ponto[1] for ponto in lista_final]"
   ]
  },
  {
   "cell_type": "code",
   "execution_count": 11,
   "id": "54865eb2-0591-4ced-9847-aed3e7b1ca5d",
   "metadata": {},
   "outputs": [],
   "source": [
    "# Iteramos a função \"create_frame\", que cria um frame, para criar todos os frames\n",
    "for t in range(len(lista_final)):\n",
    "    create_frame(t, x, y, df_et_h2o)"
   ]
  },
  {
   "cell_type": "code",
   "execution_count": 12,
   "id": "24bdf98d-08b3-462e-b758-c892058e4495",
   "metadata": {},
   "outputs": [],
   "source": [
    "# Salvamos frames e colocando em lista, para criar o gif\n",
    "frames = []\n",
    "for t in range(len(lista_final)):\n",
    "    image = imageio.imread(f'./Figuras - Desafio 2/img_{t}.png')\n",
    "    frames.append(image)"
   ]
  },
  {
   "cell_type": "code",
   "execution_count": 13,
   "id": "534dae50-7abd-4a48-9905-6c8ced51c031",
   "metadata": {},
   "outputs": [],
   "source": [
    "# Criamos e salvando o gif!!!\n",
    "imageio.mimsave('./Figuras - Desafio 2/example.gif', # output gif\n",
    "                frames,          # array of input frames\n",
    "                fps = 50)         # optional: frames per second"
   ]
  },
  {
   "cell_type": "markdown",
   "id": "045175d5-aade-4c58-b75d-8c6e516517d3",
   "metadata": {},
   "source": [
    "<center>\n",
    "  <img src='./Figuras - Desafio 2/example.gif' style=\"width:500px;height:400px\"/>\n",
    "    \n",
    "    Gif 2: processo de destilação fracionada da nossa mistura\n",
    "</center>  "
   ]
  },
  {
   "cell_type": "markdown",
   "id": "538105e7-0741-49d6-979f-c11e737b0d69",
   "metadata": {},
   "source": [
    "Agora você pode ver, de maneira dinâmica, como a destilação fracionada da nossa mistura de água com etanol 40% m/m ocorre!\n",
    "\n",
    "Percebe-se que, a partir de 4 etapas, as coordenadas dos pontos param de variar. No entanto, não conseguimos alcançar a pureza do etanol (que seria a fração molar \"1\"). Afinal, a mistura de álcool etílico + água é azeotrópica e, por isso, possui esse comportamento em altas concentrações de etanol."
   ]
  },
  {
   "cell_type": "markdown",
   "id": "dbb0978c-18ee-4041-8998-a2f276dc3420",
   "metadata": {},
   "source": [
    "\n"
   ]
  },
  {
   "cell_type": "markdown",
   "id": "a4ac30fc-1f8f-4f99-95eb-c71811a04b91",
   "metadata": {
    "tags": []
   },
   "source": [
    "### Problema C"
   ]
  },
  {
   "cell_type": "code",
   "execution_count": 16,
   "id": "5b2f2a22-a88e-4f52-b8fb-1b2b2d426e0d",
   "metadata": {},
   "outputs": [
    {
     "data": {
      "image/png": "[encoded data removed]",
      "text/plain": [
       "<Figure size 432x288 with 1 Axes>"
      ]
     },
     "metadata": {
      "needs_background": "light"
     },
     "output_type": "display_data"
    }
   ],
   "source": [
    "y=[]\n",
    "x = [i / 100 for i in range(1, 101)]\n",
    "for i in x:\n",
    "    y.append(delta_S_mistura(i))\n",
    "fig = plt.figure()\n",
    "plt.plot(x, y)\n",
    "plt.title('Gráfico de fração molar por variação de entropia') # Definindo título do gráfico\n",
    "plt.xlabel('Fração Molar de Etanol') # Definindo legendas dos eixos\n",
    "plt.ylabel('Variação de Entropia')\n",
    "plt.show() # Plotando o gráfico de ração molar por variação de entropia"
   ]
  },
  {
   "cell_type": "code",
   "execution_count": null,
   "id": "8debfab0-0666-4831-85ba-19f2c97fe43c",
   "metadata": {},
   "outputs": [],
   "source": []
  },
  {
   "cell_type": "code",
   "execution_count": null,
   "id": "66446935-9773-4964-963c-29784e8181b5",
   "metadata": {},
   "outputs": [],
   "source": []
  },
  {
   "cell_type": "code",
   "execution_count": null,
   "id": "a8847680-639a-428f-9460-14a954aaae21",
   "metadata": {},
   "outputs": [],
   "source": []
  },
  {
   "cell_type": "markdown",
   "id": "ce54b4cb-4fd9-48f4-85a8-5d77a25e4bd0",
   "metadata": {},
   "source": [
    "### Problema D"
   ]
  },
  {
   "cell_type": "code",
   "execution_count": null,
   "id": "1263d5e1-161e-4710-94be-5a1668b4227c",
   "metadata": {},
   "outputs": [],
   "source": []
  },
  {
   "cell_type": "code",
   "execution_count": null,
   "id": "0ec8a8f9-6eca-487e-9158-2f8fcccffde0",
   "metadata": {},
   "outputs": [],
   "source": []
  },
  {
   "cell_type": "markdown",
   "id": "1e08c257-5b47-4673-907b-83d0ad2ff09a",
   "metadata": {
    "tags": []
   },
   "source": [
    "# Acesse o repositório do projeto!"
   ]
  },
  {
   "cell_type": "markdown",
   "id": "31fab411-3ae3-4ade-8bb6-e7c553bfb76b",
   "metadata": {},
   "source": [
    "Para melhor compreensão de cade etapa e de cada escolha do nosso projeto, acesse, clicando aqui ou no link abaixo, nosso [Repositório do Github](https://github.com/benetao/Termodinamica_Avancada), onde estão armazenados todos os notebooks e informações referentes aos desafios:\n",
    "\n",
    "https://github.com/benetao/Termodinamica_Avancada"
   ]
  },
  {
   "cell_type": "markdown",
   "id": "3e8ab7f3-0ddd-403a-8af1-5e082e970760",
   "metadata": {},
   "source": [
    "#\n",
    "## Referências\n",
    "- Livro An Introduction to Thermal Physics, Daniel V. Schroeder, Editora Addison-Wesley.\n",
    "- Livro Physical Chemistry: A Molecular Approach, Donald A. McQuarrie, Editora Univesity Science Books.\n",
    "- Livro Richard Feynman, Lições de Física Vol 1, Editora Bookman.\n",
    "        Capítulo de Teoria Cinética dos Gases"
   ]
  }
 ],
 "metadata": {
  "kernelspec": {
   "display_name": "ilumpy",
   "language": "python",
   "name": "ilumpy"
  },
  "language_info": {
   "codemirror_mode": {
    "name": "ipython",
    "version": 3
   },
   "file_extension": ".py",
   "mimetype": "text/x-python",
   "name": "python",
   "nbconvert_exporter": "python",
   "pygments_lexer": "ipython3",
   "version": "3.9.7"
  }
 },
 "nbformat": 4,
 "nbformat_minor": 5
}
