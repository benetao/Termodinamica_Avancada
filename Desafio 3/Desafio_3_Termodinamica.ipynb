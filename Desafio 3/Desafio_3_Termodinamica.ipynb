{
 "cells": [
  {
   "cell_type": "markdown",
   "id": "8099c03d-0f38-4f2e-9880-3cdfb4f84d2b",
   "metadata": {},
   "source": [
    "<img src=\"Figuras - Desafio 3/logo.png\" style=\"width:1450px;height:250px\"/>\n",
    "\n",
    "# Ilum Escola de Ciência\n",
    "### Curso: Termodinâmica Avançada\n",
    "### Prof: Amauri Jardim de Paula\n",
    "### Alunos: *********\n",
    "### Desafio 3"
   ]
  },
  {
   "cell_type": "markdown",
   "id": "a86bd3bd-4b69-4226-bdfb-3d497abb4d51",
   "metadata": {},
   "source": [
    "#\n",
    "## Descrição do desafio\n",
    "O terceiro desafio para solução do problema principal da disciplina envolve:\n",
    "\n",
    "#### **A combustão dos compostos escolhidos**"
   ]
  },
  {
   "cell_type": "markdown",
   "id": "73d00327-0d04-48e7-b68c-2319531d02be",
   "metadata": {},
   "source": [
    "## Problemas\n",
    "\n",
    "#### Para solucionar o desafio, alguns aspectos importantes devem ser considerados.\n",
    "\n",
    "##### A. Os potenciais termodinâmicos (energia interna, entalpia, energia livre de Gibbs) envolvidos na reação de combustão.\n",
    "##### B. A entropia envolvida na reação de combustão.\n",
    "##### C.A equação de estado a ser usada para o sistema."
   ]
  },
  {
   "cell_type": "markdown",
   "id": "9c31bef0-b2f8-4f36-a5b6-32573953f0dd",
   "metadata": {},
   "source": [
    "#\n",
    "## Resoluções"
   ]
  },
  {
   "cell_type": "markdown",
   "id": "cb2bb085-a42c-4750-80d1-16c6c354a27a",
   "metadata": {},
   "source": [
    "### Importações"
   ]
  },
  {
   "cell_type": "code",
   "execution_count": 8,
   "id": "6d082b4e-c8f5-461b-ab13-7ba482e76e3c",
   "metadata": {},
   "outputs": [
    {
     "name": "stdout",
     "output_type": "stream",
     "text": [
      "7491.209029737356\n"
     ]
    }
   ],
   "source": [
    "N_MOLS_ETANOL = MASSA_ETANOL_MISTURA*1000/MASSA_MOLAR_ETANOL\n",
    "\n",
    "print(N_MOLS_ETANOL)"
   ]
  },
  {
   "cell_type": "code",
   "execution_count": 9,
   "id": "ef533d07-9102-48a2-90ab-bce24effe4c7",
   "metadata": {},
   "outputs": [
    {
     "name": "stdout",
     "output_type": "stream",
     "text": [
      "-10592075.306317171\n"
     ]
    }
   ],
   "source": [
    "ENTALPIA_DE_COMBUSTAO_ETANOL = ENTALPIA_DE_COMBUSTAO_ETANOL_MOL*N_MOLS_ETANOL\n",
    "\n",
    "print(ENTALPIA_DE_COMBUSTAO_ETANOL)"
   ]
  },
  {
   "cell_type": "markdown",
   "id": "b7a7c4bb-910a-4064-ad2b-781fd18f0300",
   "metadata": {},
   "source": [
    "Portanto, a queima do etanol é responsável por liberar -10592075.3 kJ de energia ao ciclo de rankina. No entanto, o ciclo será alimentado, ainda, pela queima do hidrogênio obtido pela eletrólise, para isso, é necessário ressaltar que a combustão do hidrogênio produz apenas a molécula de $H_2O$, sendo sua reação dada por:\n",
    "\n",
    "$H_2 + \\frac{1}{2}O_2 \\rightarrow H_2O$\n",
    "\n",
    "Como $H_2$ e $O_2$ são substâncias puras, à temperatura ambiente, a entalpia de combustão do hidrogênio é igual à entalpia de formação da água, ou seja, $-285.83 kJ mol^{-1}$."
   ]
  },
  {
   "cell_type": "code",
   "execution_count": 10,
   "id": "2337e496-2ffc-4b1d-8a6c-550cea6556d4",
   "metadata": {},
   "outputs": [
    {
     "name": "stdout",
     "output_type": "stream",
     "text": [
      "23735.119047619046\n"
     ]
    }
   ],
   "source": [
    "ENTALPIA_DE_COMBUSTAO_HIDROGENIO_MOL = -285.83\n",
    "\n",
    "N_MOLS_HIDROGENIO = MASSA_HIDROGENIO*1000/MASSA_MOLAR_HIDROGENIO\n",
    "print(N_MOLS_HIDROGENIO)"
   ]
  },
  {
   "cell_type": "code",
   "execution_count": 11,
   "id": "84884683-81bd-46fa-bd26-771c3a07265e",
   "metadata": {},
   "outputs": [
    {
     "name": "stdout",
     "output_type": "stream",
     "text": [
      "-6784209.0773809515\n"
     ]
    }
   ],
   "source": [
    "ENTALPIA_DE_COMBUSTAO_HIDROGENIO = ENTALPIA_DE_COMBUSTAO_HIDROGENIO_MOL*N_MOLS_HIDROGENIO\n",
    "\n",
    "print(ENTALPIA_DE_COMBUSTAO_HIDROGENIO)"
   ]
  },
  {
   "cell_type": "code",
   "execution_count": 12,
   "id": "978b9185-394d-4d70-be0a-462f2bcec293",
   "metadata": {},
   "outputs": [
    {
     "name": "stdout",
     "output_type": "stream",
     "text": [
      "A entalpia total gerada pela combustão do etanol e do hidrogênio foi de -17376284.38369812 kJ.\n"
     ]
    }
   ],
   "source": [
    "ENTALPIA_DE_COMBUSTAO_TOTAL = ENTALPIA_DE_COMBUSTAO_ETANOL + ENTALPIA_DE_COMBUSTAO_HIDROGENIO\n",
    "\n",
    "print(f'A entalpia total gerada pela combustão do etanol e do hidrogênio foi de {ENTALPIA_DE_COMBUSTAO_TOTAL} kJ.')"
   ]
  },
  {
   "cell_type": "markdown",
   "id": "8b6df3da-2422-42ef-a68c-0f35cb0b9481",
   "metadata": {},
   "source": [
    "##\n",
    "### Problema B"
   ]
  },
  {
   "cell_type": "markdown",
   "id": "ddcbc8ac-4a4e-4c04-9c6d-c00340fdbe23",
   "metadata": {},
   "source": [
    "#### Objetivo\n",
    "Determinar a entropia envolvida na reação de combustão.\n",
    "\n",
    "#### O que temos:\n",
    "- Número de mols do etanol.\n",
    "- Número de mols de hidrogênio.\n",
    "- Capacidade calorífica do etanol.\n",
    "\n",
    "#### O que iremos fazer\n",
    "- Encontrar a entropia do vapor de etanol à 379.54 K\n",
    "- Encontrar a entropia do vapor de água à 379.54 K\n",
    "- Utilizar os valores disponibilizados de entropia do hidrogênio, oxigênio, água e gás carbônico à 298 K.\n",
    "- Encontrar a variação de entropia do sistema."
   ]
  },
  {
   "cell_type": "markdown",
   "id": "741d99ea-480e-4c9d-a079-533147c2fedb",
   "metadata": {
    "tags": []
   },
   "source": [
    "### Entropia do etanol:"
   ]
  },
  {
   "cell_type": "markdown",
   "id": "d7c8b0b7-ffa5-4111-ad36-aa0c2e2640ea",
   "metadata": {},
   "source": [
    "Como os dados a respeito da capacidade calorífica do etanol apresentam um comportamento quase linear em relação à temperatura, será realizada uma regressão linear e uma extrapolação dos dados, pois não há dados que mostrem o comportamento da capacidade calorífica em temperaturas abaixo de 50 K, para, assim, calcular o valor da entropia molar do etanol como sendo a integral da função obtida pela regressão linear dividida pela temperatura, da seguinte forma:"
   ]
  },
  {
   "cell_type": "markdown",
   "id": "8cc95683-8ae9-44a7-bb69-27fe159a608e",
   "metadata": {},
   "source": [
    "$ S(T) = \\int_{0}^{T}\\frac{C_P(T)_{C_2H_5OH(g)}}{T}dT $"
   ]
  },
  {
   "cell_type": "code",
   "execution_count": 13,
   "id": "25be58e3-96d4-4782-a19e-6d23d46e2054",
   "metadata": {
    "tags": []
   },
   "outputs": [],
   "source": [
    "segunda_coluna = [1]*len(df_C_et)"
   ]
  },
  {
   "cell_type": "code",
   "execution_count": 14,
   "id": "712b3b4f-193a-4abd-a0b1-1bbd0988cd29",
   "metadata": {},
   "outputs": [],
   "source": [
    "Xt = np.array([df_C_et['Temperatura'], segunda_coluna])\n",
    "yt = np.array(df_C_et['Cp'])"
   ]
  },
  {
   "cell_type": "code",
   "execution_count": 15,
   "id": "5334a3b7-8e33-484a-be62-99dabc5240c5",
   "metadata": {},
   "outputs": [],
   "source": [
    "X = np.transpose(Xt)\n",
    "y = np.transpose(yt)"
   ]
  },
  {
   "cell_type": "code",
   "execution_count": 16,
   "id": "8f67ba86-6a90-4278-a5e4-e2d44a8d1c9a",
   "metadata": {
    "tags": []
   },
   "outputs": [
    {
     "name": "stdout",
     "output_type": "stream",
     "text": [
      "[[ 50.     1.  ]\n",
      " [100.     1.  ]\n",
      " [150.     1.  ]\n",
      " [200.     1.  ]\n",
      " [273.15   1.  ]\n",
      " [279.     1.  ]\n",
      " [280.     1.  ]\n",
      " [298.15   1.  ]\n",
      " [350.01   1.  ]\n",
      " [356.55   1.  ]\n",
      " [360.     1.  ]\n",
      " [361.75   1.  ]\n",
      " [367.9    1.  ]\n",
      " [370.01   1.  ]\n",
      " [371.85   1.  ]\n",
      " [380.     1.  ]\n",
      " [387.25   1.  ]\n",
      " [388.85   1.  ]\n",
      " [400.08   1.  ]\n",
      " [410.16   1.  ]\n",
      " [422.     1.  ]\n",
      " [425.09   1.  ]\n",
      " [433.25   1.  ]\n",
      " [437.     1.  ]\n",
      " [443.35   1.  ]\n",
      " [450.08   1.  ]\n",
      " [475.12   1.  ]\n",
      " [476.     1.  ]\n",
      " [480.45   1.  ]\n",
      " [534.35   1.  ]\n",
      " [548.75   1.  ]\n",
      " [572.25   1.  ]\n",
      " [591.25   1.  ]]\n",
      "[ 37.12  41.7   46.94  51.38  61.46  62.3   62.09  65.21  73.15  75.7\n",
      "  74.57  76.4   75.52  76.    77.7   77.46  79.8   80.    80.4   82.01\n",
      "  83.39  84.1   85.9   87.99  87.3   87.65  91.11  91.21  92.2   99.4\n",
      " 101.3  104.5  107.  ]\n"
     ]
    }
   ],
   "source": [
    "print(X)\n",
    "print(y)"
   ]
  },
  {
   "cell_type": "code",
   "execution_count": 17,
   "id": "76d3893c-d335-42f4-a127-e991776cb341",
   "metadata": {},
   "outputs": [],
   "source": [
    "XtX = Xt @ X\n",
    "invXtX = np.linalg.inv(XtX)\n",
    "invXtXXt = invXtX @ Xt\n",
    "b = invXtXXt @ y"
   ]
  },
  {
   "cell_type": "code",
   "execution_count": 18,
   "id": "40aaf2eb-40d2-4ab5-a1f0-7c777cadb0e9",
   "metadata": {},
   "outputs": [
    {
     "data": {
      "text/plain": [
       "array([ 0.13569319, 26.48955329])"
      ]
     },
     "execution_count": 18,
     "metadata": {},
     "output_type": "execute_result"
    }
   ],
   "source": [
    "b"
   ]
  },
  {
   "cell_type": "code",
   "execution_count": 19,
   "id": "ccdb566c-62d4-4e96-b075-b54c0d8c5491",
   "metadata": {},
   "outputs": [],
   "source": [
    "from funcoes_desafio_3 import *"
   ]
  },
  {
   "cell_type": "code",
   "execution_count": 20,
   "id": "08f75808-2742-4467-88e7-391534ba6eeb",
   "metadata": {},
   "outputs": [
    {
     "data": {
      "text/plain": [
       "array([ 0.13569319, 26.48955329])"
      ]
     },
     "execution_count": 20,
     "metadata": {},
     "output_type": "execute_result"
    }
   ],
   "source": [
    "regressao_linear(df_C_et)"
   ]
  },
  {
   "cell_type": "code",
   "execution_count": 21,
   "id": "4b81d2e5-fa96-4d6d-a98a-5672dc9569de",
   "metadata": {},
   "outputs": [
    {
     "data": {
      "image/png": "[encoded data removed]",
      "text/plain": [
       "<Figure size 432x288 with 1 Axes>"
      ]
     },
     "metadata": {
      "needs_background": "light"
     },
     "output_type": "display_data"
    }
   ],
   "source": [
    "######################## Plotando os dados de capacidade calorífica do etanol ########################\n",
    "\n",
    "fig = plt.figure()\n",
    "ax1 = fig.add_subplot(111)\n",
    "\n",
    "x = np.linspace(0, 400, 100)\n",
    "y = b[0]*x + b[1]\n",
    "\n",
    "plt.plot(x, y, c = 'red', label = 'Regressão Linear')\n",
    "df_C_et.plot('Temperatura', 'Cp', ax=ax1, kind = 'line', color = 'black') # Plotando \n",
    "plt.title('Capacidade Calorífica do Etanol - Etanol') # Definindo título do gráfico\n",
    "plt.xlabel('Temperatura (K)') # Definindo legendas dos eixos\n",
    "plt.ylabel('Capacidade Calorífica (J/mol*K)')\n",
    "plt.show() "
   ]
  },
  {
   "cell_type": "markdown",
   "id": "a8c17275-2649-4831-bf90-2664eab5682d",
   "metadata": {},
   "source": [
    "Portanto, a capacidade calorífica do etanol gasoso pode ser dada por:\n",
    "\n",
    "$C_P(T)_{C_2H_5OH(g)} = 0.1356.T + 26.4895$\n",
    "\n",
    "Dessa forma, a entropia do etanol gasoso à 379.54 K pode ser dada por:\n",
    "\n",
    "$ S(379.54) = \\int_{0}^{379.54}\\frac{C_P(T)_{C_2H_5OH(g)}}{T}dT = \\int_{0}^{379.54}\\frac{0.1356.T + 26.4895}{T}dT $\n",
    "\n",
    "$ S(379.54) = \\int_{0}^{379.54}\\frac{0.1356.T + 26.4895}{T}dT = 0.1356\\int_{0}^{379.54} dT + 26.489\\int_{0}^{379.54}\\frac{1}{T}dT $\n",
    "\n",
    "$ S(379.54) = 0.1356*379.54 + 26.489\\log(379.54) - 26.489\\log(0)$\n",
    "\n",
    "Iremos desconsiderar o termo $ \\log(0) $\n",
    "\n",
    "Portanto,\n",
    "\n",
    "$ S(379.54) = 0.1356*379.54 + 26.489\\log(379.54) $\n",
    "\n",
    "$ S(379.54) = 208.78 $"
   ]
  },
  {
   "cell_type": "code",
   "execution_count": 22,
   "id": "e72c02c9-30e5-4fa6-b008-7e7901a70277",
   "metadata": {},
   "outputs": [],
   "source": [
    "ENTROPIA_ETANOL = 208.78 # kJ/(mol*K)\n",
    "\n",
    "ENTROPIA_AGUA = 69.95 # kJ/(mol*K)\n",
    "\n",
    "ENTROPIA_OXIGENIO = 205.15 # kJ/(mol*K)\n",
    "\n",
    "ENTROPIA_GAS_CARBONICO = 213.79 # kJ/(mol*K)\n",
    "\n",
    "ENTROPIA_HIDROGENIO = 130.86 # kJ/(mol*K)"
   ]
  },
  {
   "cell_type": "markdown",
   "id": "ee775791-76e3-45d4-bb06-54eedce58192",
   "metadata": {},
   "source": [
    "Fonte: https://www.nist.gov/"
   ]
  },
  {
   "cell_type": "markdown",
   "id": "9e3a0336-7ffb-49de-afb0-375feed1301b",
   "metadata": {},
   "source": [
    "### Entropia de combustão do etanol"
   ]
  },
  {
   "cell_type": "code",
   "execution_count": 23,
   "id": "08057367-34a9-49f7-bd0b-45bb137d1b10",
   "metadata": {},
   "outputs": [
    {
     "name": "stdout",
     "output_type": "stream",
     "text": [
      "-1399357.8467549377\n"
     ]
    }
   ],
   "source": [
    "ENTROPIA_DE_COMBUSTAO_ETANOL_MOL = (2*(ENTROPIA_GAS_CARBONICO) + 3*(ENTROPIA_AGUA)) - (1*(ENTROPIA_ETANOL) + 3*(ENTROPIA_OXIGENIO))\n",
    "\n",
    "ENTROPIA_DE_COMBUSTAO_ETANOL = ENTROPIA_DE_COMBUSTAO_ETANOL_MOL*N_MOLS_ETANOL\n",
    "\n",
    "print(ENTROPIA_DE_COMBUSTAO_ETANOL)"
   ]
  },
  {
   "cell_type": "code",
   "execution_count": 24,
   "id": "d4122438-8019-4081-a234-3ad8accf4467",
   "metadata": {},
   "outputs": [
    {
     "name": "stdout",
     "output_type": "stream",
     "text": [
      "-3880335.9375\n"
     ]
    }
   ],
   "source": [
    "ENTROPIA_COMBUSTAO_HIDROGENIO_MOL = ENTROPIA_AGUA - ((1/2)*ENTROPIA_OXIGENIO + ENTROPIA_HIDROGENIO)\n",
    "\n",
    "ENTROPIA_COMBUSTAO_HIDROGENIO = ENTROPIA_COMBUSTAO_HIDROGENIO_MOL*N_MOLS_HIDROGENIO\n",
    "\n",
    "print(ENTROPIA_COMBUSTAO_HIDROGENIO)"
   ]
  },
  {
   "cell_type": "code",
   "execution_count": 25,
   "id": "ff0e458c-ad37-421e-aa19-d6333b0790fb",
   "metadata": {},
   "outputs": [
    {
     "name": "stdout",
     "output_type": "stream",
     "text": [
      "-5279693.784254937\n"
     ]
    }
   ],
   "source": [
    "ENTROPIA_COMBUSTAO_TOTAL = ENTROPIA_DE_COMBUSTAO_ETANOL + ENTROPIA_COMBUSTAO_HIDROGENIO\n",
    "\n",
    "print(ENTROPIA_COMBUSTAO_TOTAL)"
   ]
  },
  {
   "cell_type": "markdown",
   "id": "75d1ce02-4053-4349-8d36-d8b26494376e",
   "metadata": {},
   "source": [
    "Portanto, a variação de entropia relativa ao processo de combustão da mistura de etanol e do hidrogênio corresponde à $-5279693.78 kJ/K$."
   ]
  },
  {
   "cell_type": "markdown",
   "id": "dbb0978c-18ee-4041-8998-a2f276dc3420",
   "metadata": {},
   "source": [
    "\n"
   ]
  },
  {
   "cell_type": "markdown",
   "id": "ce54b4cb-4fd9-48f4-85a8-5d77a25e4bd0",
   "metadata": {},
   "source": [
    "### Problema C"
   ]
  },
  {
   "cell_type": "markdown",
   "id": "aead8e38-91ea-4d1f-9eb3-10809bfe7783",
   "metadata": {},
   "source": [
    "#### Objetivo\n",
    "\n",
    "Determinar a equação de estado a ser usada para o sistema.\n"
   ]
  },
  {
   "cell_type": "markdown",
   "id": "a5102fd7-2d41-4b92-bf58-35dafe652f6b",
   "metadata": {},
   "source": [
    "#### O que temos:\n",
    "- Número de Mols dos reagentes\n",
    "- Volume dos produtos\n",
    "- Temperatura dos produtos\n",
    "\n",
    "#### O que iremos fazer\n",
    "- Encontrar o número de mols dos produtos\n",
    "- Encontrar a pressão final"
   ]
  },
  {
   "cell_type": "markdown",
   "id": "1490c76a-5e81-4e2b-8ba4-55e8dd8fda98",
   "metadata": {},
   "source": [
    "Durante o processo de combustão do etanol, é liberada uma quantidade de gás carbônico, a qual ocupa o espaço do recipiente, exercendo uma pressão. Para dimensionar a pressão que essa quantidade de $CO_2$ irá exercer, será utilizada a equação de estado $PV = nRT$, ou lei dos gases ideais, portanto, o comportamento do gás carbônico no recipiente será aproximado para o de um gás ideal."
   ]
  },
  {
   "cell_type": "code",
   "execution_count": 26,
   "id": "6d5f74fd-c106-498a-90fa-48a84fef0581",
   "metadata": {},
   "outputs": [],
   "source": [
    "N_MOLS_GAS_CARBONICO = N_MOLS_ETANOL*2 #mols\n",
    "\n",
    "VOLUME_RECIPIENTE = 1000000 #l\n",
    "\n",
    "TEMPERATURA = 298 #K"
   ]
  },
  {
   "cell_type": "code",
   "execution_count": 27,
   "id": "48de6860-7314-4022-9ab0-57659222228f",
   "metadata": {},
   "outputs": [],
   "source": [
    "def pressao(n, V, T):\n",
    "    R = 0.082\n",
    "    return n*R*T/V"
   ]
  },
  {
   "cell_type": "code",
   "execution_count": 28,
   "id": "3cdd11ad-fda5-42f2-bab2-04b605da6678",
   "metadata": {},
   "outputs": [
    {
     "name": "stdout",
     "output_type": "stream",
     "text": [
      "0.579991369047619 0.36611036770132405\n"
     ]
    }
   ],
   "source": [
    "PRESSAO_HIDROGENIO = pressao(N_MOLS_HIDROGENIO, VOLUME_RECIPIENTE, TEMPERATURA)\n",
    "\n",
    "PRESSAO_GAS_CARBONICO = pressao(N_MOLS_GAS_CARBONICO, VOLUME_RECIPIENTE, TEMPERATURA)\n",
    "\n",
    "print(PRESSAO_HIDROGENIO, PRESSAO_GAS_CARBONICO)"
   ]
  },
  {
   "cell_type": "markdown",
   "id": "6d630cfa-311b-4cb4-957a-4a5e6c5a445e",
   "metadata": {},
   "source": [
    "Portanto, se considerado que o ar atmosférico presente anteriormente à adição dos reagentes manteve-se e o hidrogênio passou a formar água no estado líquido, pode-se concluir que a pressão exercida pelo produto no estado final não ultrapassa o que foi atingido com os reagentes, sendo uma margem de segurança a pressão de 2 atm, pressupondo que, durante o processo, há a formação de vapor d'água."
   ]
  },
  {
   "cell_type": "markdown",
   "id": "1e08c257-5b47-4673-907b-83d0ad2ff09a",
   "metadata": {
    "tags": []
   },
   "source": [
    "# Acesse o repositório do projeto!"
   ]
  },
  {
   "cell_type": "markdown",
   "id": "31fab411-3ae3-4ade-8bb6-e7c553bfb76b",
   "metadata": {},
   "source": [
    "Para melhor compreensão de cade etapa e de cada escolha do nosso projeto, acesse, clicando aqui ou no link abaixo, nosso [Repositório do Github](**************), onde estão armazenados todos os notebooks e informações referentes aos desafios:\n",
    "\n",
    "******************"
   ]
  },
  {
   "cell_type": "markdown",
   "id": "3e8ab7f3-0ddd-403a-8af1-5e082e970760",
   "metadata": {},
   "source": [
    "#\n",
    "## Referências\n",
    "- Livro An Introduction to Thermal Physics, Daniel V. Schroeder, Editora Addison-Wesley.\n",
    "- Livro Physical Chemistry: A Molecular Approach, Donald A. McQuarrie, Editora Univesity Science Books.\n",
    "- Livro Richard Feynman, Lições de Física Vol 1, Editora Bookman.\n",
    "        Capítulo de Teoria Cinética dos Gases"
   ]
  }
 ],
 "metadata": {
  "kernelspec": {
   "display_name": "ilumpy",
   "language": "python",
   "name": "ilumpy"
  },
  "language_info": {
   "codemirror_mode": {
    "name": "ipython",
    "version": 3
   },
   "file_extension": ".py",
   "mimetype": "text/x-python",
   "name": "python",
   "nbconvert_exporter": "python",
   "pygments_lexer": "ipython3",
   "version": "3.9.7"
  }
 },
 "nbformat": 4,
 "nbformat_minor": 5
}
