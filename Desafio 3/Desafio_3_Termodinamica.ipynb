{
 "cells": [
  {
   "cell_type": "markdown",
   "id": "8099c03d-0f38-4f2e-9880-3cdfb4f84d2b",
   "metadata": {},
   "source": [
    "<img src=\"Figuras - Desafio 3/logo.png\" style=\"width:1450px;height:250px\"/>\n",
    "\n",
    "# Ilum Escola de Ciência\n",
    "### Curso: Termodinâmica Avançada\n",
    "### Prof: Amauri Jardim de Paula\n",
    "### Alunos: Gabriel Pereira e Isabela Beneti\n",
    "### Desafio 3"
   ]
  },
  {
   "cell_type": "markdown",
   "id": "a86bd3bd-4b69-4226-bdfb-3d497abb4d51",
   "metadata": {},
   "source": [
    "#\n",
    "## Descrição do desafio\n",
    "O terceiro desafio para solução do problema principal da disciplina envolve:\n",
    "\n",
    "#### **A combustão dos compostos escolhidos**"
   ]
  },
  {
   "cell_type": "markdown",
   "id": "73d00327-0d04-48e7-b68c-2319531d02be",
   "metadata": {},
   "source": [
    "## Problemas\n",
    "\n",
    "#### Para solucionar o desafio, alguns aspectos importantes devem ser considerados.\n",
    "\n",
    "##### A. Os potenciais termodinâmicos (energia interna, entalpia, energia livre de Gibbs) envolvidos na reação de combustão.\n",
    "##### B. A entropia envolvida na reação de combustão.\n",
    "##### C.A equação de estado a ser usada para o sistema."
   ]
  },
  {
   "cell_type": "markdown",
   "id": "9c31bef0-b2f8-4f36-a5b6-32573953f0dd",
   "metadata": {},
   "source": [
    "#\n",
    "## Resoluções"
   ]
  },
  {
   "cell_type": "markdown",
   "id": "cb2bb085-a42c-4750-80d1-16c6c354a27a",
   "metadata": {},
   "source": [
    "### Importações"
   ]
  },
  {
   "cell_type": "code",
   "execution_count": 1,
   "id": "29c5b3d0-bb10-4fa9-884e-c3e4d4146a61",
   "metadata": {},
   "outputs": [],
   "source": [
    "# Rode essa célula antes de rodar as seguintes, pois elas se utilizam das seguintes bibliotecas:\n",
    "import pandas as pd\n",
    "import numpy as np\n",
    "import matplotlib.pyplot as plt\n",
    "from funcoes_desafio_3 import *\n",
    "import imageio\n",
    "import warnings\n",
    "from chempy import Equilibrium\n",
    "from chempy import Substance\n",
    "from chempy import balance_stoichiometry"
   ]
  },
  {
   "cell_type": "markdown",
   "id": "ce408149-1f7f-44f2-b31a-e7a468aad8e2",
   "metadata": {},
   "source": [
    "### Esquema do Curso e Desafios"
   ]
  },
  {
   "cell_type": "markdown",
   "id": "daf5bbd5-34db-432f-8bc0-7e840cd300fc",
   "metadata": {
    "tags": []
   },
   "source": [
    "<center>\n",
    "  <img src='./Figuras - Desafio 3/Esquema do Curso.png' style=\"width:900px;height:500px\"/>\n",
    "    \n",
    "    Figura 1: esquema do curso e desafios\n",
    "</center>"
   ]
  },
  {
   "cell_type": "markdown",
   "id": "dc016c75-f21b-4c31-8206-d1ad4a343c2c",
   "metadata": {},
   "source": [
    "### Recapitulação"
   ]
  },
  {
   "cell_type": "markdown",
   "id": "d792b8ec-2ffc-4842-aa67-2ed373a1d807",
   "metadata": {},
   "source": [
    "Antes de começarmos o terceiro desafio, é importante retomar o que foi feito no desafio anterior e o que obtemos como resultado dele:\n",
    "\n",
    "No desafio anterior, nós separamos a mistura inicial- definida no desafio 1 como uma mistura de água com etanol a 40% v/v- por meio de destilação fracionada. Como resultado, obtivemos dois líquidos: uma mistura de etanol enriquecido (em fração molar 0.773) de massa 384.73 kg e 615.27 kg de água pura. \n",
    "\n",
    "Após disso, nós evaporamos o etanol enriquecido a 81.54°C, o que gerou **384.73 kg de etanol enriquecido gasoso**. Por fim, realizamos eletrólise da água, através da qual extraímos **47.85 kg de hidrogênio gasoso**.\n",
    "\n",
    "É importante pontuar, também, que o processo de evaporação do útimo desafio foi realizado à pressão constante de 1 atm, num recipiente semelhante a um **balão**. Para esse próximo desafio, transferiremos o conteúdo de ambos os balões para um reator de **volume constante**."
   ]
  },
  {
   "cell_type": "code",
   "execution_count": 2,
   "id": "838fed72-f17b-4372-afd8-54542fa418e7",
   "metadata": {},
   "outputs": [],
   "source": [
    "# massas de etanol e água da mistura enriquecida em etanol\n",
    "MASSA_AGUA_MISTURA = 39.59 # kg\n",
    "MASSA_ETANOL_MISTURA = 345.12 # kg\n",
    "\n",
    "# massa de hidrogênio\n",
    "MASSA_HIDROGENIO = 47.85 # kg\n",
    "\n",
    "# Condições da mistura enriquecida em etanol\n",
    "TEMPERATURA_MISTURA = 379.54 #K\n",
    "PRESSAO_MISTURA = 1 # atm\n",
    "\n",
    "# Condições do hidrogênio\n",
    "TEMPERATURA_HIDROGENIO = 273 #K\n",
    "PRESSAO_HIDROGENIO = 1 # atm\n",
    "\n",
    "# massas molares\n",
    "MASSA_MOLAR_ETANOL = 46.07 # g/mol\n",
    "MASSA_MOLAR_AGUA = 18 # g/mol\n",
    "MASSA_MOLAR_HIDROGENIO = 2.016 # g/mol"
   ]
  },
  {
   "cell_type": "markdown",
   "id": "55114702-62f1-42b8-a64c-2b606fba6251",
   "metadata": {},
   "source": [
    "### Problema A"
   ]
  },
  {
   "cell_type": "markdown",
   "id": "5ed4cb85-0351-4d4a-b622-7229519fbb74",
   "metadata": {},
   "source": [
    "#### Objetivo: \n",
    " Calcular os potenciais termodinâmicos (energia interna, entalpia, energia livre de Gibbs) envolvidos na reação de combustão.\n",
    "\n",
    "#### O que temos: \n",
    "##### Vapor de etanol:\n",
    "- 81.54 °C.\n",
    "- 1 atm.\n",
    "- 384.73 kg.\n",
    "\n",
    "##### Gás Hidrogênio:\n",
    "- 25 °C.\n",
    "- 1 atm.\n",
    "- 47.85 kg.\n",
    "\n",
    "\n",
    "#### O que iremos fazer:\n",
    "- Encontrar a entalpia de formação do etanol à 25 °C.\n",
    "- Encontrar a entalpia de formação do etanol gasoso à 81.54 °C.\n",
    "- Encontrar a entalpia de formação da água e do gás carbônico à 25 °C.\n",
    "- Encontrar a entalpia gerada pela combustão do etanol.\n",
    "- Encontrar a entalpia gerada pela combustão do hidrogênio."
   ]
  },
  {
   "cell_type": "markdown",
   "id": "b3ff1920-4f03-4c82-888f-fb2ed766072e",
   "metadata": {},
   "source": [
    "### Entalpia de Combustão:"
   ]
  },
  {
   "cell_type": "markdown",
   "id": "7d87547d-9914-433c-a482-34ec4c9c24f6",
   "metadata": {},
   "source": [
    "A reação de combustão completa do etanol é dada por: \n",
    "\n",
    "$C_2H_5OH + 3O_2 \\rightarrow 2CO_2 + 3H_2O$\n",
    "\n",
    "Para encontrar a entalpia de combustão do etanol, basta calcular a diferença entre a soma das entalpias de formação dos reagentes e a soma das entalpias de fomação dos produtos.\n",
    "\n",
    "De acordo com a literatura, $\\Delta_f H[CO_2(g)] = -393.509 kJ mol^{-1}$, $\\Delta_f H[H_2O(g)] = -285.83 kJ mol^{-1}$, $\\Delta_f H[C_2H_5OH(g)] = -234,7 kJ mol^{-1}$ [1], no entanto, o etanol se encontra à 379.54 K, dessa forma, é necessário considerar a variação de entalpia ocasionada pela diferença de temperatura, dada por:\n",
    "\n",
    "$\\int_{298}^{379.54}C_P[C_2H_5OH(g)](T)dT$\n",
    "\n",
    "Portanto,\n",
    "\n",
    "$\\Delta_f H[C_2H_5OH(g)](379.54 K) = \\Delta_f H[C_2H_5OH(g)](298 K) + \\int_{298}^{379.54}C_P(T)dT$\n",
    "\n",
    "Logo, temos a seguinte conta, considerando a entalpia de formação do oxigênio como zero:\n",
    "\n",
    "$\\Delta_c H[C_2H_5OH(g)] = [2⋅-393.509 + 3⋅-285.83] - [1⋅(-234,7 + \\int_{298}^{379.54}C_P(T)dT)]$\n",
    "\n",
    "Portanto, para definir o calor gerado pela combustão, é necessário encontrar o valor de:\n",
    "\n",
    "$\\int_{298}^{379.54}C_P[C_2H_5OH(g)](T)dT$\n",
    "\n",
    "Para tal, serão utilizados os dados de capacidade calorífica diponibilizados no [NIST]"
   ]
  },
  {
   "cell_type": "code",
   "execution_count": 3,
   "id": "c878e4a1-66d3-4a2f-b84b-9d7349f152f8",
   "metadata": {
    "tags": []
   },
   "outputs": [],
   "source": [
    "######################## Importando os dados de capacidade calorífica do etanol ########################\n",
    "\n",
    "ARQUIVO_EXCEL = \"Dados - Desafio 3/Capacidade calorífica por temperatura - Etanol.xlsx\" # Chamando o arquivo excel com dados experimentais obtido no site Home Distiller\n",
    "NOME_DA_PLANILHA_O = \"Planilha1\" # Definindo a planila do arquivo xlsx que será utilizada\n",
    "LINHA_CABECALHO = 0  # Definindo quantas linhas de cabeçalho existem, considerando que a primeira linha é a número 0\n",
    "COLUNAS_CONTENDO_OS_DADOS = [0, 1] # Definindo quais colunas utilizaremos para montar o data frame, considerando que a primeira coluna é a número 0\n",
    "\n",
    "df_C_et = pd.read_excel( # Criando o Data Frame do diagrama de fases da mistura escolhida (etanol + água)\n",
    "    ARQUIVO_EXCEL,\n",
    "    sheet_name=NOME_DA_PLANILHA_O,\n",
    "    header=LINHA_CABECALHO,\n",
    "    usecols=COLUNAS_CONTENDO_OS_DADOS,\n",
    ")"
   ]
  },
  {
   "cell_type": "code",
   "execution_count": 4,
   "id": "7651e25c-6588-44d0-b4cb-7520e6b74cd2",
   "metadata": {},
   "outputs": [
    {
     "data": {
      "image/png": "[encoded data removed]",
      "text/plain": [
       "<Figure size 432x288 with 1 Axes>"
      ]
     },
     "metadata": {
      "needs_background": "light"
     },
     "output_type": "display_data"
    }
   ],
   "source": [
    "######################## Plotando os dados de capacidade calorífica do etanol ########################\n",
    "\n",
    "fig = plt.figure()\n",
    "ax1 = fig.add_subplot(111)\n",
    "df_C_et.plot('Temperatura', 'Cp', ax=ax1, kind = 'line', color = 'black') # Plotando \n",
    "plt.title('Capacidade Calorífica do Etanol - Etanol') # Definindo título do gráfico\n",
    "plt.xlabel('Temperatura (K)') # Definindo legendas dos eixos\n",
    "plt.ylabel('Capacidade Calorífica (J/mol*K)')\n",
    "plt.show() "
   ]
  },
  {
   "cell_type": "code",
   "execution_count": 5,
   "id": "f7ee8ea5-038f-47be-a5af-e4e8c82ec678",
   "metadata": {},
   "outputs": [
    {
     "data": {
      "text/html": [
       "<div>\n",
       "<style scoped>\n",
       "    .dataframe tbody tr th:only-of-type {\n",
       "        vertical-align: middle;\n",
       "    }\n",
       "\n",
       "    .dataframe tbody tr th {\n",
       "        vertical-align: top;\n",
       "    }\n",
       "\n",
       "    .dataframe thead th {\n",
       "        text-align: right;\n",
       "    }\n",
       "</style>\n",
       "<table border=\"1\" class=\"dataframe\">\n",
       "  <thead>\n",
       "    <tr style=\"text-align: right;\">\n",
       "      <th></th>\n",
       "      <th>Cp</th>\n",
       "      <th>Temperatura</th>\n",
       "    </tr>\n",
       "  </thead>\n",
       "  <tbody>\n",
       "    <tr>\n",
       "      <th>7</th>\n",
       "      <td>65.21</td>\n",
       "      <td>298.15</td>\n",
       "    </tr>\n",
       "    <tr>\n",
       "      <th>8</th>\n",
       "      <td>73.15</td>\n",
       "      <td>350.01</td>\n",
       "    </tr>\n",
       "    <tr>\n",
       "      <th>9</th>\n",
       "      <td>75.70</td>\n",
       "      <td>356.55</td>\n",
       "    </tr>\n",
       "    <tr>\n",
       "      <th>10</th>\n",
       "      <td>74.57</td>\n",
       "      <td>360.00</td>\n",
       "    </tr>\n",
       "    <tr>\n",
       "      <th>11</th>\n",
       "      <td>76.40</td>\n",
       "      <td>361.75</td>\n",
       "    </tr>\n",
       "    <tr>\n",
       "      <th>12</th>\n",
       "      <td>75.52</td>\n",
       "      <td>367.90</td>\n",
       "    </tr>\n",
       "    <tr>\n",
       "      <th>13</th>\n",
       "      <td>76.00</td>\n",
       "      <td>370.01</td>\n",
       "    </tr>\n",
       "    <tr>\n",
       "      <th>14</th>\n",
       "      <td>77.70</td>\n",
       "      <td>371.85</td>\n",
       "    </tr>\n",
       "    <tr>\n",
       "      <th>15</th>\n",
       "      <td>77.46</td>\n",
       "      <td>380.00</td>\n",
       "    </tr>\n",
       "  </tbody>\n",
       "</table>\n",
       "</div>"
      ],
      "text/plain": [
       "       Cp  Temperatura\n",
       "7   65.21       298.15\n",
       "8   73.15       350.01\n",
       "9   75.70       356.55\n",
       "10  74.57       360.00\n",
       "11  76.40       361.75\n",
       "12  75.52       367.90\n",
       "13  76.00       370.01\n",
       "14  77.70       371.85\n",
       "15  77.46       380.00"
      ]
     },
     "execution_count": 5,
     "metadata": {},
     "output_type": "execute_result"
    }
   ],
   "source": [
    "df_integral = df_C_et[:][7:16] # região onde está definida a integração (298 - 379.54)\n",
    "\n",
    "df_integral"
   ]
  },
  {
   "cell_type": "code",
   "execution_count": 6,
   "id": "e8112bac-372a-4295-a294-79563ef49953",
   "metadata": {},
   "outputs": [],
   "source": [
    "INTEGRAL = np.trapz(df_integral['Temperatura'], df_integral['Cp'])*0.001 # kJ"
   ]
  },
  {
   "cell_type": "code",
   "execution_count": 7,
   "id": "a6d425f0-8fd9-4d3f-8acd-faad44d8af0a",
   "metadata": {},
   "outputs": [
    {
     "name": "stdout",
     "output_type": "stream",
     "text": [
      "A entalpia gerada pela combustão do etanol foi igual a -1413.9340211 kJ/mol.\n"
     ]
    }
   ],
   "source": [
    "ENTALPIA_DE_COMBUSTAO_ETANOL_MOL = (2*(-393.509) + 3*(-285.83)) - (1*(- 234.7) + INTEGRAL)\n",
    "\n",
    "print(f'A entalpia gerada pela combustão do etanol foi igual a {ENTALPIA_DE_COMBUSTAO_ETANOL_MOL} kJ/mol.')"
   ]
  },
  {
   "cell_type": "markdown",
   "id": "07183acd-eb49-4b0f-9ddd-50934b1d795f",
   "metadata": {},
   "source": [
    "Considerando que a combustão foi realizada para toda a quantidade presente de etanol, é possível obter a quantidade total de energia transferida ao ciclo de rankine como:"
   ]
  },
  {
   "cell_type": "code",
   "execution_count": 8,
   "id": "6d082b4e-c8f5-461b-ab13-7ba482e76e3c",
   "metadata": {},
   "outputs": [
    {
     "name": "stdout",
     "output_type": "stream",
     "text": [
      "7491.209029737356\n"
     ]
    }
   ],
   "source": [
    "N_MOLS_ETANOL = MASSA_ETANOL_MISTURA*1000/MASSA_MOLAR_ETANOL\n",
    "\n",
    "print(N_MOLS_ETANOL)"
   ]
  },
  {
   "cell_type": "code",
   "execution_count": 9,
   "id": "ef533d07-9102-48a2-90ab-bce24effe4c7",
   "metadata": {},
   "outputs": [
    {
     "name": "stdout",
     "output_type": "stream",
     "text": [
      "-10592075.306317171\n"
     ]
    }
   ],
   "source": [
    "ENTALPIA_DE_COMBUSTAO_ETANOL = ENTALPIA_DE_COMBUSTAO_ETANOL_MOL*N_MOLS_ETANOL\n",
    "\n",
    "print(ENTALPIA_DE_COMBUSTAO_ETANOL)"
   ]
  },
  {
   "cell_type": "markdown",
   "id": "b7a7c4bb-910a-4064-ad2b-781fd18f0300",
   "metadata": {},
   "source": [
    "Portanto, a queima do etanol é responsável por liberar -10592075.3 kJ de energia ao ciclo de rankina. No entanto, o ciclo será alimentado, ainda, pela queima do hidrogênio obtido pela eletrólise, para isso, é necessário ressaltar que a combustão do hidrogênio produz apenas a molécula de $H_2O$, sendo sua reação dada por:\n",
    "\n",
    "$H_2 + \\frac{1}{2}O_2 \\rightarrow H_2O$\n",
    "\n",
    "Como $H_2$ e $O_2$ são substâncias puras, à temperatura ambiente, a entalpia de combustão do hidrogênio é igual à entalpia de formação da água, ou seja, $-285.83 kJ mol^{-1}$."
   ]
  },
  {
   "cell_type": "code",
   "execution_count": 10,
   "id": "2337e496-2ffc-4b1d-8a6c-550cea6556d4",
   "metadata": {},
   "outputs": [
    {
     "name": "stdout",
     "output_type": "stream",
     "text": [
      "23735.119047619046\n"
     ]
    }
   ],
   "source": [
    "ENTALPIA_DE_COMBUSTAO_HIDROGENIO_MOL = -285.83\n",
    "\n",
    "N_MOLS_HIDROGENIO = MASSA_HIDROGENIO*1000/MASSA_MOLAR_HIDROGENIO\n",
    "print(N_MOLS_HIDROGENIO)"
   ]
  },
  {
   "cell_type": "code",
   "execution_count": 12,
   "id": "84884683-81bd-46fa-bd26-771c3a07265e",
   "metadata": {},
   "outputs": [
    {
     "name": "stdout",
     "output_type": "stream",
     "text": [
      "-6784209.0773809515\n"
     ]
    }
   ],
   "source": [
    "ENTALPIA_DE_COMBUSTAO_HIDROGENIO = ENTALPIA_DE_COMBUSTAO_HIDROGENIO_MOL*N_MOLS_HIDROGENIO\n",
    "\n",
    "print(ENTALPIA_DE_COMBUSTAO_HIDROGENIO)"
   ]
  },
  {
   "cell_type": "code",
   "execution_count": 14,
   "id": "978b9185-394d-4d70-be0a-462f2bcec293",
   "metadata": {},
   "outputs": [
    {
     "name": "stdout",
     "output_type": "stream",
     "text": [
      "A entalpia total gerada pela combustão do etanol e do hidrogênio foi de -17376284.38369812 kJ.\n"
     ]
    }
   ],
   "source": [
    "ENTALPIA_DE_COMBUSTAO_TOTAL = ENTALPIA_DE_COMBUSTAO_ETANOL + ENTALPIA_DE_COMBUSTAO_HIDROGENIO\n",
    "\n",
    "print(f'A entalpia total gerada pela combustão do etanol e do hidrogênio foi de {ENTALPIA_DE_COMBUSTAO_TOTAL} kJ.')"
   ]
  },
  {
   "cell_type": "markdown",
   "id": "8b6df3da-2422-42ef-a68c-0f35cb0b9481",
   "metadata": {},
   "source": [
    "##\n",
    "### Problema B"
   ]
  },
  {
   "cell_type": "markdown",
   "id": "ddcbc8ac-4a4e-4c04-9c6d-c00340fdbe23",
   "metadata": {},
   "source": [
    "#### Objetivo\n",
    "Determinar a entropia envolvida na reação de combustão.\n",
    "\n",
    "#### O que temos:\n",
    "- \n",
    "\n",
    "#### O que iremos fazer\n",
    "- "
   ]
  },
  {
   "cell_type": "markdown",
   "id": "741d99ea-480e-4c9d-a079-533147c2fedb",
   "metadata": {
    "tags": []
   },
   "source": [
    "### Entropia de Combustão:"
   ]
  },
  {
   "cell_type": "markdown",
   "id": "8cc95683-8ae9-44a7-bb69-27fe159a608e",
   "metadata": {},
   "source": [
    "$ S(T)= \\int_{0}^{T_{fus}}\\frac{C^{S}_P(T)}{T}dT + \\frac{\\Delta_{fus}H}{T_{fus}} + \\int_{T_{fus}}^{T_{vap}}\\frac{C^{l}_P(T)}{T}dT + \\frac{\\Delta_{vap}H}{T_{vap}} + \\int_{T_{vap}}^{T}\\frac{C^{g}_P(T')}{T'}dT'$"
   ]
  },
  {
   "cell_type": "code",
   "execution_count": null,
   "id": "ba36b53e-9cea-428e-bdcc-cd49a0d25864",
   "metadata": {},
   "outputs": [],
   "source": []
  },
  {
   "cell_type": "markdown",
   "id": "dbb0978c-18ee-4041-8998-a2f276dc3420",
   "metadata": {},
   "source": [
    "\n"
   ]
  },
  {
   "cell_type": "markdown",
   "id": "ce54b4cb-4fd9-48f4-85a8-5d77a25e4bd0",
   "metadata": {},
   "source": [
    "### Problema C"
   ]
  },
  {
   "cell_type": "markdown",
   "id": "aead8e38-91ea-4d1f-9eb3-10809bfe7783",
   "metadata": {},
   "source": [
    "#### Objetivo\n",
    "\n",
    "Determinar a equação de estado a ser usada para o sistema.\n"
   ]
  },
  {
   "cell_type": "markdown",
   "id": "a5102fd7-2d41-4b92-bf58-35dafe652f6b",
   "metadata": {},
   "source": [
    "#### O que temos:\n",
    "- \n",
    "\n",
    "#### O que iremos fazer\n",
    "- "
   ]
  },
  {
   "cell_type": "code",
   "execution_count": null,
   "id": "fe0061f6-5c8a-480b-bd80-1b8c6f90c323",
   "metadata": {},
   "outputs": [],
   "source": []
  },
  {
   "cell_type": "markdown",
   "id": "1e08c257-5b47-4673-907b-83d0ad2ff09a",
   "metadata": {
    "tags": []
   },
   "source": [
    "# Acesse o repositório do projeto!"
   ]
  },
  {
   "cell_type": "markdown",
   "id": "31fab411-3ae3-4ade-8bb6-e7c553bfb76b",
   "metadata": {},
   "source": [
    "Para melhor compreensão de cade etapa e de cada escolha do nosso projeto, acesse, clicando aqui ou no link abaixo, nosso [Repositório do Github](https://github.com/benetao/Termodinamica_Avancada), onde estão armazenados todos os notebooks e informações referentes aos desafios:\n",
    "\n",
    "https://github.com/benetao/Termodinamica_Avancada"
   ]
  },
  {
   "cell_type": "markdown",
   "id": "3e8ab7f3-0ddd-403a-8af1-5e082e970760",
   "metadata": {},
   "source": [
    "#\n",
    "## Referências\n",
    "- Livro An Introduction to Thermal Physics, Daniel V. Schroeder, Editora Addison-Wesley.\n",
    "- Livro Physical Chemistry: A Molecular Approach, Donald A. McQuarrie, Editora Univesity Science Books.\n",
    "- Livro Richard Feynman, Lições de Física Vol 1, Editora Bookman.\n",
    "        Capítulo de Teoria Cinética dos Gases"
   ]
  }
 ],
 "metadata": {
  "kernelspec": {
   "display_name": "ilumpy",
   "language": "python",
   "name": "ilumpy"
  },
  "language_info": {
   "codemirror_mode": {
    "name": "ipython",
    "version": 3
   },
   "file_extension": ".py",
   "mimetype": "text/x-python",
   "name": "python",
   "nbconvert_exporter": "python",
   "pygments_lexer": "ipython3",
   "version": "3.9.7"
  }
 },
 "nbformat": 4,
 "nbformat_minor": 5
}
