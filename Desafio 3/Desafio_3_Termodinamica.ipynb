{
 "cells": [
  {
   "cell_type": "markdown",
   "id": "8099c03d-0f38-4f2e-9880-3cdfb4f84d2b",
   "metadata": {},
   "source": [
    "<img src=\"Figuras - Desafio 3/logo.png\" style=\"width:1450px;height:250px\"/>\n",
    "\n",
    "# Ilum Escola de Ciência\n",
    "### Curso: Termodinâmica Avançada\n",
    "### Prof: Amauri Jardim de Paula\n",
    "### Alunos: Gabriel Pereira e Isabela Beneti\n",
    "### Desafio 3"
   ]
  },
  {
   "cell_type": "markdown",
   "id": "a86bd3bd-4b69-4226-bdfb-3d497abb4d51",
   "metadata": {},
   "source": [
    "#\n",
    "## Descrição do desafio\n",
    "O terceiro desafio para solução do problema principal da disciplina envolve:\n",
    "\n",
    "#### **A combustão dos compostos escolhidos**"
   ]
  },
  {
   "cell_type": "markdown",
   "id": "73d00327-0d04-48e7-b68c-2319531d02be",
   "metadata": {},
   "source": [
    "## Problemas\n",
    "\n",
    "#### Para solucionar o desafio, alguns aspectos importantes devem ser considerados.\n",
    "\n",
    "##### A. Os potenciais termodinâmicos (energia interna, entalpia, energia livre de Gibbs) envolvidos na reação de combustão.\n",
    "##### B. A entropia envolvida na reação de combustão.\n",
    "##### C.A equação de estado a ser usada para o sistema."
   ]
  },
  {
   "cell_type": "markdown",
   "id": "9c31bef0-b2f8-4f36-a5b6-32573953f0dd",
   "metadata": {},
   "source": [
    "#\n",
    "## Resoluções"
   ]
  },
  {
   "cell_type": "markdown",
   "id": "cb2bb085-a42c-4750-80d1-16c6c354a27a",
   "metadata": {},
   "source": [
    "### Importações"
   ]
  },
  {
   "cell_type": "code",
   "execution_count": 1,
   "id": "0c1c4d17-9dae-4938-981d-6d549f0ef88b",
   "metadata": {
    "collapsed": true,
    "jupyter": {
     "outputs_hidden": true,
     "source_hidden": true
    },
    "tags": []
   },
   "outputs": [
    {
     "name": "stdout",
     "output_type": "stream",
     "text": [
      "Collecting chempyNote: you may need to restart the kernel to use updated packages.\n"
     ]
    },
    {
     "name": "stderr",
     "output_type": "stream",
     "text": [
      "WARNING: You are using pip version 21.2.4; however, version 23.1.2 is available.\n",
      "You should consider upgrading via the 'c:\\venv\\ilumpy\\Scripts\\python.exe -m pip install --upgrade pip' command.\n"
     ]
    },
    {
     "name": "stdout",
     "output_type": "stream",
     "text": [
      "\n",
      "  Using cached chempy-0.8.2-py2.py3-none-any.whl\n",
      "Requirement already satisfied: pyneqsys>=0.5.5 in c:\\venv\\ilumpy\\lib\\site-packages (from chempy) (0.5.7)\n",
      "Requirement already satisfied: scipy>=1.0.1 in c:\\venv\\ilumpy\\lib\\site-packages (from chempy) (1.7.1)\n",
      "Collecting pulp>=1.6.8\n",
      "  Using cached PuLP-2.7.0-py3-none-any.whl (14.3 MB)\n",
      "Requirement already satisfied: pyodesys>=0.14.1 in c:\\venv\\ilumpy\\lib\\site-packages (from chempy) (0.14.2)\n",
      "Requirement already satisfied: pyparsing>=2.0.3 in c:\\venv\\ilumpy\\lib\\site-packages (from chempy) (2.4.7)\n",
      "Collecting dot2tex>=2.11.3\n",
      "  Using cached dot2tex-2.11.3-py2.py3-none-any.whl (36 kB)\n",
      "Requirement already satisfied: numpy>1.11.3 in c:\\venv\\ilumpy\\lib\\site-packages (from chempy) (1.19.5)\n",
      "Requirement already satisfied: sym>=0.3.4 in c:\\venv\\ilumpy\\lib\\site-packages (from chempy) (0.3.5)\n",
      "Requirement already satisfied: quantities>=0.12.1 in c:\\venv\\ilumpy\\lib\\site-packages (from chempy) (0.14.1)\n",
      "Requirement already satisfied: sympy!=1.2,>=1.1.1 in c:\\venv\\ilumpy\\lib\\site-packages (from chempy) (1.8)\n",
      "Requirement already satisfied: matplotlib>=2.2.3 in c:\\venv\\ilumpy\\lib\\site-packages (from chempy) (3.4.3)\n",
      "Requirement already satisfied: python-dateutil>=2.7 in c:\\venv\\ilumpy\\lib\\site-packages (from matplotlib>=2.2.3->chempy) (2.8.2)\n",
      "Requirement already satisfied: kiwisolver>=1.0.1 in c:\\venv\\ilumpy\\lib\\site-packages (from matplotlib>=2.2.3->chempy) (1.3.2)\n",
      "Requirement already satisfied: pillow>=6.2.0 in c:\\venv\\ilumpy\\lib\\site-packages (from matplotlib>=2.2.3->chempy) (8.3.2)\n",
      "Requirement already satisfied: cycler>=0.10 in c:\\venv\\ilumpy\\lib\\site-packages (from matplotlib>=2.2.3->chempy) (0.10.0)\n",
      "Requirement already satisfied: six in c:\\venv\\ilumpy\\lib\\site-packages (from cycler>=0.10->matplotlib>=2.2.3->chempy) (1.15.0)\n",
      "Requirement already satisfied: notebook in c:\\venv\\ilumpy\\lib\\site-packages (from pyodesys>=0.14.1->chempy) (6.4.8)\n",
      "Requirement already satisfied: mpmath>=0.19 in c:\\venv\\ilumpy\\lib\\site-packages (from sympy!=1.2,>=1.1.1->chempy) (1.2.1)\n",
      "Requirement already satisfied: argon2-cffi in c:\\venv\\ilumpy\\lib\\site-packages (from notebook->pyodesys>=0.14.1->chempy) (21.3.0)\n",
      "Requirement already satisfied: tornado>=6.1 in c:\\venv\\ilumpy\\lib\\site-packages (from notebook->pyodesys>=0.14.1->chempy) (6.1)\n",
      "Requirement already satisfied: jinja2 in c:\\venv\\ilumpy\\lib\\site-packages (from notebook->pyodesys>=0.14.1->chempy) (3.0.1)\n",
      "Requirement already satisfied: pyzmq>=17 in c:\\venv\\ilumpy\\lib\\site-packages (from notebook->pyodesys>=0.14.1->chempy) (22.2.1)\n",
      "Requirement already satisfied: Send2Trash>=1.8.0 in c:\\venv\\ilumpy\\lib\\site-packages (from notebook->pyodesys>=0.14.1->chempy) (1.8.0)\n",
      "Requirement already satisfied: traitlets>=4.2.1 in c:\\venv\\ilumpy\\lib\\site-packages (from notebook->pyodesys>=0.14.1->chempy) (5.1.0)\n",
      "Requirement already satisfied: terminado>=0.8.3 in c:\\venv\\ilumpy\\lib\\site-packages (from notebook->pyodesys>=0.14.1->chempy) (0.13.3)\n",
      "Requirement already satisfied: nbconvert in c:\\venv\\ilumpy\\lib\\site-packages (from notebook->pyodesys>=0.14.1->chempy) (6.4.2)\n",
      "Requirement already satisfied: prometheus-client in c:\\venv\\ilumpy\\lib\\site-packages (from notebook->pyodesys>=0.14.1->chempy) (0.13.1)\n",
      "Requirement already satisfied: ipykernel in c:\\venv\\ilumpy\\lib\\site-packages (from notebook->pyodesys>=0.14.1->chempy) (6.4.1)\n",
      "Requirement already satisfied: ipython-genutils in c:\\venv\\ilumpy\\lib\\site-packages (from notebook->pyodesys>=0.14.1->chempy) (0.2.0)\n",
      "Requirement already satisfied: nest-asyncio>=1.5 in c:\\venv\\ilumpy\\lib\\site-packages (from notebook->pyodesys>=0.14.1->chempy) (1.5.1)\n",
      "Requirement already satisfied: jupyter-core>=4.6.1 in c:\\venv\\ilumpy\\lib\\site-packages (from notebook->pyodesys>=0.14.1->chempy) (4.7.1)\n",
      "Requirement already satisfied: jupyter-client>=5.3.4 in c:\\venv\\ilumpy\\lib\\site-packages (from notebook->pyodesys>=0.14.1->chempy) (7.0.2)\n",
      "Requirement already satisfied: nbformat in c:\\venv\\ilumpy\\lib\\site-packages (from notebook->pyodesys>=0.14.1->chempy) (5.1.3)\n",
      "Requirement already satisfied: entrypoints in c:\\venv\\ilumpy\\lib\\site-packages (from jupyter-client>=5.3.4->notebook->pyodesys>=0.14.1->chempy) (0.3)\n",
      "Requirement already satisfied: pywin32>=1.0 in c:\\venv\\ilumpy\\lib\\site-packages (from jupyter-core>=4.6.1->notebook->pyodesys>=0.14.1->chempy) (301)\n",
      "Requirement already satisfied: pywinpty>=1.1.0 in c:\\venv\\ilumpy\\lib\\site-packages (from terminado>=0.8.3->notebook->pyodesys>=0.14.1->chempy) (1.1.6)\n",
      "Requirement already satisfied: argon2-cffi-bindings in c:\\venv\\ilumpy\\lib\\site-packages (from argon2-cffi->notebook->pyodesys>=0.14.1->chempy) (21.2.0)\n",
      "Requirement already satisfied: cffi>=1.0.1 in c:\\venv\\ilumpy\\lib\\site-packages (from argon2-cffi-bindings->argon2-cffi->notebook->pyodesys>=0.14.1->chempy) (1.15.0)\n",
      "Requirement already satisfied: pycparser in c:\\venv\\ilumpy\\lib\\site-packages (from cffi>=1.0.1->argon2-cffi-bindings->argon2-cffi->notebook->pyodesys>=0.14.1->chempy) (2.21)\n",
      "Requirement already satisfied: debugpy<2.0,>=1.0.0 in c:\\venv\\ilumpy\\lib\\site-packages (from ipykernel->notebook->pyodesys>=0.14.1->chempy) (1.4.3)\n",
      "Requirement already satisfied: ipython<8.0,>=7.23.1 in c:\\venv\\ilumpy\\lib\\site-packages (from ipykernel->notebook->pyodesys>=0.14.1->chempy) (7.27.0)\n",
      "Requirement already satisfied: matplotlib-inline<0.2.0,>=0.1.0 in c:\\venv\\ilumpy\\lib\\site-packages (from ipykernel->notebook->pyodesys>=0.14.1->chempy) (0.1.3)\n",
      "Requirement already satisfied: setuptools>=18.5 in c:\\venv\\ilumpy\\lib\\site-packages (from ipython<8.0,>=7.23.1->ipykernel->notebook->pyodesys>=0.14.1->chempy) (57.4.0)\n",
      "Requirement already satisfied: colorama in c:\\venv\\ilumpy\\lib\\site-packages (from ipython<8.0,>=7.23.1->ipykernel->notebook->pyodesys>=0.14.1->chempy) (0.4.4)\n",
      "Requirement already satisfied: pickleshare in c:\\venv\\ilumpy\\lib\\site-packages (from ipython<8.0,>=7.23.1->ipykernel->notebook->pyodesys>=0.14.1->chempy) (0.7.5)\n",
      "Requirement already satisfied: backcall in c:\\venv\\ilumpy\\lib\\site-packages (from ipython<8.0,>=7.23.1->ipykernel->notebook->pyodesys>=0.14.1->chempy) (0.2.0)\n",
      "Requirement already satisfied: pygments in c:\\venv\\ilumpy\\lib\\site-packages (from ipython<8.0,>=7.23.1->ipykernel->notebook->pyodesys>=0.14.1->chempy) (2.10.0)\n",
      "Requirement already satisfied: jedi>=0.16 in c:\\venv\\ilumpy\\lib\\site-packages (from ipython<8.0,>=7.23.1->ipykernel->notebook->pyodesys>=0.14.1->chempy) (0.18.0)\n",
      "Requirement already satisfied: prompt-toolkit!=3.0.0,!=3.0.1,<3.1.0,>=2.0.0 in c:\\venv\\ilumpy\\lib\\site-packages (from ipython<8.0,>=7.23.1->ipykernel->notebook->pyodesys>=0.14.1->chempy) (3.0.20)\n",
      "Requirement already satisfied: decorator in c:\\venv\\ilumpy\\lib\\site-packages (from ipython<8.0,>=7.23.1->ipykernel->notebook->pyodesys>=0.14.1->chempy) (5.1.0)\n",
      "Requirement already satisfied: parso<0.9.0,>=0.8.0 in c:\\venv\\ilumpy\\lib\\site-packages (from jedi>=0.16->ipython<8.0,>=7.23.1->ipykernel->notebook->pyodesys>=0.14.1->chempy) (0.8.2)\n",
      "Requirement already satisfied: wcwidth in c:\\venv\\ilumpy\\lib\\site-packages (from prompt-toolkit!=3.0.0,!=3.0.1,<3.1.0,>=2.0.0->ipython<8.0,>=7.23.1->ipykernel->notebook->pyodesys>=0.14.1->chempy) (0.2.5)\n",
      "Requirement already satisfied: MarkupSafe>=2.0 in c:\\venv\\ilumpy\\lib\\site-packages (from jinja2->notebook->pyodesys>=0.14.1->chempy) (2.0.1)\n",
      "Requirement already satisfied: testpath in c:\\venv\\ilumpy\\lib\\site-packages (from nbconvert->notebook->pyodesys>=0.14.1->chempy) (0.6.0)\n",
      "Requirement already satisfied: bleach in c:\\venv\\ilumpy\\lib\\site-packages (from nbconvert->notebook->pyodesys>=0.14.1->chempy) (4.1.0)\n",
      "Requirement already satisfied: nbclient<0.6.0,>=0.5.0 in c:\\venv\\ilumpy\\lib\\site-packages (from nbconvert->notebook->pyodesys>=0.14.1->chempy) (0.5.12)\n",
      "Requirement already satisfied: defusedxml in c:\\venv\\ilumpy\\lib\\site-packages (from nbconvert->notebook->pyodesys>=0.14.1->chempy) (0.7.1)\n",
      "Requirement already satisfied: pandocfilters>=1.4.1 in c:\\venv\\ilumpy\\lib\\site-packages (from nbconvert->notebook->pyodesys>=0.14.1->chempy) (1.5.0)\n",
      "Requirement already satisfied: mistune<2,>=0.8.1 in c:\\venv\\ilumpy\\lib\\site-packages (from nbconvert->notebook->pyodesys>=0.14.1->chempy) (0.8.4)\n",
      "Requirement already satisfied: jupyterlab-pygments in c:\\venv\\ilumpy\\lib\\site-packages (from nbconvert->notebook->pyodesys>=0.14.1->chempy) (0.1.2)\n",
      "Requirement already satisfied: jsonschema!=2.5.0,>=2.4 in c:\\venv\\ilumpy\\lib\\site-packages (from nbformat->notebook->pyodesys>=0.14.1->chempy) (4.4.0)\n",
      "Requirement already satisfied: attrs>=17.4.0 in c:\\venv\\ilumpy\\lib\\site-packages (from jsonschema!=2.5.0,>=2.4->nbformat->notebook->pyodesys>=0.14.1->chempy) (21.2.0)\n",
      "Requirement already satisfied: pyrsistent!=0.17.0,!=0.17.1,!=0.17.2,>=0.14.0 in c:\\venv\\ilumpy\\lib\\site-packages (from jsonschema!=2.5.0,>=2.4->nbformat->notebook->pyodesys>=0.14.1->chempy) (0.18.1)\n",
      "Requirement already satisfied: packaging in c:\\venv\\ilumpy\\lib\\site-packages (from bleach->nbconvert->notebook->pyodesys>=0.14.1->chempy) (21.0)\n",
      "Requirement already satisfied: webencodings in c:\\venv\\ilumpy\\lib\\site-packages (from bleach->nbconvert->notebook->pyodesys>=0.14.1->chempy) (0.5.1)\n",
      "Installing collected packages: pulp, dot2tex, chempy\n",
      "Successfully installed chempy-0.8.2 dot2tex-2.11.3 pulp-2.7.0\n"
     ]
    }
   ],
   "source": [
    "pip install chempy"
   ]
  },
  {
   "cell_type": "code",
   "execution_count": 8,
   "id": "29c5b3d0-bb10-4fa9-884e-c3e4d4146a61",
   "metadata": {},
   "outputs": [],
   "source": [
    "# Rode essa célula antes de rodar as seguintes, pois elas se utilizam das seguintes bibliotecas:\n",
    "import pandas as pd\n",
    "import numpy as np\n",
    "import matplotlib.pyplot as plt\n",
    "from funcoes_desafio_3 import *\n",
    "import imageio\n",
    "import warnings\n",
    "from chempy import Equilibrium\n",
    "from chempy import Substance\n",
    "from chempy import balance_stoichiometry"
   ]
  },
  {
   "cell_type": "markdown",
   "id": "ce408149-1f7f-44f2-b31a-e7a468aad8e2",
   "metadata": {},
   "source": [
    "### Esquema do Curso e Desafios"
   ]
  },
  {
   "cell_type": "markdown",
   "id": "daf5bbd5-34db-432f-8bc0-7e840cd300fc",
   "metadata": {
    "tags": []
   },
   "source": [
    "<center>\n",
    "  <img src='./Figuras - Desafio 3/Esquema do Curso.png' style=\"width:900px;height:500px\"/>\n",
    "    \n",
    "    Figura 1: esquema do curso e desafios\n",
    "</center>"
   ]
  },
  {
   "cell_type": "markdown",
   "id": "dc016c75-f21b-4c31-8206-d1ad4a343c2c",
   "metadata": {},
   "source": [
    "### Recapitulação"
   ]
  },
  {
   "cell_type": "markdown",
   "id": "d792b8ec-2ffc-4842-aa67-2ed373a1d807",
   "metadata": {},
   "source": [
    "Antes de começarmos o terceiro desafio, é importante retomar o que foi feito no desafio anterior e o que obtemos como resultado dele:\n",
    "\n",
    "No desafio anterior, nós separamos a mistura inicial- definida no desafio 1 como uma mistura de água com etanol a 40% v/v- por meio de destilação fracionada. Como resultado, obtivemos dois líquidos: uma mistura de etanol enriquecido (em fração molar 0.773) de massa 384.73 kg e 615.27 kg de água pura. \n",
    "\n",
    "Após disso, nós evaporamos o etanol enriquecido a 81.54°C, o que gerou **384.73 kg de etanol enriquecido gasoso**. Por fim, realizamos eletrólise da água, através da qual extraímos **47.85 kg de hidrogênio gasoso**.\n",
    "\n",
    "É importante pontuar, também, que o processo de evaporação do útimo desafio foi realizado à pressão constante de 1 atm, num recipiente semelhante a um **balão**. Para esse próximo desafio, transferiremos o conteúdo de ambos os balões para um reator de **volume constante**."
   ]
  },
  {
   "cell_type": "markdown",
   "id": "55114702-62f1-42b8-a64c-2b606fba6251",
   "metadata": {},
   "source": [
    "### Problema A"
   ]
  },
  {
   "cell_type": "markdown",
   "id": "5ed4cb85-0351-4d4a-b622-7229519fbb74",
   "metadata": {},
   "source": [
    "#### Objetivo: \n",
    " Calcular os potenciais termodinâmicos (energia interna, entalpia, energia livre de Gibbs) envolvidos na reação de combustão.\n",
    "\n",
    "#### O que temos: \n",
    "- \n",
    "\n",
    "\n",
    "#### O que iremos fazer:\n",
    "- "
   ]
  },
  {
   "cell_type": "markdown",
   "id": "b3ff1920-4f03-4c82-888f-fb2ed766072e",
   "metadata": {},
   "source": [
    "### Entalpia de Combustão:"
   ]
  },
  {
   "cell_type": "markdown",
   "id": "7d87547d-9914-433c-a482-34ec4c9c24f6",
   "metadata": {},
   "source": [
    "A reação de combustão completa do etanol é dada por: \n",
    "\n",
    "$C_2H_5OH + 3O_2 \\rightarrow 2CO_2 + 3H_2O$\n",
    "\n",
    "Para encontrar a entalpia de combustão do etanol, basta calcular a diferença entre a soma das entalpias de formação dos reagentes e a soma das entalpias de fomação dos produtos.\n",
    "\n",
    "De acordo com a literatura, $\\Delta_f H[CO_2(g)] = -393.509 kJ^{-1} mol^{-1}$, $\\Delta_f H[H_2O(g)] = -285.83 kJ^{-1} mol^{-1}$, $\\Delta_f H[C_2H_5OH(g)] = -277.69 kJ^{-1}mol^{-1}$, logo, temos a seguinte conta, considerando a entalpia de formação do oxigênio como zero:\n",
    "\n",
    "$\\Delta_c H[C_2H_5OH(g)] = (2⋅-393.509 + 3⋅-285.83)- (1⋅-277.69) = 1366.82 kJ^{-1}mol^{-1}$"
   ]
  },
  {
   "cell_type": "markdown",
   "id": "741d99ea-480e-4c9d-a079-533147c2fedb",
   "metadata": {},
   "source": [
    "### Entropia de Combustão:"
   ]
  },
  {
   "cell_type": "markdown",
   "id": "8cc95683-8ae9-44a7-bb69-27fe159a608e",
   "metadata": {},
   "source": [
    "$ S(T)= \\int_{0}^{T_{fus}}\\frac{C^{S}_P(T)}{T}dT + \\frac{\\Delta_{fus}H}{T_{fus}} + \\int_{T_{fus}}^{T_{vap}}\\frac{C^{l}_P(T)}{T}dT + \\frac{\\Delta_{vap}H}{T_{vap}} + \\int_{T_{vap}}^{T}\\frac{C^{g}_P(T')}{T'}dT'$"
   ]
  },
  {
   "cell_type": "markdown",
   "id": "8b6df3da-2422-42ef-a68c-0f35cb0b9481",
   "metadata": {},
   "source": [
    "##\n",
    "### Problema B"
   ]
  },
  {
   "cell_type": "markdown",
   "id": "ddcbc8ac-4a4e-4c04-9c6d-c00340fdbe23",
   "metadata": {},
   "source": [
    "#### Objetivo\n",
    "Determinar a entropia envolvida na reação de combustão.\n",
    "\n",
    "#### O que temos:\n",
    "- \n",
    "\n",
    "#### O que iremos fazer\n",
    "- "
   ]
  },
  {
   "cell_type": "code",
   "execution_count": null,
   "id": "ba36b53e-9cea-428e-bdcc-cd49a0d25864",
   "metadata": {},
   "outputs": [],
   "source": []
  },
  {
   "cell_type": "markdown",
   "id": "dbb0978c-18ee-4041-8998-a2f276dc3420",
   "metadata": {},
   "source": [
    "\n"
   ]
  },
  {
   "cell_type": "markdown",
   "id": "ce54b4cb-4fd9-48f4-85a8-5d77a25e4bd0",
   "metadata": {},
   "source": [
    "### Problema C"
   ]
  },
  {
   "cell_type": "markdown",
   "id": "aead8e38-91ea-4d1f-9eb3-10809bfe7783",
   "metadata": {},
   "source": [
    "#### Objetivo\n",
    "\n",
    "Determinar a equação de estado a ser usada para o sistema.\n"
   ]
  },
  {
   "cell_type": "markdown",
   "id": "a5102fd7-2d41-4b92-bf58-35dafe652f6b",
   "metadata": {},
   "source": [
    "#### O que temos:\n",
    "- \n",
    "\n",
    "#### O que iremos fazer\n",
    "- "
   ]
  },
  {
   "cell_type": "code",
   "execution_count": null,
   "id": "fe0061f6-5c8a-480b-bd80-1b8c6f90c323",
   "metadata": {},
   "outputs": [],
   "source": []
  },
  {
   "cell_type": "markdown",
   "id": "1e08c257-5b47-4673-907b-83d0ad2ff09a",
   "metadata": {
    "tags": []
   },
   "source": [
    "# Acesse o repositório do projeto!"
   ]
  },
  {
   "cell_type": "markdown",
   "id": "31fab411-3ae3-4ade-8bb6-e7c553bfb76b",
   "metadata": {},
   "source": [
    "Para melhor compreensão de cade etapa e de cada escolha do nosso projeto, acesse, clicando aqui ou no link abaixo, nosso [Repositório do Github](https://github.com/benetao/Termodinamica_Avancada), onde estão armazenados todos os notebooks e informações referentes aos desafios:\n",
    "\n",
    "https://github.com/benetao/Termodinamica_Avancada"
   ]
  },
  {
   "cell_type": "markdown",
   "id": "3e8ab7f3-0ddd-403a-8af1-5e082e970760",
   "metadata": {},
   "source": [
    "#\n",
    "## Referências\n",
    "- Livro An Introduction to Thermal Physics, Daniel V. Schroeder, Editora Addison-Wesley.\n",
    "- Livro Physical Chemistry: A Molecular Approach, Donald A. McQuarrie, Editora Univesity Science Books.\n",
    "- Livro Richard Feynman, Lições de Física Vol 1, Editora Bookman.\n",
    "        Capítulo de Teoria Cinética dos Gases"
   ]
  }
 ],
 "metadata": {
  "kernelspec": {
   "display_name": "ilumpy",
   "language": "python",
   "name": "ilumpy"
  },
  "language_info": {
   "codemirror_mode": {
    "name": "ipython",
    "version": 3
   },
   "file_extension": ".py",
   "mimetype": "text/x-python",
   "name": "python",
   "nbconvert_exporter": "python",
   "pygments_lexer": "ipython3",
   "version": "3.9.7"
  }
 },
 "nbformat": 4,
 "nbformat_minor": 5
}
