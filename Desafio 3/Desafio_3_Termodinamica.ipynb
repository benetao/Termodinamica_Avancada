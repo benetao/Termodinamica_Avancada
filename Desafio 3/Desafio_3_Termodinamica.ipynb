{
 "cells": [
  {
   "cell_type": "markdown",
   "id": "8099c03d-0f38-4f2e-9880-3cdfb4f84d2b",
   "metadata": {},
   "source": [
    "<img src=\"Figuras - Desafio 3/logo.png\" style=\"width:1450px;height:250px\"/>\n",
    "\n",
    "# Ilum Escola de Ciência\n",
    "### Curso: Termodinâmica Avançada\n",
    "### Prof: Amauri Jardim de Paula\n",
    "### Alunos: Gabriel Pereira e Isabela Beneti\n",
    "### Desafio 3"
   ]
  },
  {
   "cell_type": "markdown",
   "id": "a86bd3bd-4b69-4226-bdfb-3d497abb4d51",
   "metadata": {},
   "source": [
    "#\n",
    "## Descrição do desafio\n",
    "O terceiro desafio para solução do problema principal da disciplina envolve:\n",
    "\n",
    "#### **A combustão dos compostos escolhidos**"
   ]
  },
  {
   "cell_type": "markdown",
   "id": "73d00327-0d04-48e7-b68c-2319531d02be",
   "metadata": {},
   "source": [
    "## Problemas\n",
    "\n",
    "#### Para solucionar o desafio, alguns aspectos importantes devem ser considerados.\n",
    "\n",
    "##### A. Os potenciais termodinâmicos (energia interna, entalpia, energia livre de Gibbs) envolvidos na reação de combustão.\n",
    "##### B. A entropia envolvida na reação de combustão.\n",
    "##### C.A equação de estado a ser usada para o sistema."
   ]
  },
  {
   "cell_type": "markdown",
   "id": "9c31bef0-b2f8-4f36-a5b6-32573953f0dd",
   "metadata": {},
   "source": [
    "#\n",
    "## Resoluções"
   ]
  },
  {
   "cell_type": "markdown",
   "id": "cb2bb085-a42c-4750-80d1-16c6c354a27a",
   "metadata": {},
   "source": [
    "### Importações"
   ]
  },
  {
   "cell_type": "code",
   "execution_count": 1,
   "id": "29c5b3d0-bb10-4fa9-884e-c3e4d4146a61",
   "metadata": {},
   "outputs": [],
   "source": [
    "# Rode essa célula antes de rodar as seguintes, pois elas se utilizam das seguintes bibliotecas:\n",
    "import pandas as pd\n",
    "import numpy as np\n",
    "import matplotlib.pyplot as plt\n",
    "from funcoes_desafio_3 import *\n",
    "import imageio\n",
    "import warnings"
   ]
  },
  {
   "cell_type": "markdown",
   "id": "ce408149-1f7f-44f2-b31a-e7a468aad8e2",
   "metadata": {},
   "source": [
    "### Esquema do Curso e Desafios"
   ]
  },
  {
   "cell_type": "markdown",
   "id": "daf5bbd5-34db-432f-8bc0-7e840cd300fc",
   "metadata": {
    "tags": []
   },
   "source": [
    "<center>\n",
    "  <img src='./Figuras - Desafio 3/Esquema do Curso.png' style=\"width:900px;height:500px\"/>\n",
    "    \n",
    "    Figura 1: esquema do curso e desafios\n",
    "</center>"
   ]
  },
  {
   "cell_type": "markdown",
   "id": "dc016c75-f21b-4c31-8206-d1ad4a343c2c",
   "metadata": {},
   "source": [
    "### Recapitulação"
   ]
  },
  {
   "cell_type": "markdown",
   "id": "d792b8ec-2ffc-4842-aa67-2ed373a1d807",
   "metadata": {},
   "source": [
    "Antes de começarmos o terceiro desafio, é importante retomar o que foi feito no desafio anterior e o que obtemos como resultado dele:\n",
    "\n",
    "No desafio anterior, nós separamos a mistura inicial- definida no desafio 1 como uma mistura de água com etanol a 40% v/v- por meio de destilação fracionada. Como resultado, obtivemos dois líquidos: uma mistura de etanol enriquecido (em fração molar 0.773) de massa 384.73 kg e 615.27 kg de água pura. \n",
    "\n",
    "Após disso, nós evaporamos o etanol enriquecido a 81.54°C, o que gerou **384.73 kg de etanol enriquecido gasoso**. Por fim, realizamos eletrólise da água, através da qual extraímos **47.85 kg de hidrogênio gasoso**.\n",
    "\n",
    "É importante pontuar, também, que o processo de evaporação do útimo desafio foi realizado à pressão constante de 1 atm, num recipiente semelhante a um **balão**. Para esse próximo desafio, transferiremos o conteúdo de ambos os balões para um reator de **volume constante**."
   ]
  },
  {
   "cell_type": "markdown",
   "id": "55114702-62f1-42b8-a64c-2b606fba6251",
   "metadata": {},
   "source": [
    "### Problema A"
   ]
  },
  {
   "cell_type": "markdown",
   "id": "5ed4cb85-0351-4d4a-b622-7229519fbb74",
   "metadata": {},
   "source": [
    "#### Objetivo: \n",
    " Calcular os potenciais termodinâmicos (energia interna, entalpia, energia livre de Gibbs) envolvidos na reação de combustão.\n",
    "\n",
    "#### O que temos: \n",
    "- \n",
    "\n",
    "\n",
    "#### O que iremos fazer:\n",
    "- "
   ]
  },
  {
   "cell_type": "markdown",
   "id": "b3ff1920-4f03-4c82-888f-fb2ed766072e",
   "metadata": {},
   "source": [
    "### Entalpia de Combustão:\n",
    "\n",
    "A reação de combustão completa do etanol é dada por:\n",
    "\n"
   ]
  },
  {
   "cell_type": "markdown",
   "id": "8b6df3da-2422-42ef-a68c-0f35cb0b9481",
   "metadata": {},
   "source": [
    "##\n",
    "### Problema B"
   ]
  },
  {
   "cell_type": "markdown",
   "id": "ddcbc8ac-4a4e-4c04-9c6d-c00340fdbe23",
   "metadata": {},
   "source": [
    "#### Objetivo\n",
    "Determinar a entropia envolvida na reação de combustão.\n",
    "\n",
    "#### O que temos:\n",
    "- \n",
    "\n",
    "#### O que iremos fazer\n",
    "- "
   ]
  },
  {
   "cell_type": "code",
   "execution_count": null,
   "id": "ba36b53e-9cea-428e-bdcc-cd49a0d25864",
   "metadata": {},
   "outputs": [],
   "source": []
  },
  {
   "cell_type": "markdown",
   "id": "dbb0978c-18ee-4041-8998-a2f276dc3420",
   "metadata": {},
   "source": [
    "\n"
   ]
  },
  {
   "cell_type": "markdown",
   "id": "ce54b4cb-4fd9-48f4-85a8-5d77a25e4bd0",
   "metadata": {},
   "source": [
    "### Problema C"
   ]
  },
  {
   "cell_type": "markdown",
   "id": "aead8e38-91ea-4d1f-9eb3-10809bfe7783",
   "metadata": {},
   "source": [
    "#### Objetivo\n",
    "\n",
    "Determinar a equação de estado a ser usada para o sistema.\n"
   ]
  },
  {
   "cell_type": "markdown",
   "id": "a5102fd7-2d41-4b92-bf58-35dafe652f6b",
   "metadata": {},
   "source": [
    "#### O que temos:\n",
    "- \n",
    "\n",
    "#### O que iremos fazer\n",
    "- "
   ]
  },
  {
   "cell_type": "code",
   "execution_count": null,
   "id": "fe0061f6-5c8a-480b-bd80-1b8c6f90c323",
   "metadata": {},
   "outputs": [],
   "source": []
  },
  {
   "cell_type": "markdown",
   "id": "1e08c257-5b47-4673-907b-83d0ad2ff09a",
   "metadata": {
    "tags": []
   },
   "source": [
    "# Acesse o repositório do projeto!"
   ]
  },
  {
   "cell_type": "markdown",
   "id": "31fab411-3ae3-4ade-8bb6-e7c553bfb76b",
   "metadata": {},
   "source": [
    "Para melhor compreensão de cade etapa e de cada escolha do nosso projeto, acesse, clicando aqui ou no link abaixo, nosso [Repositório do Github](https://github.com/benetao/Termodinamica_Avancada), onde estão armazenados todos os notebooks e informações referentes aos desafios:\n",
    "\n",
    "https://github.com/benetao/Termodinamica_Avancada"
   ]
  },
  {
   "cell_type": "markdown",
   "id": "3e8ab7f3-0ddd-403a-8af1-5e082e970760",
   "metadata": {},
   "source": [
    "#\n",
    "## Referências\n",
    "- Livro An Introduction to Thermal Physics, Daniel V. Schroeder, Editora Addison-Wesley.\n",
    "- Livro Physical Chemistry: A Molecular Approach, Donald A. McQuarrie, Editora Univesity Science Books.\n",
    "- Livro Richard Feynman, Lições de Física Vol 1, Editora Bookman.\n",
    "        Capítulo de Teoria Cinética dos Gases"
   ]
  }
 ],
 "metadata": {
  "kernelspec": {
   "display_name": "ilumpy",
   "language": "python",
   "name": "ilumpy"
  },
  "language_info": {
   "codemirror_mode": {
    "name": "ipython",
    "version": 3
   },
   "file_extension": ".py",
   "mimetype": "text/x-python",
   "name": "python",
   "nbconvert_exporter": "python",
   "pygments_lexer": "ipython3",
   "version": "3.9.7"
  }
 },
 "nbformat": 4,
 "nbformat_minor": 5
}
