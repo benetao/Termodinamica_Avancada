{
 "cells": [
  {
   "cell_type": "markdown",
   "id": "8099c03d-0f38-4f2e-9880-3cdfb4f84d2b",
   "metadata": {},
   "source": [
    "<img src=\"logo1.png\" style=\"width:450px;height:150px\"/>\n",
    "\n",
    "# Ilum Escola de Ciência\n",
    "### Curso: Termodinâmica Avançada\n",
    "### Prof: Amauri Jardim de Paula\n",
    "### Alunos: Gabriel Pereira e Isabela Beneti\n",
    "### Desafio 1\n",
    "###"
   ]
  },
  {
   "cell_type": "code",
   "execution_count": null,
   "id": "dbe3bd75-50af-4099-9047-f6947a98a0cd",
   "metadata": {},
   "outputs": [],
   "source": []
  },
  {
   "cell_type": "markdown",
   "id": "a86bd3bd-4b69-4226-bdfb-3d497abb4d51",
   "metadata": {},
   "source": [
    "## Descrição do desafio\n",
    "O primeiro desafio para solução do problema principal da disciplina envolve:\n",
    "\n",
    "#### **A definição de uma mistura com potencial para fornecimento de energia ao ciclo Rankine (responsável pela geração de energia elétrica)**\n"
   ]
  },
  {
   "cell_type": "markdown",
   "id": "73d00327-0d04-48e7-b68c-2319531d02be",
   "metadata": {},
   "source": [
    "#\n",
    "## Problemas\n",
    "##### Para a definição da mistura, alguns aspectos termodinâmicos importantes devem ser considerados:\n",
    "##### A. Definir mistura com potencial para fornecimento de energia ao ciclo Rankine (geração de energia elétrica) e definir os critérios os quais serviram para escolher a mistura.\n",
    "##### B. Definir a entalpia da mistura, que é definida como uma função potencial termodinâmica.\n",
    "##### C. Definir os Diagramas de Fase dos compostos e da mistura.\n"
   ]
  },
  {
   "cell_type": "markdown",
   "id": "9c31bef0-b2f8-4f36-a5b6-32573953f0dd",
   "metadata": {},
   "source": [
    "## Resoluções"
   ]
  },
  {
   "cell_type": "markdown",
   "id": "55114702-62f1-42b8-a64c-2b606fba6251",
   "metadata": {},
   "source": [
    "### Problema A"
   ]
  },
  {
   "cell_type": "code",
   "execution_count": null,
   "id": "43a69096-e00c-45f1-8767-5eca8328b88d",
   "metadata": {},
   "outputs": [],
   "source": []
  },
  {
   "cell_type": "code",
   "execution_count": null,
   "id": "c61ba389-2018-482f-aa93-b3e98a0fc752",
   "metadata": {},
   "outputs": [],
   "source": []
  },
  {
   "cell_type": "markdown",
   "id": "8b6df3da-2422-42ef-a68c-0f35cb0b9481",
   "metadata": {},
   "source": [
    "### Problema B"
   ]
  },
  {
   "cell_type": "code",
   "execution_count": null,
   "id": "5a8a55d4-e6e6-4758-9b42-f1456d5c157e",
   "metadata": {},
   "outputs": [],
   "source": []
  },
  {
   "cell_type": "code",
   "execution_count": null,
   "id": "62c9669d-eea4-431b-ba0d-91dd021e50f9",
   "metadata": {},
   "outputs": [],
   "source": []
  },
  {
   "cell_type": "markdown",
   "id": "a4ac30fc-1f8f-4f99-95eb-c71811a04b91",
   "metadata": {},
   "source": [
    "### Problema C"
   ]
  },
  {
   "cell_type": "code",
   "execution_count": null,
   "id": "2275d0e8-1354-42dc-925c-a304fa60068c",
   "metadata": {},
   "outputs": [],
   "source": []
  },
  {
   "cell_type": "markdown",
   "id": "3e8ab7f3-0ddd-403a-8af1-5e082e970760",
   "metadata": {},
   "source": [
    "#\n",
    "## Referências\n",
    "- Livro: An Introduction to Thermal Physics, Daniel V. Schroeder, Editora Addison-Wesley.\n",
    "- Livro: Physical Chemistry: A Molecular Approach, Donald A. McQuarrie, Editora Univesity Science Books.\n",
    "        Seções 19-10, 10-11 e 23-1.\n",
    "- Livro Richard Feynman, Lições de Física Vol 1, Editora Bookman.\n",
    "        Capítulo de Teoria Cinética dos Gases"
   ]
  },
  {
   "cell_type": "markdown",
   "id": "92206057-3a7f-400f-92e2-7cfed999f668",
   "metadata": {
    "tags": []
   },
   "source": [
    "#\n",
    "## Autoavaliação\n",
    "##### De 0 a 10, qual nota você daria considerando o seu desempenho nessa atividade?\n",
    "##### Quais dificuldades você teve nessa atividade?\n",
    "##### Quanto tempo você gastou para se preparar para essa atividade?"
   ]
  },
  {
   "cell_type": "markdown",
   "id": "d5599453-9d9f-4e10-bd8b-aee21ba8229c",
   "metadata": {},
   "source": [
    "*De 0 a 10, eu daria nota 8 para mim, pois precisei de bastante ajuda dos meus amigos para realizar a atividade. Minha maior dificuldade foi encontrar as fórmulas, no texto de Feynman, para a resolução dor problemas. Eu gastei cerca de uma hora para me preparar para a atividade. Já a atividade em si, demorei mais de 3 horas para fazer*"
   ]
  },
  {
   "cell_type": "code",
   "execution_count": null,
   "id": "5584ee48-8ed8-4fcf-b849-78ef7719f6fa",
   "metadata": {},
   "outputs": [],
   "source": []
  }
 ],
 "metadata": {
  "kernelspec": {
   "display_name": "ilumpy",
   "language": "python",
   "name": "ilumpy"
  },
  "language_info": {
   "codemirror_mode": {
    "name": "ipython",
    "version": 3
   },
   "file_extension": ".py",
   "mimetype": "text/x-python",
   "name": "python",
   "nbconvert_exporter": "python",
   "pygments_lexer": "ipython3",
   "version": "3.9.7"
  }
 },
 "nbformat": 4,
 "nbformat_minor": 5
}
