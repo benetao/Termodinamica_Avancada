{
 "cells": [
  {
   "cell_type": "markdown",
   "id": "ef0a2bbf-6504-4d64-8a7c-1337ed6e4ce1",
   "metadata": {},
   "source": [
    "<img src=\"logo1.png\" style=\"width:450px;height:150px\"/>\n",
    "\n",
    "# Ilum Escola de Ciência\n",
    "### Curso: Termodinâmica Avançada\n",
    "### Prof: Amauri Jardim de Paula\n",
    "###\n",
    "### Desafio 1. Ciclo de Rankine.\n",
    "###"
   ]
  },
  {
   "cell_type": "markdown",
   "id": "bb632ee6-3a2b-452f-a0f7-d657758b20b6",
   "metadata": {},
   "source": [
    "Para a mistura com potencial de fornecimento de energia para o ciclo de Rankine, nós escolhemos uma mistura de 85:15 entre etanol e água (E85).\n",
    "De acordo com o diagrama de fases, essa proporção atinge o estado de vapor em 80.6°C."
   ]
  },
  {
   "cell_type": "markdown",
   "id": "c2042181-6c97-4bc6-8130-b6446ada8c17",
   "metadata": {},
   "source": [
    "![Diagrama de Fases](Ethanol-Phase-Diagram-3662483815.jpg)"
   ]
  },
  {
   "cell_type": "markdown",
   "id": "e94242f8-2140-40a0-b1a5-a1be881ce406",
   "metadata": {},
   "source": [
    "Para esta escolha de mistura, consideramos o valor da entalpia da combustão do etanol, a baixa diferença entre o ponto de borbulhamento e o de condensação e as propriedades termodinâmicas específicas da proporção.\n",
    "\n",
    "A entalpia de uma mistura é a soma das entalpias de cada substância individualmente, mas como somente o etanol entra em combustão, encontramos uma energia de $Δ_{c}H_{o}$ = -1370.7kJ/mol à 25°C e pressão de 1atm.\n",
    "\n",
    "Ainda, podemos observar que essa mistura apresenta um ponto de fervura mais baixo que o da água pura e também uma pressão de vapor mais alta que a do etanol puro. Da mesma forma, a baixa diferença entre o ponto de borbulhamento (bubble point) e o de condensação (dew point) são benéficas para a geração de vapor com menor gasto de energia. Logo, as propriedades de ambas as substâncias misturadas têm o potencial de otimizar a performance do ciclo.\n",
    "\n",
    "Por fim, também ressaltamos que escolhemos uma mistura de fontes renováveis, econômica (em comparação com outros combustíveis, como gasolina e pelo apoio à indústria nacional de etanol de cana-de-açúcar ou afins) e atóxica e estável."
   ]
  }
 ],
 "metadata": {
  "kernelspec": {
   "display_name": "ilumpy",
   "language": "python",
   "name": "ilumpy"
  },
  "language_info": {
   "codemirror_mode": {
    "name": "ipython",
    "version": 3
   },
   "file_extension": ".py",
   "mimetype": "text/x-python",
   "name": "python",
   "nbconvert_exporter": "python",
   "pygments_lexer": "ipython3",
   "version": "3.9.7"
  }
 },
 "nbformat": 4,
 "nbformat_minor": 5
}
