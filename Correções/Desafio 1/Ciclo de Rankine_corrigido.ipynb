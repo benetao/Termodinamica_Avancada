{
 "cells": [
  {
   "cell_type": "markdown",
   "id": "ef0a2bbf-6504-4d64-8a7c-1337ed6e4ce1",
   "metadata": {},
   "source": [
    "<img src=\"logo1.png\" style=\"width:450px;height:150px\"/>\n",
    "\n",
    "# Ilum Escola de Ciência\n",
    "### Curso: Termodinâmica Avançada\n",
    "### Prof: Amauri Jardim de Paula\n",
    "### \n",
    "### Desafio 1. Ciclo de Rankine.\n",
    "###\n",
    "### Correções em <font color='red'>Vermelho"
   ]
  },
  {
   "cell_type": "markdown",
   "id": "bb632ee6-3a2b-452f-a0f7-d657758b20b6",
   "metadata": {},
   "source": [
    "Para a mistura com potencial de fornecimento de energia para o ciclo de Rankine, nós escolhemos uma mistura de 85:15 entre etanol e água (E85).\n",
    "De acordo com o diagrama de fases, essa proporção atinge o estado de vapor em 80.6°C."
   ]
  },
  {
   "cell_type": "markdown",
   "id": "c2042181-6c97-4bc6-8130-b6446ada8c17",
   "metadata": {},
   "source": [
    "![Diagrama de Fases](Ethanol-Phase-Diagram-3662483815.jpg)"
   ]
  },
  {
   "cell_type": "markdown",
   "id": "f3f69336-d9f9-4238-a38e-331ae4d51c6f",
   "metadata": {},
   "source": [
    "<font color='red'>Fahrenheit?</font>"
   ]
  },
  {
   "cell_type": "markdown",
   "id": "e94242f8-2140-40a0-b1a5-a1be881ce406",
   "metadata": {},
   "source": [
    "<p style='text-align: justify'>\n",
    "\n",
    "Para esta escolha de mistura, consideramos o valor da entalpia da combustão do etanol, a baixa diferença entre o ponto de borbulhamento e o de condensação e as propriedades termodinâmicas específicas da proporção.\n",
    "\n",
    "A entalpia de uma mistura <font color='red'>Qual entalpia? De formação?</font> é a soma das entalpias de cada substância individualmente <font color='red'>Existe uma diferença de entalpia associada ao ato de misturar, denominada como \"Mixing Enthalpy\", a qual representa uma diferença entre a entalpia de formação de uma mistura e a entalpia de formação das substâncias separadamente.</font>, mas como somente o etanol entra em combustão <font color='red'>Qual é a entalpia que se deseja encontrar? Não está bem detalhado o motivo do uso da entalpia de combustão. Não foi possível identificar se o grupo separaria as substâncias da mistura ou faria a combustão da mistura. Se o grupo for separar as substâncias, por que não trabalharam com a entalpia de combustão das substâncias separadamente? Se o grupo não for separar as substâncias, por que o uso do diagrama de fases? E como sabem que a entalpia de combustão da mistura corresponde à entalpia de combustão do etanol? Lembrando que, por se tratar de uma grandeza extensiva, a entalpia de combustão de uma mistura não poderia ser simplesmente a entalpia de combustão de uma de suas substâncias, devido simplesmente à estequeometria, por exemplo, para a mistura E85, apenas uma fração molar da mistura é constituída de etanol. </font>, encontramos uma energia de $Δ_{c}H_{o}$ = -1370.7kJ/mol à 25°C e pressão de 1atm <font color='red'>Como esse valor foi encontrado? Qual é a referência? Foi realizada alguma conta em específico ou foi considerado apenas o valor tabelado?</font>.\n",
    "\n",
    "\n",
    "Ainda, podemos observar que essa mistura apresenta um ponto de fervura mais baixo que o da água pura e também uma pressão de vapor mais alta que a do etanol puro. Da mesma forma, a baixa diferença entre o ponto de borbulhamento (bubble point) e o de condensação (dew point) são benéficas para a geração de vapor com menor gasto de energia . Logo, as propriedades de ambas as substâncias misturadas têm o potencial de otimizar a performance do ciclo.  <font color='red'>Qual o sentido de avaliar a geração de vapor da mistura no nosso problema? Afinal, no ciclo de Rankine, a mistura escolhida nesse desafio será utilizada para gerar calor ao boiler, para então vaporizar <u>outro composto</u>, que provavelmente será somente água.</font>\n",
    "\n",
    "Por fim, também ressaltamos que escolhemos uma mistura de fontes renováveis, econômica (em comparação com outros combustíveis, como gasolina e pelo apoio à indústria nacional de etanol de cana-de-açúcar ou afins) e atóxica e estável. \n",
    "    \n",
    "</p>"
   ]
  },
  {
   "cell_type": "markdown",
   "id": "02738862-9c4a-46b0-b65d-c4de69ae1d14",
   "metadata": {},
   "source": [
    "### <font color='red'>Considerações Finais"
   ]
  },
  {
   "cell_type": "markdown",
   "id": "c342b311-f43e-46cb-805f-b859b706d9e9",
   "metadata": {},
   "source": [
    "<font color='red'>Percebe-se que a dupla, de fato, pesquisou as propriedades dos componentes para chegar à decisão da mistura, assim como o proposto pelo desafio. Entretanto, a justificativa de tal decisão não foi exposta de maneira clara no notebook, e certamente houve confusão de conceitos durante o processo da escolha. Um exemplo disso é o uso equivocado dos conceitos de entalpia de formação e de combustão, ainda no terceiro parágrafo. </font>\n",
    "\n",
    " <font color='red'>Logo, consideramos que a ideia, apesar de promissora, apresenta falhas de conceito em sua justificativa. </font>"
   ]
  }
 ],
 "metadata": {
  "kernelspec": {
   "display_name": "ilumpy",
   "language": "python",
   "name": "ilumpy"
  },
  "language_info": {
   "codemirror_mode": {
    "name": "ipython",
    "version": 3
   },
   "file_extension": ".py",
   "mimetype": "text/x-python",
   "name": "python",
   "nbconvert_exporter": "python",
   "pygments_lexer": "ipython3",
   "version": "3.9.7"
  }
 },
 "nbformat": 4,
 "nbformat_minor": 5
}
