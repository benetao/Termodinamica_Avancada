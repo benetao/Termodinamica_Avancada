{
 "cells": [
  {
   "cell_type": "markdown",
   "id": "77a66bb1-772c-4980-82b4-672cbebdb070",
   "metadata": {
    "id": "77a66bb1-772c-4980-82b4-672cbebdb070"
   },
   "source": [
    "<dt>\n",
    "    <center>\n",
    "        <font size = 30> Desafio 4\n",
    "        </font>\n",
    "    </center>\n",
    "</dt>"
   ]
  },
  {
   "cell_type": "markdown",
   "id": "f39d4774-687d-40db-a9c7-88ecc9de0e35",
   "metadata": {},
   "source": [
    "# Correção\n",
    "As correções serão feitas em cores diferentes, baseadas no tipo de correção.\n",
    "\n",
    "### <font color='green'>Verde</font>\n",
    "<font color='green'>Tópicos que estão corretos e que foram muito bem feitos.</font>\n",
    "\n",
    "### <font color='blue'>Azul</font>\n",
    "<font color='blue'>Tópicos que estão corretos, porém o grupo corretor faria de uma maneira diferente.</font>\n",
    "\n",
    "### <font color='yellow'>Amarelo</font>\n",
    "<font color='yellow'>Tópicos que estão corretos, porém foram realizados ou explicados de maneira equivocada.</font>\n",
    "\n",
    "### <font color='red'>Vermelho</font>\n",
    "<font color='red'>Tópicos que estão incorretos.</font>"
   ]
  },
  {
   "cell_type": "markdown",
   "id": "1fbfeeef-92d4-4b84-bcfa-39df7ba60fde",
   "metadata": {
    "id": "1fbfeeef-92d4-4b84-bcfa-39df7ba60fde"
   },
   "source": [
    "Com todos os parâmetros termodinâmicos definidos sobre a mistura e sua combustão, podemos seguir para a próxima etapa que envolve a transferência desta energia para o ciclo ${Rankine}$"
   ]
  },
  {
   "cell_type": "markdown",
   "id": "c85af4c4-222d-4689-9d07-8b39ed3b6685",
   "metadata": {
    "id": "c85af4c4-222d-4689-9d07-8b39ed3b6685",
    "tags": []
   },
   "source": [
    "Antes de prosseguirmos com a transferência em si, vamos definir o funcionamento do ciclo Rankine.\n",
    "\n",
    "<h2> Ciclo Rankine </h2>\n",
    "\n",
    "O ciclo Rankine é um tipo de motor, também conhecido como motor a vapor, que opera com base no uso de vapor. Seu funcionamento envolve o trabalho realizado pelo vapor em um pistão ou turbina, tornando essencial o cálculo da pressão do vapor gerado pela combustão da mistura. Durante o ciclo, o calor resultante da combustão do combustível aquece um fluido de trabalho, geralmente água, resultando na geração de vapor superaquecido. A água é evaporada, fornecendo a energia necessária para mover a turbina ou impulsionar o pistão. Em seguida, o vapor condensa e realiza trabalho no pistão ou turbina. <font color='red'>O vapor realiza trabalho antes de condensar.</font>\n",
    "\n",
    "Esse ciclo termodinâmico, o ciclo Rankine, é amplamente utilizado em usinas de energia térmica, como usinas a vapor e usinas nucleares. Seu objetivo principal é converter calor em trabalho. O ciclo consiste em quatro processos principais: aquecimento, expansão, resfriamento e compressão.\n",
    "\n",
    "<dt>\n",
    "<center> \n",
    "<img src=\"Rankine.jpg\" style=\"width:800px;height:400px\"/>\n",
    "<figcaption> $ \\textbf{Fig. 1:}$ Exemplificação do funcionamento do ciclo Rankine e seus componentes principais, e um Diagrama do ciclo Rankine ideal da Temperatura (T) em função da Entropia (S)</figcaption>\n",
    "</center>\n",
    "</dt>\n",
    "<br>\n",
    "\n",
    "<h2> Etapas do ciclo Rankine e sua visualização no diagrama </h2>\n",
    "\n",
    "#### Da etapa 1 até 2\n",
    "No início do ciclo, o fluido de trabalho, seja este água, é bombeado para uma caldeira através de uma compressão isentrópica, ou seja, a entropia do sistema permanecerá constante, e por este motivo nota-se no diagrama um aumento linear de **(1)** até **(2)**.\n",
    "\n",
    "\n",
    "#### Etapa 2 até $3_a$\n",
    "No processo de aquecimento **(2)**, a água líquida de alta pressão é aquecida em uma caldeira por meio de uma fonte de calor externa, como a queima de combustíveis de misturas ou fissão nuclear. Este aquecimento da água é mostrado no diagrama como o aumento na Temperatura e Entropia em **(2)** até ${3_a}$. \n",
    "\n",
    "#### Etapa $3_a$ até $3_b$\n",
    "O aquecimento da água resulta na mudança de sua fase para um vapor de alta pressão, notando-se no diagrama um grande aumento de entropia, mas com temperatura constante, em $3_a$ a $3_b$.\n",
    "\n",
    "#### Etapa $3_b$ até 3\n",
    "O vapor então começa a superaquecer, aumentando drasticamente a Temperatura e a Entropia, como visto no diagrama em $3_b$ até **3**.\n",
    "\n",
    "#### Etapa 3 até 4\n",
    "Em seguida, o vapor sofre uma `expansão adiabática` na turbina, e a temperatura cai, não havendo nenhuma troca de calor gerado com o ambiente externo (No diagrama, nota-se a queda linear entre as etapas **(3)** até **(4)**). Com isso, sua energia interna é convertida em trabalho mecânico. À medida que o vapor se expande na turbina, sua pressão cai e trabalho é exercido, havendo um impulso das pás da turbina.\n",
    "\n",
    "Após a expansão, o vapor de baixa pressão é resfriado em um condensador, onde é condensado novamente em estado líquido. Esse resfriamento ocorre com a ajuda de água proveniente de fontes externas, como rios ou mares. Por fim, a água líquida recém-condensada e saturada é bombeada de volta para a caldeira, reiniciando o ciclo. Vale ressaltar que o bombeamento requer energia mecânica para comprimir a água novamente.\n",
    "\n",
    "A linha similar a uma gaussiana ilustrada por detrás do diagrama mostra onde o fluido de trabalho é líquido, vapor, e onde é uma mistura líquido-vapor. \n",
    "\n",
    "- À esquerda desta linha onde se encontram as etapas `1` até `3a`, o fluido está na forma líquida;\n",
    "- À direita desta linha, onde se encontram as etapas `3b` e `3`, o fluido está na forma de vapor;\n",
    "- Por entre as etapas `4` e `1`, o fluido se encontra como uma mistura líquido-vapor.\n",
    "- O ponto máximo desta linha é conhecido como o `ponto crítico`, pois há um equilíbrio de fases líquida e gasosa. O ponto crítico também demarca o ponto onde um combustível pode obter máximo rendimento. <font color='blue'>E o ponto 2?</font>"
   ]
  },
  {
   "cell_type": "markdown",
   "id": "73748a1e-e597-4da7-a430-256dd093ebfc",
   "metadata": {
    "id": "73748a1e-e597-4da7-a430-256dd093ebfc"
   },
   "source": [
    "<h2> Eficiência do ciclo Rankine</h2>\n",
    "Ao utilizarmos a mistura de combustível como fonte de aquecimento da água na caldeira, podemos calcular o quão eficiente será o ciclo Rankine baseado no calor que o combustível irá prover para o fluido de trabalho, e como estamos considerando um ciclo ideal de Rankine, nenhum calor é perdido para o meio externo. <font color='red'>Essa conclusão está equivocada. Vejamos o exemplo do condensador, a sua função é basicamente liberar calor para o meio externo. Não existe ciclo termodinâmico que não disperse energia.</font>\n",
    "\n",
    "Baseado no valor de calor que for passado ao ciclo Rankine, teremos no diagrama uma relação entre temperatura e entropia, que será cada vez mais próxima do ponto crítico. <font color='red'>Essa questão não depende do calor que foi passado, basta pensar na água a uma pressão de 1 atm, independentemente do calor absorvida, a evaporação acontecerá em 100 °C.</font> Considerando que o fluido de trabalho é a água, podemos calcular quanto de calor será necessário para que o ciclo tenha maior eficiência, a partir do cálculo. <font color='red'>O calor utilizado já está definido pelos outros desafios, onde ocorre a combustão dos reagentes escolhidos.</font>\n",
    "\n",
    "$$ Q = \\int_{T_0}^{T_F} m * C_p(T) dT $$\n",
    "\n",
    "Onde:\n",
    "- m = massa do composto\n",
    "- $C_p(T)$ = calor específico a uma dada temperatura "
   ]
  },
  {
   "cell_type": "markdown",
   "id": "92fb2f56-1925-4ca4-81a8-c58a25c1e086",
   "metadata": {
    "id": "92fb2f56-1925-4ca4-81a8-c58a25c1e086"
   },
   "source": [
    "### Relação da Temperatura e do Calor Específico da água\n",
    "\n",
    "Para calcularmos a eficiência do ciclo Rankine, devemos obter o calor específico do fluido de trabalho, no caso a água. Para isso, a partir de dados experimentais obtidos [5], podemos ilustrar como se comportam o calor espe"
   ]
  },
  {
   "cell_type": "code",
   "execution_count": 1,
   "id": "e8523780-c08e-44c7-b7ae-11b5423f22ac",
   "metadata": {
    "colab": {
     "base_uri": "https://localhost:8080/",
     "height": 417
    },
    "id": "e8523780-c08e-44c7-b7ae-11b5423f22ac",
    "outputId": "fee97028-850a-43ff-eed3-0bc3114aa2bc"
   },
   "outputs": [
    {
     "data": {
      "text/html": [
       "\n",
       "    <div class=\"bk-root\">\n",
       "        <a href=\"https://bokeh.org\" target=\"_blank\" class=\"bk-logo bk-logo-small bk-logo-notebook\"></a>\n",
       "        <span id=\"1045\">Loading BokehJS ...</span>\n",
       "    </div>"
      ]
     },
     "metadata": {},
     "output_type": "display_data"
    },
    {
     "data": {
      "application/javascript": [
       "\n",
       "(function(root) {\n",
       "  function now() {\n",
       "    return new Date();\n",
       "  }\n",
       "\n",
       "  var force = true;\n",
       "\n",
       "  if (typeof root._bokeh_onload_callbacks === \"undefined\" || force === true) {\n",
       "    root._bokeh_onload_callbacks = [];\n",
       "    root._bokeh_is_loading = undefined;\n",
       "  }\n",
       "\n",
       "  var JS_MIME_TYPE = 'application/javascript';\n",
       "  var HTML_MIME_TYPE = 'text/html';\n",
       "  var EXEC_MIME_TYPE = 'application/vnd.bokehjs_exec.v0+json';\n",
       "  var CLASS_NAME = 'output_bokeh rendered_html';\n",
       "\n",
       "  /**\n",
       "   * Render data to the DOM node\n",
       "   */\n",
       "  function render(props, node) {\n",
       "    var script = document.createElement(\"script\");\n",
       "    node.appendChild(script);\n",
       "  }\n",
       "\n",
       "  /**\n",
       "   * Handle when an output is cleared or removed\n",
       "   */\n",
       "  function handleClearOutput(event, handle) {\n",
       "    var cell = handle.cell;\n",
       "\n",
       "    var id = cell.output_area._bokeh_element_id;\n",
       "    var server_id = cell.output_area._bokeh_server_id;\n",
       "    // Clean up Bokeh references\n",
       "    if (id != null && id in Bokeh.index) {\n",
       "      Bokeh.index[id].model.document.clear();\n",
       "      delete Bokeh.index[id];\n",
       "    }\n",
       "\n",
       "    if (server_id !== undefined) {\n",
       "      // Clean up Bokeh references\n",
       "      var cmd = \"from bokeh.io.state import curstate; print(curstate().uuid_to_server['\" + server_id + \"'].get_sessions()[0].document.roots[0]._id)\";\n",
       "      cell.notebook.kernel.execute(cmd, {\n",
       "        iopub: {\n",
       "          output: function(msg) {\n",
       "            var id = msg.content.text.trim();\n",
       "            if (id in Bokeh.index) {\n",
       "              Bokeh.index[id].model.document.clear();\n",
       "              delete Bokeh.index[id];\n",
       "            }\n",
       "          }\n",
       "        }\n",
       "      });\n",
       "      // Destroy server and session\n",
       "      var cmd = \"import bokeh.io.notebook as ion; ion.destroy_server('\" + server_id + \"')\";\n",
       "      cell.notebook.kernel.execute(cmd);\n",
       "    }\n",
       "  }\n",
       "\n",
       "  /**\n",
       "   * Handle when a new output is added\n",
       "   */\n",
       "  function handleAddOutput(event, handle) {\n",
       "    var output_area = handle.output_area;\n",
       "    var output = handle.output;\n",
       "\n",
       "    // limit handleAddOutput to display_data with EXEC_MIME_TYPE content only\n",
       "    if ((output.output_type != \"display_data\") || (!Object.prototype.hasOwnProperty.call(output.data, EXEC_MIME_TYPE))) {\n",
       "      return\n",
       "    }\n",
       "\n",
       "    var toinsert = output_area.element.find(\".\" + CLASS_NAME.split(' ')[0]);\n",
       "\n",
       "    if (output.metadata[EXEC_MIME_TYPE][\"id\"] !== undefined) {\n",
       "      toinsert[toinsert.length - 1].firstChild.textContent = output.data[JS_MIME_TYPE];\n",
       "      // store reference to embed id on output_area\n",
       "      output_area._bokeh_element_id = output.metadata[EXEC_MIME_TYPE][\"id\"];\n",
       "    }\n",
       "    if (output.metadata[EXEC_MIME_TYPE][\"server_id\"] !== undefined) {\n",
       "      var bk_div = document.createElement(\"div\");\n",
       "      bk_div.innerHTML = output.data[HTML_MIME_TYPE];\n",
       "      var script_attrs = bk_div.children[0].attributes;\n",
       "      for (var i = 0; i < script_attrs.length; i++) {\n",
       "        toinsert[toinsert.length - 1].firstChild.setAttribute(script_attrs[i].name, script_attrs[i].value);\n",
       "        toinsert[toinsert.length - 1].firstChild.textContent = bk_div.children[0].textContent\n",
       "      }\n",
       "      // store reference to server id on output_area\n",
       "      output_area._bokeh_server_id = output.metadata[EXEC_MIME_TYPE][\"server_id\"];\n",
       "    }\n",
       "  }\n",
       "\n",
       "  function register_renderer(events, OutputArea) {\n",
       "\n",
       "    function append_mime(data, metadata, element) {\n",
       "      // create a DOM node to render to\n",
       "      var toinsert = this.create_output_subarea(\n",
       "        metadata,\n",
       "        CLASS_NAME,\n",
       "        EXEC_MIME_TYPE\n",
       "      );\n",
       "      this.keyboard_manager.register_events(toinsert);\n",
       "      // Render to node\n",
       "      var props = {data: data, metadata: metadata[EXEC_MIME_TYPE]};\n",
       "      render(props, toinsert[toinsert.length - 1]);\n",
       "      element.append(toinsert);\n",
       "      return toinsert\n",
       "    }\n",
       "\n",
       "    /* Handle when an output is cleared or removed */\n",
       "    events.on('clear_output.CodeCell', handleClearOutput);\n",
       "    events.on('delete.Cell', handleClearOutput);\n",
       "\n",
       "    /* Handle when a new output is added */\n",
       "    events.on('output_added.OutputArea', handleAddOutput);\n",
       "\n",
       "    /**\n",
       "     * Register the mime type and append_mime function with output_area\n",
       "     */\n",
       "    OutputArea.prototype.register_mime_type(EXEC_MIME_TYPE, append_mime, {\n",
       "      /* Is output safe? */\n",
       "      safe: true,\n",
       "      /* Index of renderer in `output_area.display_order` */\n",
       "      index: 0\n",
       "    });\n",
       "  }\n",
       "\n",
       "  // register the mime type if in Jupyter Notebook environment and previously unregistered\n",
       "  if (root.Jupyter !== undefined) {\n",
       "    var events = require('base/js/events');\n",
       "    var OutputArea = require('notebook/js/outputarea').OutputArea;\n",
       "\n",
       "    if (OutputArea.prototype.mime_types().indexOf(EXEC_MIME_TYPE) == -1) {\n",
       "      register_renderer(events, OutputArea);\n",
       "    }\n",
       "  }\n",
       "\n",
       "  \n",
       "  if (typeof (root._bokeh_timeout) === \"undefined\" || force === true) {\n",
       "    root._bokeh_timeout = Date.now() + 5000;\n",
       "    root._bokeh_failed_load = false;\n",
       "  }\n",
       "\n",
       "  var NB_LOAD_WARNING = {'data': {'text/html':\n",
       "     \"<div style='background-color: #fdd'>\\n\"+\n",
       "     \"<p>\\n\"+\n",
       "     \"BokehJS does not appear to have successfully loaded. If loading BokehJS from CDN, this \\n\"+\n",
       "     \"may be due to a slow or bad network connection. Possible fixes:\\n\"+\n",
       "     \"</p>\\n\"+\n",
       "     \"<ul>\\n\"+\n",
       "     \"<li>re-rerun `output_notebook()` to attempt to load from CDN again, or</li>\\n\"+\n",
       "     \"<li>use INLINE resources instead, as so:</li>\\n\"+\n",
       "     \"</ul>\\n\"+\n",
       "     \"<code>\\n\"+\n",
       "     \"from bokeh.resources import INLINE\\n\"+\n",
       "     \"output_notebook(resources=INLINE)\\n\"+\n",
       "     \"</code>\\n\"+\n",
       "     \"</div>\"}};\n",
       "\n",
       "  function display_loaded() {\n",
       "    var el = document.getElementById(\"1045\");\n",
       "    if (el != null) {\n",
       "      el.textContent = \"BokehJS is loading...\";\n",
       "    }\n",
       "    if (root.Bokeh !== undefined) {\n",
       "      if (el != null) {\n",
       "        el.textContent = \"BokehJS \" + root.Bokeh.version + \" successfully loaded.\";\n",
       "      }\n",
       "    } else if (Date.now() < root._bokeh_timeout) {\n",
       "      setTimeout(display_loaded, 100)\n",
       "    }\n",
       "  }\n",
       "\n",
       "\n",
       "  function run_callbacks() {\n",
       "    try {\n",
       "      root._bokeh_onload_callbacks.forEach(function(callback) {\n",
       "        if (callback != null)\n",
       "          callback();\n",
       "      });\n",
       "    } finally {\n",
       "      delete root._bokeh_onload_callbacks\n",
       "    }\n",
       "    console.debug(\"Bokeh: all callbacks have finished\");\n",
       "  }\n",
       "\n",
       "  function load_libs(css_urls, js_urls, callback) {\n",
       "    if (css_urls == null) css_urls = [];\n",
       "    if (js_urls == null) js_urls = [];\n",
       "\n",
       "    root._bokeh_onload_callbacks.push(callback);\n",
       "    if (root._bokeh_is_loading > 0) {\n",
       "      console.debug(\"Bokeh: BokehJS is being loaded, scheduling callback at\", now());\n",
       "      return null;\n",
       "    }\n",
       "    if (js_urls == null || js_urls.length === 0) {\n",
       "      run_callbacks();\n",
       "      return null;\n",
       "    }\n",
       "    console.debug(\"Bokeh: BokehJS not loaded, scheduling load and callback at\", now());\n",
       "    root._bokeh_is_loading = css_urls.length + js_urls.length;\n",
       "\n",
       "    function on_load() {\n",
       "      root._bokeh_is_loading--;\n",
       "      if (root._bokeh_is_loading === 0) {\n",
       "        console.debug(\"Bokeh: all BokehJS libraries/stylesheets loaded\");\n",
       "        run_callbacks()\n",
       "      }\n",
       "    }\n",
       "\n",
       "    function on_error(url) {\n",
       "      console.error(\"failed to load \" + url);\n",
       "    }\n",
       "\n",
       "    for (let i = 0; i < css_urls.length; i++) {\n",
       "      const url = css_urls[i];\n",
       "      const element = document.createElement(\"link\");\n",
       "      element.onload = on_load;\n",
       "      element.onerror = on_error.bind(null, url);\n",
       "      element.rel = \"stylesheet\";\n",
       "      element.type = \"text/css\";\n",
       "      element.href = url;\n",
       "      console.debug(\"Bokeh: injecting link tag for BokehJS stylesheet: \", url);\n",
       "      document.body.appendChild(element);\n",
       "    }\n",
       "\n",
       "    const hashes = {\"https://cdn.bokeh.org/bokeh/release/bokeh-2.3.3.min.js\": \"dM3QQsP+wXdHg42wTqW85BjZQdLNNIXqlPw/BgKoExPmTG7ZLML4EGqLMfqHT6ON\", \"https://cdn.bokeh.org/bokeh/release/bokeh-tables-2.3.3.min.js\": \"8x57I4YuIfu8XyZfFo0XVr2WAT8EK4rh/uDe3wF7YuW2FNUSNEpJbsPaB1nJ2fz2\", \"https://cdn.bokeh.org/bokeh/release/bokeh-widgets-2.3.3.min.js\": \"3QTqdz9LyAm2i0sG5XTePsHec3UHWwVsrOL68SYRoAXsafvfAyqtQ+h440+qIBhS\"};\n",
       "\n",
       "    for (let i = 0; i < js_urls.length; i++) {\n",
       "      const url = js_urls[i];\n",
       "      const element = document.createElement('script');\n",
       "      element.onload = on_load;\n",
       "      element.onerror = on_error.bind(null, url);\n",
       "      element.async = false;\n",
       "      element.src = url;\n",
       "      if (url in hashes) {\n",
       "        element.crossOrigin = \"anonymous\";\n",
       "        element.integrity = \"sha384-\" + hashes[url];\n",
       "      }\n",
       "      console.debug(\"Bokeh: injecting script tag for BokehJS library: \", url);\n",
       "      document.head.appendChild(element);\n",
       "    }\n",
       "  };\n",
       "\n",
       "  function inject_raw_css(css) {\n",
       "    const element = document.createElement(\"style\");\n",
       "    element.appendChild(document.createTextNode(css));\n",
       "    document.body.appendChild(element);\n",
       "  }\n",
       "\n",
       "  \n",
       "  var js_urls = [\"https://cdn.bokeh.org/bokeh/release/bokeh-2.3.3.min.js\", \"https://cdn.bokeh.org/bokeh/release/bokeh-widgets-2.3.3.min.js\", \"https://cdn.bokeh.org/bokeh/release/bokeh-tables-2.3.3.min.js\"];\n",
       "  var css_urls = [];\n",
       "  \n",
       "\n",
       "  var inline_js = [\n",
       "    function(Bokeh) {\n",
       "      Bokeh.set_log_level(\"info\");\n",
       "    },\n",
       "    function(Bokeh) {\n",
       "    \n",
       "    \n",
       "    }\n",
       "  ];\n",
       "\n",
       "  function run_inline_js() {\n",
       "    \n",
       "    if (root.Bokeh !== undefined || force === true) {\n",
       "      \n",
       "    for (var i = 0; i < inline_js.length; i++) {\n",
       "      inline_js[i].call(root, root.Bokeh);\n",
       "    }\n",
       "    if (force === true) {\n",
       "        display_loaded();\n",
       "      }} else if (Date.now() < root._bokeh_timeout) {\n",
       "      setTimeout(run_inline_js, 100);\n",
       "    } else if (!root._bokeh_failed_load) {\n",
       "      console.log(\"Bokeh: BokehJS failed to load within specified timeout.\");\n",
       "      root._bokeh_failed_load = true;\n",
       "    } else if (force !== true) {\n",
       "      var cell = $(document.getElementById(\"1045\")).parents('.cell').data().cell;\n",
       "      cell.output_area.append_execute_result(NB_LOAD_WARNING)\n",
       "    }\n",
       "\n",
       "  }\n",
       "\n",
       "  if (root._bokeh_is_loading === 0) {\n",
       "    console.debug(\"Bokeh: BokehJS loaded, going straight to plotting\");\n",
       "    run_inline_js();\n",
       "  } else {\n",
       "    load_libs(css_urls, js_urls, function() {\n",
       "      console.debug(\"Bokeh: BokehJS plotting callback run at\", now());\n",
       "      run_inline_js();\n",
       "    });\n",
       "  }\n",
       "}(window));"
      ],
      "application/vnd.bokehjs_load.v0+json": "\n(function(root) {\n  function now() {\n    return new Date();\n  }\n\n  var force = true;\n\n  if (typeof root._bokeh_onload_callbacks === \"undefined\" || force === true) {\n    root._bokeh_onload_callbacks = [];\n    root._bokeh_is_loading = undefined;\n  }\n\n  \n\n  \n  if (typeof (root._bokeh_timeout) === \"undefined\" || force === true) {\n    root._bokeh_timeout = Date.now() + 5000;\n    root._bokeh_failed_load = false;\n  }\n\n  var NB_LOAD_WARNING = {'data': {'text/html':\n     \"<div style='background-color: #fdd'>\\n\"+\n     \"<p>\\n\"+\n     \"BokehJS does not appear to have successfully loaded. If loading BokehJS from CDN, this \\n\"+\n     \"may be due to a slow or bad network connection. Possible fixes:\\n\"+\n     \"</p>\\n\"+\n     \"<ul>\\n\"+\n     \"<li>re-rerun `output_notebook()` to attempt to load from CDN again, or</li>\\n\"+\n     \"<li>use INLINE resources instead, as so:</li>\\n\"+\n     \"</ul>\\n\"+\n     \"<code>\\n\"+\n     \"from bokeh.resources import INLINE\\n\"+\n     \"output_notebook(resources=INLINE)\\n\"+\n     \"</code>\\n\"+\n     \"</div>\"}};\n\n  function display_loaded() {\n    var el = document.getElementById(\"1045\");\n    if (el != null) {\n      el.textContent = \"BokehJS is loading...\";\n    }\n    if (root.Bokeh !== undefined) {\n      if (el != null) {\n        el.textContent = \"BokehJS \" + root.Bokeh.version + \" successfully loaded.\";\n      }\n    } else if (Date.now() < root._bokeh_timeout) {\n      setTimeout(display_loaded, 100)\n    }\n  }\n\n\n  function run_callbacks() {\n    try {\n      root._bokeh_onload_callbacks.forEach(function(callback) {\n        if (callback != null)\n          callback();\n      });\n    } finally {\n      delete root._bokeh_onload_callbacks\n    }\n    console.debug(\"Bokeh: all callbacks have finished\");\n  }\n\n  function load_libs(css_urls, js_urls, callback) {\n    if (css_urls == null) css_urls = [];\n    if (js_urls == null) js_urls = [];\n\n    root._bokeh_onload_callbacks.push(callback);\n    if (root._bokeh_is_loading > 0) {\n      console.debug(\"Bokeh: BokehJS is being loaded, scheduling callback at\", now());\n      return null;\n    }\n    if (js_urls == null || js_urls.length === 0) {\n      run_callbacks();\n      return null;\n    }\n    console.debug(\"Bokeh: BokehJS not loaded, scheduling load and callback at\", now());\n    root._bokeh_is_loading = css_urls.length + js_urls.length;\n\n    function on_load() {\n      root._bokeh_is_loading--;\n      if (root._bokeh_is_loading === 0) {\n        console.debug(\"Bokeh: all BokehJS libraries/stylesheets loaded\");\n        run_callbacks()\n      }\n    }\n\n    function on_error(url) {\n      console.error(\"failed to load \" + url);\n    }\n\n    for (let i = 0; i < css_urls.length; i++) {\n      const url = css_urls[i];\n      const element = document.createElement(\"link\");\n      element.onload = on_load;\n      element.onerror = on_error.bind(null, url);\n      element.rel = \"stylesheet\";\n      element.type = \"text/css\";\n      element.href = url;\n      console.debug(\"Bokeh: injecting link tag for BokehJS stylesheet: \", url);\n      document.body.appendChild(element);\n    }\n\n    const hashes = {\"https://cdn.bokeh.org/bokeh/release/bokeh-2.3.3.min.js\": \"dM3QQsP+wXdHg42wTqW85BjZQdLNNIXqlPw/BgKoExPmTG7ZLML4EGqLMfqHT6ON\", \"https://cdn.bokeh.org/bokeh/release/bokeh-tables-2.3.3.min.js\": \"8x57I4YuIfu8XyZfFo0XVr2WAT8EK4rh/uDe3wF7YuW2FNUSNEpJbsPaB1nJ2fz2\", \"https://cdn.bokeh.org/bokeh/release/bokeh-widgets-2.3.3.min.js\": \"3QTqdz9LyAm2i0sG5XTePsHec3UHWwVsrOL68SYRoAXsafvfAyqtQ+h440+qIBhS\"};\n\n    for (let i = 0; i < js_urls.length; i++) {\n      const url = js_urls[i];\n      const element = document.createElement('script');\n      element.onload = on_load;\n      element.onerror = on_error.bind(null, url);\n      element.async = false;\n      element.src = url;\n      if (url in hashes) {\n        element.crossOrigin = \"anonymous\";\n        element.integrity = \"sha384-\" + hashes[url];\n      }\n      console.debug(\"Bokeh: injecting script tag for BokehJS library: \", url);\n      document.head.appendChild(element);\n    }\n  };\n\n  function inject_raw_css(css) {\n    const element = document.createElement(\"style\");\n    element.appendChild(document.createTextNode(css));\n    document.body.appendChild(element);\n  }\n\n  \n  var js_urls = [\"https://cdn.bokeh.org/bokeh/release/bokeh-2.3.3.min.js\", \"https://cdn.bokeh.org/bokeh/release/bokeh-widgets-2.3.3.min.js\", \"https://cdn.bokeh.org/bokeh/release/bokeh-tables-2.3.3.min.js\"];\n  var css_urls = [];\n  \n\n  var inline_js = [\n    function(Bokeh) {\n      Bokeh.set_log_level(\"info\");\n    },\n    function(Bokeh) {\n    \n    \n    }\n  ];\n\n  function run_inline_js() {\n    \n    if (root.Bokeh !== undefined || force === true) {\n      \n    for (var i = 0; i < inline_js.length; i++) {\n      inline_js[i].call(root, root.Bokeh);\n    }\n    if (force === true) {\n        display_loaded();\n      }} else if (Date.now() < root._bokeh_timeout) {\n      setTimeout(run_inline_js, 100);\n    } else if (!root._bokeh_failed_load) {\n      console.log(\"Bokeh: BokehJS failed to load within specified timeout.\");\n      root._bokeh_failed_load = true;\n    } else if (force !== true) {\n      var cell = $(document.getElementById(\"1045\")).parents('.cell').data().cell;\n      cell.output_area.append_execute_result(NB_LOAD_WARNING)\n    }\n\n  }\n\n  if (root._bokeh_is_loading === 0) {\n    console.debug(\"Bokeh: BokehJS loaded, going straight to plotting\");\n    run_inline_js();\n  } else {\n    load_libs(css_urls, js_urls, function() {\n      console.debug(\"Bokeh: BokehJS plotting callback run at\", now());\n      run_inline_js();\n    });\n  }\n}(window));"
     },
     "metadata": {},
     "output_type": "display_data"
    },
    {
     "data": {
      "text/html": [
       "\n",
       "\n",
       "\n",
       "\n",
       "\n",
       "\n",
       "  <div class=\"bk-root\" id=\"5604a44a-4d03-42dc-8fc2-5eddf256fab4\" data-root-id=\"1002\"></div>\n"
      ]
     },
     "metadata": {},
     "output_type": "display_data"
    },
    {
     "data": {
      "application/javascript": [
       "(function(root) {\n",
       "  function embed_document(root) {\n",
       "    \n",
       "  var docs_json = {\"247e4253-3d54-4c22-b657-3299dc0f4393\":{\"defs\":[],\"roots\":{\"references\":[{\"attributes\":{\"below\":[{\"id\":\"1013\"}],\"center\":[{\"id\":\"1016\"},{\"id\":\"1020\"}],\"height\":400,\"left\":[{\"id\":\"1017\"}],\"renderers\":[{\"id\":\"1038\"},{\"id\":\"1043\"}],\"title\":{\"id\":\"1003\"},\"toolbar\":{\"id\":\"1028\"},\"width\":400,\"x_range\":{\"id\":\"1005\"},\"x_scale\":{\"id\":\"1009\"},\"y_range\":{\"id\":\"1007\"},\"y_scale\":{\"id\":\"1011\"}},\"id\":\"1002\",\"subtype\":\"Figure\",\"type\":\"Plot\"},{\"attributes\":{\"axis_label\":\"Temperatura\",\"formatter\":{\"id\":\"1047\"},\"major_label_policy\":{\"id\":\"1049\"},\"ticker\":{\"id\":\"1014\"}},\"id\":\"1013\",\"type\":\"LinearAxis\"},{\"attributes\":{\"line_color\":\"#1f77b4\",\"line_width\":2,\"x\":{\"field\":\"x\"},\"y\":{\"field\":\"y\"}},\"id\":\"1036\",\"type\":\"Line\"},{\"attributes\":{},\"id\":\"1054\",\"type\":\"Selection\"},{\"attributes\":{},\"id\":\"1009\",\"type\":\"LinearScale\"},{\"attributes\":{},\"id\":\"1055\",\"type\":\"UnionRenderers\"},{\"attributes\":{},\"id\":\"1011\",\"type\":\"LinearScale\"},{\"attributes\":{\"data\":{\"x\":[175,200,225,250,275,300,325,350,375,400,450,500,550,600],\"y\":[1.85,1.851,1.852,1.855,1.859,1.864,1.871,1.88,1.89,1.901,1.926,1.954,1.984,2.015]},\"selected\":{\"id\":\"1054\"},\"selection_policy\":{\"id\":\"1055\"}},\"id\":\"1035\",\"type\":\"ColumnDataSource\"},{\"attributes\":{},\"id\":\"1022\",\"type\":\"WheelZoomTool\"},{\"attributes\":{\"axis\":{\"id\":\"1013\"},\"ticker\":null},\"id\":\"1016\",\"type\":\"Grid\"},{\"attributes\":{},\"id\":\"1007\",\"type\":\"DataRange1d\"},{\"attributes\":{\"axis\":{\"id\":\"1017\"},\"dimension\":1,\"ticker\":null},\"id\":\"1020\",\"type\":\"Grid\"},{\"attributes\":{\"line_alpha\":0.1,\"line_color\":\"#1f77b4\",\"line_width\":2,\"x\":{\"field\":\"x\"},\"y\":{\"field\":\"y\"}},\"id\":\"1037\",\"type\":\"Line\"},{\"attributes\":{},\"id\":\"1026\",\"type\":\"HelpTool\"},{\"attributes\":{\"fill_alpha\":0.3,\"fill_color\":\"#1f77b4\",\"x\":{\"field\":\"x\"},\"y1\":{\"field\":\"y1\"},\"y2\":{\"value\":0}},\"id\":\"1041\",\"type\":\"VArea\"},{\"attributes\":{\"source\":{\"id\":\"1035\"}},\"id\":\"1039\",\"type\":\"CDSView\"},{\"attributes\":{\"active_multi\":null,\"tools\":[{\"id\":\"1021\"},{\"id\":\"1022\"},{\"id\":\"1023\"},{\"id\":\"1024\"},{\"id\":\"1025\"},{\"id\":\"1026\"}]},\"id\":\"1028\",\"type\":\"Toolbar\"},{\"attributes\":{},\"id\":\"1021\",\"type\":\"PanTool\"},{\"attributes\":{\"data_source\":{\"id\":\"1035\"},\"glyph\":{\"id\":\"1036\"},\"hover_glyph\":null,\"muted_glyph\":null,\"nonselection_glyph\":{\"id\":\"1037\"},\"view\":{\"id\":\"1039\"}},\"id\":\"1038\",\"type\":\"GlyphRenderer\"},{\"attributes\":{},\"id\":\"1018\",\"type\":\"BasicTicker\"},{\"attributes\":{},\"id\":\"1056\",\"type\":\"Selection\"},{\"attributes\":{\"bottom_units\":\"screen\",\"fill_alpha\":0.5,\"fill_color\":\"lightgrey\",\"left_units\":\"screen\",\"level\":\"overlay\",\"line_alpha\":1.0,\"line_color\":\"black\",\"line_dash\":[4,4],\"line_width\":2,\"right_units\":\"screen\",\"syncable\":false,\"top_units\":\"screen\"},\"id\":\"1027\",\"type\":\"BoxAnnotation\"},{\"attributes\":{},\"id\":\"1057\",\"type\":\"UnionRenderers\"},{\"attributes\":{\"axis_label\":\"Calor Espec\\u00edfico\",\"formatter\":{\"id\":\"1050\"},\"major_label_policy\":{\"id\":\"1052\"},\"ticker\":{\"id\":\"1018\"}},\"id\":\"1017\",\"type\":\"LinearAxis\"},{\"attributes\":{},\"id\":\"1025\",\"type\":\"ResetTool\"},{\"attributes\":{\"overlay\":{\"id\":\"1027\"}},\"id\":\"1023\",\"type\":\"BoxZoomTool\"},{\"attributes\":{},\"id\":\"1024\",\"type\":\"SaveTool\"},{\"attributes\":{\"source\":{\"id\":\"1040\"}},\"id\":\"1044\",\"type\":\"CDSView\"},{\"attributes\":{},\"id\":\"1047\",\"type\":\"BasicTickFormatter\"},{\"attributes\":{\"data_source\":{\"id\":\"1040\"},\"glyph\":{\"id\":\"1041\"},\"hover_glyph\":null,\"muted_glyph\":null,\"nonselection_glyph\":{\"id\":\"1042\"},\"view\":{\"id\":\"1044\"}},\"id\":\"1043\",\"type\":\"GlyphRenderer\"},{\"attributes\":{\"fill_alpha\":0.1,\"fill_color\":\"#1f77b4\",\"x\":{\"field\":\"x\"},\"y1\":{\"field\":\"y1\"},\"y2\":{\"value\":0}},\"id\":\"1042\",\"type\":\"VArea\"},{\"attributes\":{},\"id\":\"1049\",\"type\":\"AllLabels\"},{\"attributes\":{},\"id\":\"1050\",\"type\":\"BasicTickFormatter\"},{\"attributes\":{\"text\":\"Rela\\u00e7\\u00e3o Temperatura e Calor Espec\\u00edfico \"},\"id\":\"1003\",\"type\":\"Title\"},{\"attributes\":{},\"id\":\"1014\",\"type\":\"BasicTicker\"},{\"attributes\":{},\"id\":\"1005\",\"type\":\"DataRange1d\"},{\"attributes\":{},\"id\":\"1052\",\"type\":\"AllLabels\"},{\"attributes\":{\"data\":{\"x\":[175,200,225,250,275,300,325,350,375,400,450,500,550,600],\"y1\":[1.85,1.851,1.852,1.855,1.859,1.864,1.871,1.88,1.89,1.901,1.926,1.954,1.984,2.015]},\"selected\":{\"id\":\"1056\"},\"selection_policy\":{\"id\":\"1057\"}},\"id\":\"1040\",\"type\":\"ColumnDataSource\"}],\"root_ids\":[\"1002\"]},\"title\":\"Bokeh Application\",\"version\":\"2.3.3\"}};\n",
       "  var render_items = [{\"docid\":\"247e4253-3d54-4c22-b657-3299dc0f4393\",\"root_ids\":[\"1002\"],\"roots\":{\"1002\":\"5604a44a-4d03-42dc-8fc2-5eddf256fab4\"}}];\n",
       "  root.Bokeh.embed.embed_items_notebook(docs_json, render_items);\n",
       "\n",
       "  }\n",
       "  if (root.Bokeh !== undefined) {\n",
       "    embed_document(root);\n",
       "  } else {\n",
       "    var attempts = 0;\n",
       "    var timer = setInterval(function(root) {\n",
       "      if (root.Bokeh !== undefined) {\n",
       "        clearInterval(timer);\n",
       "        embed_document(root);\n",
       "      } else {\n",
       "        attempts++;\n",
       "        if (attempts > 100) {\n",
       "          clearInterval(timer);\n",
       "          console.log(\"Bokeh: ERROR: Unable to run BokehJS code because BokehJS library is missing\");\n",
       "        }\n",
       "      }\n",
       "    }, 10, root)\n",
       "  }\n",
       "})(window);"
      ],
      "application/vnd.bokehjs_exec.v0+json": ""
     },
     "metadata": {
      "application/vnd.bokehjs_exec.v0+json": {
       "id": "1002"
      }
     },
     "output_type": "display_data"
    }
   ],
   "source": [
    "from bokeh.plotting import figure, show\n",
    "from bokeh.io import output_notebook\n",
    "\n",
    "# Valores de Temperatura Ref:[5]\n",
    "t = [175, 200, 225, 250, 275, 300, 325, 350, 375, 400, 450, 500, 550, 600]\n",
    "\n",
    "# Valores de Calor Específico Ref:[5]\n",
    "cp = [1.850, 1.851, 1.852, 1.855, 1.859, 1.864, 1.871, 1.880, 1.890, 1.901, 1.926, 1.954, 1.984, 2.015]\n",
    "\n",
    "p = figure(title=\"Relação Temperatura e Calor Específico \", x_axis_label='Temperatura', y_axis_label='Calor Específico', width = 400, height = 400)\n",
    "\n",
    "p.line(t, cp, line_width=2)\n",
    "p.varea(x=t, y1=cp, y2=0, fill_alpha=0.3)\n",
    "\n",
    "output_notebook()\n",
    "show(p)"
   ]
  },
  {
   "cell_type": "markdown",
   "id": "71e2b577-eef7-487b-a8a4-e8ec382f8773",
   "metadata": {
    "id": "71e2b577-eef7-487b-a8a4-e8ec382f8773"
   },
   "source": [
    "Nota-se um comportamento quase exponencial do calor específico conforme o aumento da temperatura, o que é esperado visto que quanto maior a temperatura, é necessário maior energia para aumentá-la. <font color='red'>Analisar esse aumento como exponencial é um pouco exagerado, por mais que a taxa de aumento esteja aumentando com a temperatura, o que seria característico de um aumento exponencial, o aumento total é muito pequeno, perceba que, ao aumentar 400 graus de temperatura, o calor específico só aumenta em 10%, o que é muito pouco. Inclusive, em muitos casos, esse aumento pode ser desconsiderado. </font>"
   ]
  },
  {
   "cell_type": "markdown",
   "id": "700aaefe-4ec8-49ee-9798-e63807bb3030",
   "metadata": {
    "id": "700aaefe-4ec8-49ee-9798-e63807bb3030"
   },
   "source": [
    "### Encontrando a energia Q\n",
    "\n",
    "Agora que temos uma ideia de como o calor específico da água se comporta com relação à temperatura, podemos trabalhar no cálculo da obtenção do valor de Energia Q"
   ]
  },
  {
   "cell_type": "code",
   "execution_count": 2,
   "id": "9c65420f-1501-46ad-9af8-f1f6492939fa",
   "metadata": {
    "id": "9c65420f-1501-46ad-9af8-f1f6492939fa",
    "outputId": "6a136c92-5e02-45e7-97f3-62db8ac51617"
   },
   "outputs": [
    {
     "name": "stdout",
     "output_type": "stream",
     "text": [
      "A massa da água, em Kg, tem o valor 16000.0, à temperatura: 200 K\n",
      "A massa da água, em Kg, tem o valor 7500.0, à temperatura: 225 K\n",
      "A massa da água, em Kg, tem o valor 2696.63, à temperatura: 250 K\n",
      "A massa da água, em Kg, tem o valor 1387.28, à temperatura: 275 K\n",
      "A massa da água, em Kg, tem o valor 833.33, à temperatura: 300 K\n",
      "A massa da água, em Kg, tem o valor 518.36, à temperatura: 325 K\n",
      "A massa da água, em Kg, tem o valor 339.94, à temperatura: 350 K\n",
      "A massa da água, em Kg, tem o valor 240.96, à temperatura: 375 K\n",
      "A massa da água, em Kg, tem o valor 179.51, à temperatura: 400 K\n",
      "A massa da água, em Kg, tem o valor 109.74, à temperatura: 450 K\n",
      "A massa da água, em Kg, tem o valor 73.82, à temperatura: 500 K\n",
      "A massa da água, em Kg, tem o valor 53.2, à temperatura: 550 K\n"
     ]
    },
    {
     "data": {
      "image/png": "[encoded data removed]",
      "text/plain": [
       "<Figure size 576x432 with 1 Axes>"
      ]
     },
     "metadata": {
      "needs_background": "light"
     },
     "output_type": "display_data"
    },
    {
     "name": "stdout",
     "output_type": "stream",
     "text": [
      "[0.18749999999997935, 0.40000000000000313, 1.1124999999999774, 2.1624999999999783, 3.6000000000000116, 5.787499999999978, 8.824999999999942, 12.449999999999946, 16.71249999999999, 27.337499999999956, 40.63749999999997, 56.38749999999998] [-16000.000000001763, -7499.999999999941, -2696.629213483201, -1387.2832369942334, -833.3333333333306, -518.3585313174965, -339.9433427762062, -240.96385542168778, -179.5063575168288, -109.73936899862844, -73.8234389418641, -53.20328086898694]\n"
     ]
    }
   ],
   "source": [
    "import scipy.integrate as integrate\n",
    "import numpy as np\n",
    "import matplotlib.pyplot as plt\n",
    "\n",
    "def agua(ind, q_in, cp, t):\n",
    "    valoresq_in = [0] * ind  # Inicializa a lista com zeros\n",
    "    valores_m = [0] * ind  # Inicializa a lista com zeros\n",
    "    \n",
    "    for i in range(ind):\n",
    "        integr = integrate.trapezoid(x=cp[0:i+2], y=t[0:i+2])  # Ajuste para incluir o próximo elemento\n",
    "        temp = t[i+1]  # Ajuste para pegar o próximo elemento\n",
    "        valoresq_in[i] = integr\n",
    "        if integr != 0:\n",
    "            massa = q_in / integr\n",
    "            valores_m[i] = massa\n",
    "            print(f\"A massa da água, em Kg, tem o valor {np.round(np.abs(massa), 2)}, à temperatura: {temp} K\")\n",
    "        else:\n",
    "            print(f\"Não é possível calcular a massa para a temperatura {temp} K, pois a integral é zero.\")\n",
    "    \n",
    "    plt.figure(figsize=(8, 6))\n",
    "    plt.plot(valoresq_in, valores_m, linewidth=2)\n",
    "    plt.title(\"Valor da massa para cada valor da integral\")\n",
    "    plt.xlabel(\"Energia (Q)\")\n",
    "    plt.ylabel(\"Massa (m)\")\n",
    "    plt.grid(True)\n",
    "    plt.show()\n",
    "\n",
    "    print(valoresq_in, valores_m)\n",
    "\n",
    "agua(12, -3000, cp, t)"
   ]
  },
  {
   "cell_type": "markdown",
   "id": "5609cb57-ef33-4f5e-b984-096c77e348b2",
   "metadata": {},
   "source": [
    "<font color='yellow'>Massa negativa?</font>"
   ]
  },
  {
   "cell_type": "markdown",
   "id": "3b9bd66e-0803-4944-91a5-296e0bd72297",
   "metadata": {},
   "source": [
    "<font color='red'>As fórmulas estão corretas, mas não há sentido. Primeiro, qual é a unidade de medida do calor específico e da energia (entalpia)? Onde é considerada a mudança de fase? Qual é o sentido de variar a massa, a temperatura final e a energia ao mesmo tempo? Nessa seção, o grupo parece que se desconectou com o desafio. As contas realizadas parecem não ter nenhuma justificativa e nem sentido.</font>"
   ]
  },
  {
   "cell_type": "markdown",
   "id": "4d8a62d1-b739-436d-9d43-0749a2ef08a3",
   "metadata": {},
   "source": [
    "Dados os valores, "
   ]
  },
  {
   "cell_type": "markdown",
   "id": "5fa43fd9-0cee-46bf-8c67-950e990bd758",
   "metadata": {
    "id": "5fa43fd9-0cee-46bf-8c67-950e990bd758"
   },
   "source": [
    "##### Plot do diagrama T-S da água"
   ]
  },
  {
   "cell_type": "code",
   "execution_count": 3,
   "id": "371a7b6e-e2ac-4d9d-8f98-ffa647ddaf28",
   "metadata": {
    "id": "371a7b6e-e2ac-4d9d-8f98-ffa647ddaf28"
   },
   "outputs": [],
   "source": [
    "from pyromat import *\n",
    "\n",
    "config['unit_pressure'] = 'kPa'\n",
    "\n",
    "water = get('mp.H2O')"
   ]
  },
  {
   "cell_type": "code",
   "execution_count": 4,
   "id": "32e076e4-6808-409e-9df8-9c59ba500335",
   "metadata": {
    "id": "32e076e4-6808-409e-9df8-9c59ba500335",
    "outputId": "ac105dc9-103d-488a-f989-8db77a429484"
   },
   "outputs": [
    {
     "name": "stdout",
     "output_type": "stream",
     "text": [
      "PM WARN: _ar():: b<1 in the ar2 term. This causes singularities in\n",
      "PM WARN: derivatives very close to the critical point.\n",
      "PM WARN: _ar():: b<1 in the ar2 term. This causes singularities in\n",
      "PM WARN: derivatives very close to the critical point.\n",
      "PM WARN: _ar():: b<1 in the ar2 term. This causes singularities in\n",
      "PM WARN: derivatives very close to the critical point.\n",
      "PM WARN: _ar():: b<1 in the ar2 term. This causes singularities in\n",
      "PM WARN: derivatives very close to the critical point.\n"
     ]
    },
    {
     "data": {
      "text/plain": [
       "Text(0, 0.5, 'Temperatura(K)')"
      ]
     },
     "execution_count": 4,
     "metadata": {},
     "output_type": "execute_result"
    },
    {
     "data": {
      "image/png": "[encoded data removed]",
      "text/plain": [
       "<Figure size 432x288 with 1 Axes>"
      ]
     },
     "metadata": {
      "needs_background": "light"
     },
     "output_type": "display_data"
    }
   ],
   "source": [
    "from pylab import *\n",
    "import numpy as np\n",
    "import matplotlib.pyplot as plt\n",
    "\n",
    "p = np.linspace(1,22063,4000)\n",
    "T = water.Ts(p=p)\n",
    "s = water.ss(p=p)\n",
    "\n",
    "plt.plot(s[0],T,'r-')\n",
    "plt.plot(s[1],T,'r-')\n",
    "plt.xlabel('Entropia específica (kJ/kgK)')\n",
    "plt.ylabel('Temperatura(K)')"
   ]
  },
  {
   "cell_type": "markdown",
   "id": "6f3cbb78-14af-4d65-b777-e411313e8e4a",
   "metadata": {},
   "source": [
    "<font color='green'>Muito legal a biblioteca pyromat! Não conhecíamos.</font>"
   ]
  },
  {
   "cell_type": "markdown",
   "id": "468nSRrNWZmX",
   "metadata": {
    "id": "468nSRrNWZmX"
   },
   "source": [
    "<h3> Ciclo de Carnot e sua relação com o Ciclo Rankine </h3>\n",
    "\n",
    "O ciclo de Carnot é um ciclo termodinâmico teórico de um ciclo termodinâmico ideal, onde há a completa reversão dos processos durante o ciclo e a eficiência é a máxima. O ciclo de Carnot opera entre duas fontes de temperatura, uma quente e outra fria, sendo o ciclo mais eficiente para a conversão de calor em trabalho. Os processos principais consistem em dois processos isotérmicos e dois adiabáticos.\n",
    "\n",
    "No processo de expansão isotérmica, o fluido de trabalho, que pode ser gasoso ou não, é colocado em contato térmico com uma fonte de calor quente de temperatura constante. Durante esse processo, o fluido de trabalho absorve o calor da fonte quente, expandindo-se e realizando trabalho.\n",
    "\n",
    "Após a expansão isotérmica, segue-se o processo de expansão adiabática, no qual o fluido de trabalho é isolado termicamente, sem troca de calor com o ambiente externo. Nesse processo, o fluido continua a se expandir, resultando em uma diminuição da temperatura e pressão.\n",
    "\n",
    "Em seguida, temos o processo de compressão isotérmica, no qual o fluido de trabalho é colocado em contato com uma fonte de calor fria a temperatura constante. Isso faz com que o fluido libere calor para a fonte fria e sofra compressão, reduzindo seu volume e pressão enquanto realiza trabalho.\n",
    "\n",
    "Por fim, ocorre o processo de compressão adiabática, em que o fluido de trabalho é isolado termicamente novamente. Durante esse processo, o fluido continua a ser comprimido, sem troca de calor com o ambiente externo, resultando em um aumento da temperatura e pressão até que retorne ao estado inicial para reiniciar o ciclo.\n",
    "\n",
    "É importante destacar que o ciclo de Carnot é teórico e idealizado, assumindo que todos os processos são reversíveis, ou seja, sem perda de energia ou trocas de calor com o ambiente externo. Esse ciclo representa o limite superior de eficiência para qualquer máquina térmica operando entre duas temperaturas. A eficiência do ciclo de Carnot é definida pela `razão entre a diferença de temperatura entre as fontes quente e fria e a temperatura da fonte quente`."
   ]
  },
  {
   "cell_type": "markdown",
   "id": "a8796055-f4de-4026-9f14-dab1df324bd0",
   "metadata": {},
   "source": [
    "<font color='red'>Explicação bem genérica, sem nenhum vínculo ao resto de desafio e sem nenhum cálculo sobre o sistema elaborado para esse desafio.</font>"
   ]
  },
  {
   "cell_type": "markdown",
   "id": "1aec8a10-d4b3-4342-84f9-4760bde88e99",
   "metadata": {},
   "source": [
    "# <font color='red'> Conclusão dos corretores </font>\n",
    "<font color='red'>A equipe deu uma boa visão conceitual, seja do ciclo de Rankine ou do ciclo de Carnot. No entanto, não fizeram muito além das definições conceituais, sendo que algumas definições ainda estavam equivocadas. O grupo não conseguiu conectar o desafio aos anteriores, haja vista que nem mesmo definiu, nesse notebook, a entalpia gerada pela combustão dos compostos escolhidos anteriormente. Além disso, o grupo não definiu a massa de água utilizada, não definiu os pontos relevantes no diagrama TS, não definiu a temperatura máxima atingida no ciclo e nem a mínima. Por fim, como consequência disso, o grupo não calculou de fato a eficiência do ciclo de Rankine proposto e nem a eficiência teórica do ciclo de Carnot.</font>"
   ]
  },
  {
   "cell_type": "markdown",
   "id": "30c020e9-4aac-48e5-987f-5e034bb3cbc7",
   "metadata": {
    "id": "30c020e9-4aac-48e5-987f-5e034bb3cbc7"
   },
   "source": [
    "### Referências"
   ]
  },
  {
   "cell_type": "markdown",
   "id": "fa14db1c-cc89-4411-a5a2-ae609c0ccf53",
   "metadata": {
    "id": "fa14db1c-cc89-4411-a5a2-ae609c0ccf53"
   },
   "source": [
    "[1] https://www.ecourses.ou.edu/cgi-bin/ebook.cgi?topic=th&chap_sec=10.1&page=theory <br>\n",
    "[2] CENGEL, Yunus A.; BOLES, Michael A. Thermodynamics: An Engineering Approach. 5th edition <br>\n",
    "[3] SCHROEDER, Daniel V. An Introduction to Thermal Physics. First Edition. Addison-Wesley, 1999. <br>\n",
    "[4] https://www.arhse.com/rankine-cycle/ <br>\n",
    "[5] https://www.engineeringtoolbox.com/water-vapor-d_979.html"
   ]
  }
 ],
 "metadata": {
  "colab": {
   "provenance": []
  },
  "kernelspec": {
   "display_name": "ilumpy",
   "language": "python",
   "name": "ilumpy"
  },
  "language_info": {
   "codemirror_mode": {
    "name": "ipython",
    "version": 3
   },
   "file_extension": ".py",
   "mimetype": "text/x-python",
   "name": "python",
   "nbconvert_exporter": "python",
   "pygments_lexer": "ipython3",
   "version": "3.9.7"
  }
 },
 "nbformat": 4,
 "nbformat_minor": 5
}
